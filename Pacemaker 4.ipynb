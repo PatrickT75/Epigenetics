{
 "cells": [
  {
   "cell_type": "code",
   "execution_count": 1,
   "metadata": {},
   "outputs": [],
   "source": [
    "import pandas as pd\n",
    "import numpy as np\n",
    "import matplotlib.pyplot as plt\n",
    "import math\n",
    "import statistics"
   ]
  },
  {
   "cell_type": "code",
   "execution_count": 2,
   "metadata": {},
   "outputs": [],
   "source": [
    "from sklearn.model_selection import train_test_split\n",
    "from sklearn.model_selection import LeaveOneOut\n",
    "from sklearn.linear_model import LassoCV\n",
    "from sklearn.linear_model import LassoLars\n",
    "from sklearn.linear_model import LassoLarsCV\n",
    "\n",
    "from matplotlib import rc\n",
    "from scipy import optimize\n",
    "import scipy.stats as stats"
   ]
  },
  {
   "cell_type": "markdown",
   "metadata": {},
   "source": [
    "## Data Cleanup"
   ]
  },
  {
   "cell_type": "code",
   "execution_count": 121,
   "metadata": {},
   "outputs": [
    {
     "name": "stdout",
     "output_type": "stream",
     "text": [
      "Keep:  5609 \n",
      " [ True False  True ...  True  True False]\n"
     ]
    }
   ],
   "source": [
    "CG_table = pd.read_csv(\"methylation_used.csv\", header=None)\n",
    "CG_table = CG_table.drop(columns = 0)\n",
    "# print(\"First shape: \", CG_table.shape)\n",
    "# print(CG_table)\n",
    "# CG_table_short = CG_table[91:]\n",
    "\n",
    "isna = CG_table.isna().any()\n",
    "ones = np.ones((CG_table.shape[1]))\n",
    "keep = ones-isna\n",
    "keep = keep.to_numpy()\n",
    "keep = keep.astype(bool)\n",
    "\n",
    "CG_table = CG_table.dropna(axis = 'columns')\n",
    "\n",
    "UCLA_CG_table = CG_table[0:147]\n",
    "Wolves_CG_table = CG_table[147:]\n",
    "\n",
    "print(\"Keep: \", len(keep), \"\\n\", keep)"
   ]
  },
  {
   "cell_type": "code",
   "execution_count": 122,
   "metadata": {},
   "outputs": [
    {
     "name": "stdout",
     "output_type": "stream",
     "text": [
      "                           0         1                                 2   \\\n",
      "0     DogWolf00109_S110.CGmap  3.12E+13          English Springer Spaniel   \n",
      "1     DogWolf00110_S105.CGmap  3.12E+13          English Springer Spaniel   \n",
      "2      DogWolf00111_S89.CGmap  3.12E+13          English Springer Spaniel   \n",
      "3      DogWolf00112_S88.CGmap  3.12E+13  3/4 Alaskan Sled Dog+ 1/4 Saluki   \n",
      "4      DogWolf00113_S82.CGmap  3.12E+13  3/4 Alaskan Sled Dog+ 1/4 Saluki   \n",
      "..                        ...       ...                               ...   \n",
      "142  PK9-31201050607843.CGmap  3.12E+13                   Irish Wolfhound   \n",
      "143  PK9-31201050607844.CGmap  3.12E+13                          Chiuahua   \n",
      "144  PK9-31301050607662.CGmap  3.13E+13                       Bullmastiff   \n",
      "145     PK9-31_UCLACore.CGmap  3.10E+13                    FRENCH BULLDOG   \n",
      "146     PK9-32_UCLACore.CGmap  3.10E+13                    FRENCH BULLDOG   \n",
      "\n",
      "       3        4        5     6    7    8       9         10      11       12  \n",
      "0     6.8   FEMALE   35 lbs   Yes   35  NaN  0.0364  0.907818   6.661   6.6615  \n",
      "1    12.9   FEMALE   45 lbs   Yes   45  NaN  0.0490  0.887588  11.641  11.6405  \n",
      "2     5.6   FEMALE   45 lbs  Yes    45  NaN  0.0412  0.886450   6.475   6.4752  \n",
      "3     1.1   FEMALE   45 lbs   Yes   45  NaN  0.0623  0.851255   0.599   0.5993  \n",
      "4     1.1     MALE   42 lbs   Yes   42  NaN  0.0538  0.887959   1.125   1.1253  \n",
      "..    ...      ...      ...   ...  ...  ...     ...       ...     ...      ...  \n",
      "142   1.0  FEMALE   130 lbs    No  130  NaN  0.0423  0.867191   1.450   1.4500  \n",
      "143   2.3     MALE   12 lbs   Yes   12  NaN  0.0465  0.888744   0.459   0.4588  \n",
      "144   1.7     MALE  109 lbs   NaN  109  NaN  0.0447  0.863147   2.197   2.1971  \n",
      "145   2.0     MALE   30 lbs    NO   30  NaN  0.0588  0.867332   2.686   2.6865  \n",
      "146   0.4     MALE    9 lbs   NO     9  NaN  0.0540  0.871467  -0.644  -0.6436  \n",
      "\n",
      "[147 rows x 13 columns]\n"
     ]
    }
   ],
   "source": [
    "traits_short = pd.read_csv(\"traits_used.csv\", header=None)\n",
    "\n",
    "UCLA_traits = traits_short[0:147]\n",
    "Wolves_traits = traits_short[147:]\n",
    "\n",
    "print(UCLA_traits)"
   ]
  },
  {
   "cell_type": "code",
   "execution_count": 123,
   "metadata": {},
   "outputs": [
    {
     "name": "stdout",
     "output_type": "stream",
     "text": [
      "0       6.6615\n",
      "1      11.6405\n",
      "2       6.4752\n",
      "3       0.5993\n",
      "4       1.1253\n",
      "        ...   \n",
      "142     1.4500\n",
      "143     0.4588\n",
      "144     2.1971\n",
      "145     2.6865\n",
      "146    -0.6436\n",
      "Name: 12, Length: 147, dtype: float64\n"
     ]
    }
   ],
   "source": [
    "name_temp = UCLA_traits.loc[:,0]\n",
    "age_temp = UCLA_traits.loc[:,3]\n",
    "sex_temp = UCLA_traits.loc[:,4]\n",
    "spayed_temp = UCLA_traits.loc[:,6]\n",
    "weight_temp = UCLA_traits.loc[:,7]\n",
    "hetero_temp = UCLA_traits.loc[:,9]\n",
    "FOH_temp = UCLA_traits.loc[:,10]\n",
    "pred_ages_temp = UCLA_traits.loc[:,12]\n",
    "wolves_age_temp = Wolves_traits.loc[:,3]\n",
    "\n",
    "names = []\n",
    "ages = []\n",
    "sexes = []\n",
    "spayeds = []\n",
    "weights = []\n",
    "heteros = []\n",
    "FOHs = []\n",
    "wolves_ages = []\n",
    "\n",
    "\n",
    "for i in range(len(name_temp)):\n",
    "    names.append(name_temp[i])\n",
    "    ages.append(age_temp[i])\n",
    "    sexes.append(sex_temp[i])\n",
    "    spayeds.append(spayed_temp[i])\n",
    "    weights.append(weight_temp[i])\n",
    "    heteros.append(hetero_temp[i])\n",
    "    FOHs.append(FOH_temp[i])\n",
    "    \n",
    "for i in range(len(wolves_age_temp)):\n",
    "    wolves_ages.append(wolves_age_temp[i+147])\n",
    "\n",
    "names = np.array(names)\n",
    "ages = np.array(ages)\n",
    "sexes = np.array(sexes)\n",
    "weights = np.array(weights)\n",
    "spayeds = np.array(spayeds)\n",
    "heteros = np.array(heteros)\n",
    "FOHs = np.array(FOHs)\n",
    "wolves_ages = np.array(wolves_ages)\n",
    "\n",
    "print(pred_ages_temp)"
   ]
  },
  {
   "cell_type": "code",
   "execution_count": 6,
   "metadata": {},
   "outputs": [
    {
     "data": {
      "text/plain": [
       "[[25, 26, 54],\n",
       " [27, 28, 55],\n",
       " [29, 30, 56],\n",
       " [31, 32, 57],\n",
       " [33, 34, 58],\n",
       " [35, 36, 59],\n",
       " [37, 38, 60],\n",
       " [39, 40, 61],\n",
       " [41, 42, 62],\n",
       " [43, 44, 63],\n",
       " [45, 46, 64],\n",
       " [47, 48, 65],\n",
       " [49, 50, 66],\n",
       " [52, 53, 146]]"
      ]
     },
     "execution_count": 6,
     "metadata": {},
     "output_type": "execute_result"
    }
   ],
   "source": [
    "triplicates = [[25,26,54],[27,28,55],[29,30,56],[31,32,57],\\\n",
    "               [33,34,58],[35,36,59],[37,38,60],[39,40,61],\\\n",
    "               [41,42,62],[43,44,63],[45,46,64],[47,48,65],\\\n",
    "               [49,50,66],[52,53,146]]\n",
    "\n",
    "triplicates"
   ]
  },
  {
   "cell_type": "code",
   "execution_count": 7,
   "metadata": {},
   "outputs": [],
   "source": [
    "# coverages = pd.read_csv(\"dog_counts_217.csv\", header=None)\n",
    "# coverages_short = coverages[91:]\n",
    "# coverages_short = coverages_short.drop(columns = 0)\n",
    "# coverages_short = coverages_short.to_numpy()\n",
    "\n",
    "# print(\"Coverages: \\n\", coverages_short.shape)\n",
    "# print(coverages_short)\n",
    "\n",
    "# print(\"Keep: \\n\", keep.shape)\n",
    "# print(keep)"
   ]
  },
  {
   "cell_type": "code",
   "execution_count": 8,
   "metadata": {},
   "outputs": [],
   "source": [
    "# coverages_short_keep = coverages_short[:,keep]\n",
    "# print(coverages_short_keep.shape)\n",
    "# print(coverages_short_keep)\n",
    "\n",
    "# coverages_mean = coverages_short_keep.mean(axis = 0)\n",
    "# print(\"Means: \\n\", coverages_mean)"
   ]
  },
  {
   "cell_type": "code",
   "execution_count": 9,
   "metadata": {},
   "outputs": [],
   "source": [
    "def parser(coverage_means, quantile):\n",
    "    coverage_means_q = statistics.quantiles(coverage_means, n=quantile)[quantile-2]\n",
    "    best = coverage_means > coverage_means_q\n",
    "    return best"
   ]
  },
  {
   "cell_type": "code",
   "execution_count": 10,
   "metadata": {},
   "outputs": [],
   "source": [
    "# best = parser(coverages_mean, 3)\n",
    "# print(best)"
   ]
  },
  {
   "cell_type": "code",
   "execution_count": 67,
   "metadata": {},
   "outputs": [
    {
     "name": "stdout",
     "output_type": "stream",
     "text": [
      "(147, 2358)\n",
      "[[0.930715935 0.03125 0.083333333 ... 0.626865672 0.765625\n",
      "  0.8904109590000001]\n",
      " [0.91609589 0.073529412 0.030075188 ... 0.761904762 0.773913043\n",
      "  0.811926606]\n",
      " [0.935727788 0.098214286 0.025423729 ... 0.602094241 0.76875\n",
      "  0.8060200670000001]\n",
      " ...\n",
      " [0.806818182 0.004366812 0.007633588 ... 0.590909091 0.7657657659999999\n",
      "  0.669724771]\n",
      " [0.948837209 0.0 0.011235955 ... 0.611111111 0.6911764709999999\n",
      "  0.810714286]\n",
      " [0.923018868 0.002544529 0.05362776 ... 0.728323699 0.7300884959999999\n",
      "  0.8259803920000001]]\n"
     ]
    }
   ],
   "source": [
    "methylation = UCLA_CG_table.to_numpy()\n",
    "IDs = methylation[:,0]\n",
    "methylation = np.delete(methylation, 0, 1)\n",
    "# methylation = methylation[:,best]\n",
    "\n",
    "print(methylation.shape)\n",
    "print(methylation)"
   ]
  },
  {
   "cell_type": "markdown",
   "metadata": {},
   "source": [
    "## LARS Prediction"
   ]
  },
  {
   "cell_type": "code",
   "execution_count": 103,
   "metadata": {},
   "outputs": [],
   "source": [
    "def get_predictions(X_train, Y_train):\n",
    "    loo = LeaveOneOut()\n",
    "    predicted_ages = []\n",
    "\n",
    "    for train_index, test_index in loo.split(X_train):\n",
    "        X_retrain, X_retest = X_train[train_index], X_train[test_index]\n",
    "        \n",
    "        # MODIFY X_retrain and Y_retrain\n",
    "        IDcheck = np.ones(len(IDs))\n",
    "        dupIDs = IDs\n",
    "        for i in range(len(IDcheck)):\n",
    "            if IDs[test_index[0]] == dupIDs[i]:\n",
    "                IDcheck[i] = 0\n",
    "        IDcheck = np.delete(IDcheck, test_index[0])\n",
    "        \n",
    "        X_retrain2 = X_retrain[IDcheck.astype(bool)]\n",
    "        print(X_retrain2.shape)\n",
    "        \n",
    "        Y_retrain, Y_retest = Y_train[train_index], Y_train[test_index]\n",
    "        Y_retrain2 = Y_retrain[IDcheck.astype(bool)]\n",
    "        \n",
    "        lars = LassoLars(alpha = 0.001)\n",
    "        lars.fit(X_retrain2, Y_retrain2)\n",
    "        predicted_ages.append(lars.predict(X_retest)[0])\n",
    "    \n",
    "    return predicted_ages\n",
    "\n",
    "#Try lassolarsCV"
   ]
  },
  {
   "cell_type": "code",
   "execution_count": 109,
   "metadata": {},
   "outputs": [
    {
     "name": "stdout",
     "output_type": "stream",
     "text": [
      "[ 6.8 12.9  5.6  1.1  1.1  1.1  4.3 11.8  0.9  0.8  2.4 16.5 10.1  9.7\n",
      "  1.7  4.9 13.3 11.3  9.4  3.4  6.8  8.8 11.3  1.1  5.1  2.   2.  10.2\n",
      " 10.2  9.7  9.7  9.5  9.5  1.3  1.3  2.1  2.1 10.8 10.8  9.8  9.8  9.3\n",
      "  9.3  4.4  4.4  2.   2.   5.   5.   0.7  0.7  2.   0.4  0.4  2.  10.2\n",
      "  9.7  9.5  1.3  2.1 10.8  9.8  9.3  4.4  2.   5.   0.7  2.1  1.3  6.\n",
      "  9.8  2.2  3.6  1.   4.4  5.9  2.8  5.5  0.4  4.1 13.3  5.5  4.3  1.6\n",
      " 10.4  3.6  8.   9.9  0.7  1.6 11.8  6.5  0.9  2.2  5.8 12.1  7.3 12.1\n",
      "  5.1 10.9  4.2  0.8  8.5  3.7  2.6  1.9  0.9  1.1  0.5  1.3  6.7  9.3\n",
      "  3.5  9.   0.3  8.8  2.4  5.8  0.8  2.   4.6  4.9  7.7  9.   4.3  3.5\n",
      "  3.7  3.1  2.1 12.2  3.5 10.2 12.1  4.5 10.9  4.2  2.5  4.8  4.2  8.5\n",
      "  3.  11.8  1.   2.3  1.7  2.   0.4]\n",
      "(146, 2358)\n",
      "(146, 2358)\n"
     ]
    },
    {
     "name": "stderr",
     "output_type": "stream",
     "text": [
      "C:\\Users\\patri\\anaconda3\\lib\\site-packages\\sklearn\\linear_model\\_least_angle.py:571: ConvergenceWarning: Regressors in active set degenerate. Dropping a regressor, after 49 iterations, i.e. alpha=3.859e-03, with an active set of 41 regressors, and the smallest cholesky pivot element being 2.107e-08. Reduce max_iter or increase eps parameters.\n",
      "  warnings.warn('Regressors in active set degenerate. '\n",
      "C:\\Users\\patri\\anaconda3\\lib\\site-packages\\sklearn\\linear_model\\_least_angle.py:571: ConvergenceWarning: Regressors in active set degenerate. Dropping a regressor, after 132 iterations, i.e. alpha=1.161e-03, with an active set of 92 regressors, and the smallest cholesky pivot element being 1.825e-08. Reduce max_iter or increase eps parameters.\n",
      "  warnings.warn('Regressors in active set degenerate. '\n",
      "C:\\Users\\patri\\anaconda3\\lib\\site-packages\\sklearn\\linear_model\\_least_angle.py:571: ConvergenceWarning: Regressors in active set degenerate. Dropping a regressor, after 104 iterations, i.e. alpha=1.803e-03, with an active set of 78 regressors, and the smallest cholesky pivot element being 1.490e-08. Reduce max_iter or increase eps parameters.\n",
      "  warnings.warn('Regressors in active set degenerate. '\n"
     ]
    },
    {
     "name": "stdout",
     "output_type": "stream",
     "text": [
      "(146, 2358)\n",
      "(146, 2358)\n"
     ]
    },
    {
     "name": "stderr",
     "output_type": "stream",
     "text": [
      "C:\\Users\\patri\\anaconda3\\lib\\site-packages\\sklearn\\linear_model\\_least_angle.py:571: ConvergenceWarning: Regressors in active set degenerate. Dropping a regressor, after 48 iterations, i.e. alpha=3.842e-03, with an active set of 38 regressors, and the smallest cholesky pivot element being 1.054e-08. Reduce max_iter or increase eps parameters.\n",
      "  warnings.warn('Regressors in active set degenerate. '\n",
      "C:\\Users\\patri\\anaconda3\\lib\\site-packages\\sklearn\\linear_model\\_least_angle.py:571: ConvergenceWarning: Regressors in active set degenerate. Dropping a regressor, after 78 iterations, i.e. alpha=2.252e-03, with an active set of 62 regressors, and the smallest cholesky pivot element being 1.490e-08. Reduce max_iter or increase eps parameters.\n",
      "  warnings.warn('Regressors in active set degenerate. '\n",
      "C:\\Users\\patri\\anaconda3\\lib\\site-packages\\sklearn\\linear_model\\_least_angle.py:571: ConvergenceWarning: Regressors in active set degenerate. Dropping a regressor, after 88 iterations, i.e. alpha=1.934e-03, with an active set of 70 regressors, and the smallest cholesky pivot element being 1.490e-08. Reduce max_iter or increase eps parameters.\n",
      "  warnings.warn('Regressors in active set degenerate. '\n",
      "C:\\Users\\patri\\anaconda3\\lib\\site-packages\\sklearn\\linear_model\\_least_angle.py:571: ConvergenceWarning: Regressors in active set degenerate. Dropping a regressor, after 47 iterations, i.e. alpha=3.889e-03, with an active set of 39 regressors, and the smallest cholesky pivot element being 2.107e-08. Reduce max_iter or increase eps parameters.\n",
      "  warnings.warn('Regressors in active set degenerate. '\n",
      "C:\\Users\\patri\\anaconda3\\lib\\site-packages\\sklearn\\linear_model\\_least_angle.py:571: ConvergenceWarning: Regressors in active set degenerate. Dropping a regressor, after 88 iterations, i.e. alpha=2.238e-03, with an active set of 68 regressors, and the smallest cholesky pivot element being 1.825e-08. Reduce max_iter or increase eps parameters.\n",
      "  warnings.warn('Regressors in active set degenerate. '\n",
      "C:\\Users\\patri\\anaconda3\\lib\\site-packages\\sklearn\\linear_model\\_least_angle.py:598: ConvergenceWarning: Early stopping the lars path, as the residues are small and the current value of alpha is no longer well controlled. 122 iterations, alpha=1.354e-03, previous alpha=1.344e-03, with an active set of 91 regressors.\n",
      "  warnings.warn('Early stopping the lars path, as the residues '\n"
     ]
    },
    {
     "name": "stdout",
     "output_type": "stream",
     "text": [
      "(146, 2358)\n",
      "(146, 2358)\n",
      "(146, 2358)\n"
     ]
    },
    {
     "name": "stderr",
     "output_type": "stream",
     "text": [
      "C:\\Users\\patri\\anaconda3\\lib\\site-packages\\sklearn\\linear_model\\_least_angle.py:571: ConvergenceWarning: Regressors in active set degenerate. Dropping a regressor, after 50 iterations, i.e. alpha=3.803e-03, with an active set of 42 regressors, and the smallest cholesky pivot element being 2.220e-16. Reduce max_iter or increase eps parameters.\n",
      "  warnings.warn('Regressors in active set degenerate. '\n",
      "C:\\Users\\patri\\anaconda3\\lib\\site-packages\\sklearn\\linear_model\\_least_angle.py:571: ConvergenceWarning: Regressors in active set degenerate. Dropping a regressor, after 64 iterations, i.e. alpha=3.076e-03, with an active set of 50 regressors, and the smallest cholesky pivot element being 2.107e-08. Reduce max_iter or increase eps parameters.\n",
      "  warnings.warn('Regressors in active set degenerate. '\n",
      "C:\\Users\\patri\\anaconda3\\lib\\site-packages\\sklearn\\linear_model\\_least_angle.py:571: ConvergenceWarning: Regressors in active set degenerate. Dropping a regressor, after 65 iterations, i.e. alpha=3.071e-03, with an active set of 51 regressors, and the smallest cholesky pivot element being 2.107e-08. Reduce max_iter or increase eps parameters.\n",
      "  warnings.warn('Regressors in active set degenerate. '\n",
      "C:\\Users\\patri\\anaconda3\\lib\\site-packages\\sklearn\\linear_model\\_least_angle.py:598: ConvergenceWarning: Early stopping the lars path, as the residues are small and the current value of alpha is no longer well controlled. 66 iterations, alpha=3.061e-03, previous alpha=3.046e-03, with an active set of 51 regressors.\n",
      "  warnings.warn('Early stopping the lars path, as the residues '\n",
      "C:\\Users\\patri\\anaconda3\\lib\\site-packages\\sklearn\\linear_model\\_least_angle.py:571: ConvergenceWarning: Regressors in active set degenerate. Dropping a regressor, after 61 iterations, i.e. alpha=3.206e-03, with an active set of 47 regressors, and the smallest cholesky pivot element being 2.220e-16. Reduce max_iter or increase eps parameters.\n",
      "  warnings.warn('Regressors in active set degenerate. '\n",
      "C:\\Users\\patri\\anaconda3\\lib\\site-packages\\sklearn\\linear_model\\_least_angle.py:571: ConvergenceWarning: Regressors in active set degenerate. Dropping a regressor, after 62 iterations, i.e. alpha=3.199e-03, with an active set of 48 regressors, and the smallest cholesky pivot element being 2.220e-16. Reduce max_iter or increase eps parameters.\n",
      "  warnings.warn('Regressors in active set degenerate. '\n",
      "C:\\Users\\patri\\anaconda3\\lib\\site-packages\\sklearn\\linear_model\\_least_angle.py:598: ConvergenceWarning: Early stopping the lars path, as the residues are small and the current value of alpha is no longer well controlled. 65 iterations, alpha=2.926e-03, previous alpha=2.921e-03, with an active set of 50 regressors.\n",
      "  warnings.warn('Early stopping the lars path, as the residues '\n",
      "C:\\Users\\patri\\anaconda3\\lib\\site-packages\\sklearn\\linear_model\\_least_angle.py:571: ConvergenceWarning: Regressors in active set degenerate. Dropping a regressor, after 51 iterations, i.e. alpha=3.677e-03, with an active set of 43 regressors, and the smallest cholesky pivot element being 1.490e-08. Reduce max_iter or increase eps parameters.\n",
      "  warnings.warn('Regressors in active set degenerate. '\n",
      "C:\\Users\\patri\\anaconda3\\lib\\site-packages\\sklearn\\linear_model\\_least_angle.py:571: ConvergenceWarning: Regressors in active set degenerate. Dropping a regressor, after 80 iterations, i.e. alpha=2.283e-03, with an active set of 66 regressors, and the smallest cholesky pivot element being 2.356e-08. Reduce max_iter or increase eps parameters.\n",
      "  warnings.warn('Regressors in active set degenerate. '\n",
      "C:\\Users\\patri\\anaconda3\\lib\\site-packages\\sklearn\\linear_model\\_least_angle.py:571: ConvergenceWarning: Regressors in active set degenerate. Dropping a regressor, after 108 iterations, i.e. alpha=1.387e-03, with an active set of 84 regressors, and the smallest cholesky pivot element being 1.490e-08. Reduce max_iter or increase eps parameters.\n",
      "  warnings.warn('Regressors in active set degenerate. '\n",
      "C:\\Users\\patri\\anaconda3\\lib\\site-packages\\sklearn\\linear_model\\_least_angle.py:571: ConvergenceWarning: Regressors in active set degenerate. Dropping a regressor, after 109 iterations, i.e. alpha=1.385e-03, with an active set of 85 regressors, and the smallest cholesky pivot element being 1.490e-08. Reduce max_iter or increase eps parameters.\n",
      "  warnings.warn('Regressors in active set degenerate. '\n",
      "C:\\Users\\patri\\anaconda3\\lib\\site-packages\\sklearn\\linear_model\\_least_angle.py:571: ConvergenceWarning: Regressors in active set degenerate. Dropping a regressor, after 55 iterations, i.e. alpha=3.407e-03, with an active set of 45 regressors, and the smallest cholesky pivot element being 2.220e-16. Reduce max_iter or increase eps parameters.\n",
      "  warnings.warn('Regressors in active set degenerate. '\n",
      "C:\\Users\\patri\\anaconda3\\lib\\site-packages\\sklearn\\linear_model\\_least_angle.py:571: ConvergenceWarning: Regressors in active set degenerate. Dropping a regressor, after 122 iterations, i.e. alpha=1.294e-03, with an active set of 92 regressors, and the smallest cholesky pivot element being 1.054e-08. Reduce max_iter or increase eps parameters.\n",
      "  warnings.warn('Regressors in active set degenerate. '\n"
     ]
    },
    {
     "name": "stdout",
     "output_type": "stream",
     "text": [
      "(146, 2358)\n",
      "(146, 2358)\n"
     ]
    },
    {
     "name": "stderr",
     "output_type": "stream",
     "text": [
      "C:\\Users\\patri\\anaconda3\\lib\\site-packages\\sklearn\\linear_model\\_least_angle.py:571: ConvergenceWarning: Regressors in active set degenerate. Dropping a regressor, after 49 iterations, i.e. alpha=3.780e-03, with an active set of 41 regressors, and the smallest cholesky pivot element being 2.220e-16. Reduce max_iter or increase eps parameters.\n",
      "  warnings.warn('Regressors in active set degenerate. '\n",
      "C:\\Users\\patri\\anaconda3\\lib\\site-packages\\sklearn\\linear_model\\_least_angle.py:571: ConvergenceWarning: Regressors in active set degenerate. Dropping a regressor, after 137 iterations, i.e. alpha=1.086e-03, with an active set of 93 regressors, and the smallest cholesky pivot element being 2.107e-08. Reduce max_iter or increase eps parameters.\n",
      "  warnings.warn('Regressors in active set degenerate. '\n",
      "C:\\Users\\patri\\anaconda3\\lib\\site-packages\\sklearn\\linear_model\\_least_angle.py:571: ConvergenceWarning: Regressors in active set degenerate. Dropping a regressor, after 51 iterations, i.e. alpha=3.747e-03, with an active set of 41 regressors, and the smallest cholesky pivot element being 1.490e-08. Reduce max_iter or increase eps parameters.\n",
      "  warnings.warn('Regressors in active set degenerate. '\n",
      "C:\\Users\\patri\\anaconda3\\lib\\site-packages\\sklearn\\linear_model\\_least_angle.py:571: ConvergenceWarning: Regressors in active set degenerate. Dropping a regressor, after 146 iterations, i.e. alpha=1.071e-03, with an active set of 96 regressors, and the smallest cholesky pivot element being 2.581e-08. Reduce max_iter or increase eps parameters.\n",
      "  warnings.warn('Regressors in active set degenerate. '\n"
     ]
    },
    {
     "name": "stdout",
     "output_type": "stream",
     "text": [
      "(146, 2358)\n",
      "(146, 2358)\n"
     ]
    },
    {
     "name": "stderr",
     "output_type": "stream",
     "text": [
      "C:\\Users\\patri\\anaconda3\\lib\\site-packages\\sklearn\\linear_model\\_least_angle.py:571: ConvergenceWarning: Regressors in active set degenerate. Dropping a regressor, after 146 iterations, i.e. alpha=1.070e-03, with an active set of 96 regressors, and the smallest cholesky pivot element being 2.581e-08. Reduce max_iter or increase eps parameters.\n",
      "  warnings.warn('Regressors in active set degenerate. '\n",
      "C:\\Users\\patri\\anaconda3\\lib\\site-packages\\sklearn\\linear_model\\_least_angle.py:571: ConvergenceWarning: Regressors in active set degenerate. Dropping a regressor, after 48 iterations, i.e. alpha=3.791e-03, with an active set of 40 regressors, and the smallest cholesky pivot element being 1.490e-08. Reduce max_iter or increase eps parameters.\n",
      "  warnings.warn('Regressors in active set degenerate. '\n",
      "C:\\Users\\patri\\anaconda3\\lib\\site-packages\\sklearn\\linear_model\\_least_angle.py:571: ConvergenceWarning: Regressors in active set degenerate. Dropping a regressor, after 90 iterations, i.e. alpha=1.966e-03, with an active set of 74 regressors, and the smallest cholesky pivot element being 1.825e-08. Reduce max_iter or increase eps parameters.\n",
      "  warnings.warn('Regressors in active set degenerate. '\n",
      "C:\\Users\\patri\\anaconda3\\lib\\site-packages\\sklearn\\linear_model\\_least_angle.py:571: ConvergenceWarning: Regressors in active set degenerate. Dropping a regressor, after 107 iterations, i.e. alpha=1.471e-03, with an active set of 87 regressors, and the smallest cholesky pivot element being 1.825e-08. Reduce max_iter or increase eps parameters.\n",
      "  warnings.warn('Regressors in active set degenerate. '\n"
     ]
    },
    {
     "name": "stdout",
     "output_type": "stream",
     "text": [
      "(146, 2358)\n",
      "(146, 2358)\n"
     ]
    },
    {
     "name": "stderr",
     "output_type": "stream",
     "text": [
      "C:\\Users\\patri\\anaconda3\\lib\\site-packages\\sklearn\\linear_model\\_least_angle.py:571: ConvergenceWarning: Regressors in active set degenerate. Dropping a regressor, after 48 iterations, i.e. alpha=3.930e-03, with an active set of 42 regressors, and the smallest cholesky pivot element being 2.220e-16. Reduce max_iter or increase eps parameters.\n",
      "  warnings.warn('Regressors in active set degenerate. '\n",
      "C:\\Users\\patri\\anaconda3\\lib\\site-packages\\sklearn\\linear_model\\_least_angle.py:571: ConvergenceWarning: Regressors in active set degenerate. Dropping a regressor, after 57 iterations, i.e. alpha=3.232e-03, with an active set of 47 regressors, and the smallest cholesky pivot element being 1.490e-08. Reduce max_iter or increase eps parameters.\n",
      "  warnings.warn('Regressors in active set degenerate. '\n",
      "C:\\Users\\patri\\anaconda3\\lib\\site-packages\\sklearn\\linear_model\\_least_angle.py:598: ConvergenceWarning: Early stopping the lars path, as the residues are small and the current value of alpha is no longer well controlled. 77 iterations, alpha=2.731e-03, previous alpha=2.725e-03, with an active set of 62 regressors.\n",
      "  warnings.warn('Early stopping the lars path, as the residues '\n",
      "C:\\Users\\patri\\anaconda3\\lib\\site-packages\\sklearn\\linear_model\\_least_angle.py:571: ConvergenceWarning: Regressors in active set degenerate. Dropping a regressor, after 46 iterations, i.e. alpha=4.203e-03, with an active set of 38 regressors, and the smallest cholesky pivot element being 2.356e-08. Reduce max_iter or increase eps parameters.\n",
      "  warnings.warn('Regressors in active set degenerate. '\n",
      "C:\\Users\\patri\\anaconda3\\lib\\site-packages\\sklearn\\linear_model\\_least_angle.py:571: ConvergenceWarning: Regressors in active set degenerate. Dropping a regressor, after 70 iterations, i.e. alpha=2.529e-03, with an active set of 56 regressors, and the smallest cholesky pivot element being 2.581e-08. Reduce max_iter or increase eps parameters.\n",
      "  warnings.warn('Regressors in active set degenerate. '\n",
      "C:\\Users\\patri\\anaconda3\\lib\\site-packages\\sklearn\\linear_model\\_least_angle.py:571: ConvergenceWarning: Regressors in active set degenerate. Dropping a regressor, after 98 iterations, i.e. alpha=1.543e-03, with an active set of 80 regressors, and the smallest cholesky pivot element being 2.788e-08. Reduce max_iter or increase eps parameters.\n",
      "  warnings.warn('Regressors in active set degenerate. '\n",
      "C:\\Users\\patri\\anaconda3\\lib\\site-packages\\sklearn\\linear_model\\_least_angle.py:598: ConvergenceWarning: Early stopping the lars path, as the residues are small and the current value of alpha is no longer well controlled. 104 iterations, alpha=1.443e-03, previous alpha=1.440e-03, with an active set of 85 regressors.\n",
      "  warnings.warn('Early stopping the lars path, as the residues '\n"
     ]
    },
    {
     "name": "stdout",
     "output_type": "stream",
     "text": [
      "(146, 2358)\n",
      "(146, 2358)\n"
     ]
    },
    {
     "name": "stderr",
     "output_type": "stream",
     "text": [
      "C:\\Users\\patri\\anaconda3\\lib\\site-packages\\sklearn\\linear_model\\_least_angle.py:571: ConvergenceWarning: Regressors in active set degenerate. Dropping a regressor, after 45 iterations, i.e. alpha=4.002e-03, with an active set of 35 regressors, and the smallest cholesky pivot element being 2.980e-08. Reduce max_iter or increase eps parameters.\n",
      "  warnings.warn('Regressors in active set degenerate. '\n",
      "C:\\Users\\patri\\anaconda3\\lib\\site-packages\\sklearn\\linear_model\\_least_angle.py:571: ConvergenceWarning: Regressors in active set degenerate. Dropping a regressor, after 83 iterations, i.e. alpha=2.246e-03, with an active set of 63 regressors, and the smallest cholesky pivot element being 1.054e-08. Reduce max_iter or increase eps parameters.\n",
      "  warnings.warn('Regressors in active set degenerate. '\n",
      "C:\\Users\\patri\\anaconda3\\lib\\site-packages\\sklearn\\linear_model\\_least_angle.py:571: ConvergenceWarning: Regressors in active set degenerate. Dropping a regressor, after 122 iterations, i.e. alpha=1.344e-03, with an active set of 90 regressors, and the smallest cholesky pivot element being 2.107e-08. Reduce max_iter or increase eps parameters.\n",
      "  warnings.warn('Regressors in active set degenerate. '\n"
     ]
    },
    {
     "name": "stdout",
     "output_type": "stream",
     "text": [
      "(146, 2358)\n",
      "(146, 2358)\n"
     ]
    },
    {
     "name": "stderr",
     "output_type": "stream",
     "text": [
      "C:\\Users\\patri\\anaconda3\\lib\\site-packages\\sklearn\\linear_model\\_least_angle.py:571: ConvergenceWarning: Regressors in active set degenerate. Dropping a regressor, after 49 iterations, i.e. alpha=3.604e-03, with an active set of 39 regressors, and the smallest cholesky pivot element being 1.490e-08. Reduce max_iter or increase eps parameters.\n",
      "  warnings.warn('Regressors in active set degenerate. '\n",
      "C:\\Users\\patri\\anaconda3\\lib\\site-packages\\sklearn\\linear_model\\_least_angle.py:571: ConvergenceWarning: Regressors in active set degenerate. Dropping a regressor, after 88 iterations, i.e. alpha=2.071e-03, with an active set of 72 regressors, and the smallest cholesky pivot element being 1.490e-08. Reduce max_iter or increase eps parameters.\n",
      "  warnings.warn('Regressors in active set degenerate. '\n",
      "C:\\Users\\patri\\anaconda3\\lib\\site-packages\\sklearn\\linear_model\\_least_angle.py:598: ConvergenceWarning: Early stopping the lars path, as the residues are small and the current value of alpha is no longer well controlled. 93 iterations, alpha=1.897e-03, previous alpha=1.896e-03, with an active set of 76 regressors.\n",
      "  warnings.warn('Early stopping the lars path, as the residues '\n",
      "C:\\Users\\patri\\anaconda3\\lib\\site-packages\\sklearn\\linear_model\\_least_angle.py:571: ConvergenceWarning: Regressors in active set degenerate. Dropping a regressor, after 50 iterations, i.e. alpha=3.805e-03, with an active set of 42 regressors, and the smallest cholesky pivot element being 2.220e-16. Reduce max_iter or increase eps parameters.\n",
      "  warnings.warn('Regressors in active set degenerate. '\n",
      "C:\\Users\\patri\\anaconda3\\lib\\site-packages\\sklearn\\linear_model\\_least_angle.py:571: ConvergenceWarning: Regressors in active set degenerate. Dropping a regressor, after 63 iterations, i.e. alpha=3.105e-03, with an active set of 53 regressors, and the smallest cholesky pivot element being 2.220e-16. Reduce max_iter or increase eps parameters.\n",
      "  warnings.warn('Regressors in active set degenerate. '\n",
      "C:\\Users\\patri\\anaconda3\\lib\\site-packages\\sklearn\\linear_model\\_least_angle.py:598: ConvergenceWarning: Early stopping the lars path, as the residues are small and the current value of alpha is no longer well controlled. 69 iterations, alpha=2.951e-03, previous alpha=2.947e-03, with an active set of 56 regressors.\n",
      "  warnings.warn('Early stopping the lars path, as the residues '\n"
     ]
    },
    {
     "name": "stdout",
     "output_type": "stream",
     "text": [
      "(146, 2358)\n",
      "(146, 2358)\n"
     ]
    },
    {
     "name": "stderr",
     "output_type": "stream",
     "text": [
      "C:\\Users\\patri\\anaconda3\\lib\\site-packages\\sklearn\\linear_model\\_least_angle.py:571: ConvergenceWarning: Regressors in active set degenerate. Dropping a regressor, after 44 iterations, i.e. alpha=3.870e-03, with an active set of 36 regressors, and the smallest cholesky pivot element being 1.490e-08. Reduce max_iter or increase eps parameters.\n",
      "  warnings.warn('Regressors in active set degenerate. '\n",
      "C:\\Users\\patri\\anaconda3\\lib\\site-packages\\sklearn\\linear_model\\_least_angle.py:571: ConvergenceWarning: Regressors in active set degenerate. Dropping a regressor, after 80 iterations, i.e. alpha=2.478e-03, with an active set of 64 regressors, and the smallest cholesky pivot element being 1.054e-08. Reduce max_iter or increase eps parameters.\n",
      "  warnings.warn('Regressors in active set degenerate. '\n",
      "C:\\Users\\patri\\anaconda3\\lib\\site-packages\\sklearn\\linear_model\\_least_angle.py:571: ConvergenceWarning: Regressors in active set degenerate. Dropping a regressor, after 84 iterations, i.e. alpha=2.407e-03, with an active set of 64 regressors, and the smallest cholesky pivot element being 1.054e-08. Reduce max_iter or increase eps parameters.\n",
      "  warnings.warn('Regressors in active set degenerate. '\n",
      "C:\\Users\\patri\\anaconda3\\lib\\site-packages\\sklearn\\linear_model\\_least_angle.py:571: ConvergenceWarning: Regressors in active set degenerate. Dropping a regressor, after 85 iterations, i.e. alpha=2.405e-03, with an active set of 65 regressors, and the smallest cholesky pivot element being 1.054e-08. Reduce max_iter or increase eps parameters.\n",
      "  warnings.warn('Regressors in active set degenerate. '\n",
      "C:\\Users\\patri\\anaconda3\\lib\\site-packages\\sklearn\\linear_model\\_least_angle.py:571: ConvergenceWarning: Regressors in active set degenerate. Dropping a regressor, after 115 iterations, i.e. alpha=1.360e-03, with an active set of 89 regressors, and the smallest cholesky pivot element being 2.356e-08. Reduce max_iter or increase eps parameters.\n",
      "  warnings.warn('Regressors in active set degenerate. '\n",
      "C:\\Users\\patri\\anaconda3\\lib\\site-packages\\sklearn\\linear_model\\_least_angle.py:571: ConvergenceWarning: Regressors in active set degenerate. Dropping a regressor, after 115 iterations, i.e. alpha=1.359e-03, with an active set of 89 regressors, and the smallest cholesky pivot element being 2.356e-08. Reduce max_iter or increase eps parameters.\n",
      "  warnings.warn('Regressors in active set degenerate. '\n",
      "C:\\Users\\patri\\anaconda3\\lib\\site-packages\\sklearn\\linear_model\\_least_angle.py:598: ConvergenceWarning: Early stopping the lars path, as the residues are small and the current value of alpha is no longer well controlled. 166 iterations, alpha=1.133e-03, previous alpha=1.126e-03, with an active set of 93 regressors.\n",
      "  warnings.warn('Early stopping the lars path, as the residues '\n",
      "C:\\Users\\patri\\anaconda3\\lib\\site-packages\\sklearn\\linear_model\\_least_angle.py:571: ConvergenceWarning: Regressors in active set degenerate. Dropping a regressor, after 67 iterations, i.e. alpha=2.839e-03, with an active set of 51 regressors, and the smallest cholesky pivot element being 1.490e-08. Reduce max_iter or increase eps parameters.\n",
      "  warnings.warn('Regressors in active set degenerate. '\n",
      "C:\\Users\\patri\\anaconda3\\lib\\site-packages\\sklearn\\linear_model\\_least_angle.py:571: ConvergenceWarning: Regressors in active set degenerate. Dropping a regressor, after 68 iterations, i.e. alpha=2.834e-03, with an active set of 52 regressors, and the smallest cholesky pivot element being 1.490e-08. Reduce max_iter or increase eps parameters.\n",
      "  warnings.warn('Regressors in active set degenerate. '\n",
      "C:\\Users\\patri\\anaconda3\\lib\\site-packages\\sklearn\\linear_model\\_least_angle.py:571: ConvergenceWarning: Regressors in active set degenerate. Dropping a regressor, after 90 iterations, i.e. alpha=2.080e-03, with an active set of 72 regressors, and the smallest cholesky pivot element being 2.220e-16. Reduce max_iter or increase eps parameters.\n",
      "  warnings.warn('Regressors in active set degenerate. '\n",
      "C:\\Users\\patri\\anaconda3\\lib\\site-packages\\sklearn\\linear_model\\_least_angle.py:571: ConvergenceWarning: Regressors in active set degenerate. Dropping a regressor, after 114 iterations, i.e. alpha=1.404e-03, with an active set of 88 regressors, and the smallest cholesky pivot element being 2.220e-16. Reduce max_iter or increase eps parameters.\n",
      "  warnings.warn('Regressors in active set degenerate. '\n",
      "C:\\Users\\patri\\anaconda3\\lib\\site-packages\\sklearn\\linear_model\\_least_angle.py:571: ConvergenceWarning: Regressors in active set degenerate. Dropping a regressor, after 115 iterations, i.e. alpha=1.402e-03, with an active set of 89 regressors, and the smallest cholesky pivot element being 2.220e-16. Reduce max_iter or increase eps parameters.\n",
      "  warnings.warn('Regressors in active set degenerate. '\n",
      "C:\\Users\\patri\\anaconda3\\lib\\site-packages\\sklearn\\linear_model\\_least_angle.py:598: ConvergenceWarning: Early stopping the lars path, as the residues are small and the current value of alpha is no longer well controlled. 119 iterations, alpha=1.383e-03, previous alpha=1.382e-03, with an active set of 90 regressors.\n",
      "  warnings.warn('Early stopping the lars path, as the residues '\n",
      "C:\\Users\\patri\\anaconda3\\lib\\site-packages\\sklearn\\linear_model\\_least_angle.py:571: ConvergenceWarning: Regressors in active set degenerate. Dropping a regressor, after 75 iterations, i.e. alpha=2.543e-03, with an active set of 57 regressors, and the smallest cholesky pivot element being 2.220e-16. Reduce max_iter or increase eps parameters.\n",
      "  warnings.warn('Regressors in active set degenerate. '\n",
      "C:\\Users\\patri\\anaconda3\\lib\\site-packages\\sklearn\\linear_model\\_least_angle.py:571: ConvergenceWarning: Regressors in active set degenerate. Dropping a regressor, after 76 iterations, i.e. alpha=2.542e-03, with an active set of 58 regressors, and the smallest cholesky pivot element being 2.220e-16. Reduce max_iter or increase eps parameters.\n",
      "  warnings.warn('Regressors in active set degenerate. '\n",
      "C:\\Users\\patri\\anaconda3\\lib\\site-packages\\sklearn\\linear_model\\_least_angle.py:571: ConvergenceWarning: Regressors in active set degenerate. Dropping a regressor, after 76 iterations, i.e. alpha=2.541e-03, with an active set of 58 regressors, and the smallest cholesky pivot element being 2.220e-16. Reduce max_iter or increase eps parameters.\n",
      "  warnings.warn('Regressors in active set degenerate. '\n",
      "C:\\Users\\patri\\anaconda3\\lib\\site-packages\\sklearn\\linear_model\\_least_angle.py:598: ConvergenceWarning: Early stopping the lars path, as the residues are small and the current value of alpha is no longer well controlled. 85 iterations, alpha=2.318e-03, previous alpha=2.318e-03, with an active set of 66 regressors.\n",
      "  warnings.warn('Early stopping the lars path, as the residues '\n",
      "C:\\Users\\patri\\anaconda3\\lib\\site-packages\\sklearn\\linear_model\\_least_angle.py:571: ConvergenceWarning: Regressors in active set degenerate. Dropping a regressor, after 55 iterations, i.e. alpha=3.657e-03, with an active set of 41 regressors, and the smallest cholesky pivot element being 3.942e-08. Reduce max_iter or increase eps parameters.\n",
      "  warnings.warn('Regressors in active set degenerate. '\n"
     ]
    },
    {
     "name": "stdout",
     "output_type": "stream",
     "text": [
      "(146, 2358)\n",
      "(146, 2358)\n"
     ]
    },
    {
     "name": "stderr",
     "output_type": "stream",
     "text": [
      "C:\\Users\\patri\\anaconda3\\lib\\site-packages\\sklearn\\linear_model\\_least_angle.py:571: ConvergenceWarning: Regressors in active set degenerate. Dropping a regressor, after 140 iterations, i.e. alpha=1.077e-03, with an active set of 92 regressors, and the smallest cholesky pivot element being 2.107e-08. Reduce max_iter or increase eps parameters.\n",
      "  warnings.warn('Regressors in active set degenerate. '\n",
      "C:\\Users\\patri\\anaconda3\\lib\\site-packages\\sklearn\\linear_model\\_least_angle.py:571: ConvergenceWarning: Regressors in active set degenerate. Dropping a regressor, after 54 iterations, i.e. alpha=3.347e-03, with an active set of 44 regressors, and the smallest cholesky pivot element being 2.220e-16. Reduce max_iter or increase eps parameters.\n",
      "  warnings.warn('Regressors in active set degenerate. '\n",
      "C:\\Users\\patri\\anaconda3\\lib\\site-packages\\sklearn\\linear_model\\_least_angle.py:571: ConvergenceWarning: Regressors in active set degenerate. Dropping a regressor, after 96 iterations, i.e. alpha=1.790e-03, with an active set of 76 regressors, and the smallest cholesky pivot element being 2.220e-16. Reduce max_iter or increase eps parameters.\n",
      "  warnings.warn('Regressors in active set degenerate. '\n",
      "C:\\Users\\patri\\anaconda3\\lib\\site-packages\\sklearn\\linear_model\\_least_angle.py:571: ConvergenceWarning: Regressors in active set degenerate. Dropping a regressor, after 96 iterations, i.e. alpha=1.788e-03, with an active set of 76 regressors, and the smallest cholesky pivot element being 2.220e-16. Reduce max_iter or increase eps parameters.\n",
      "  warnings.warn('Regressors in active set degenerate. '\n"
     ]
    },
    {
     "name": "stdout",
     "output_type": "stream",
     "text": [
      "(146, 2358)\n",
      "(146, 2358)\n"
     ]
    },
    {
     "name": "stderr",
     "output_type": "stream",
     "text": [
      "C:\\Users\\patri\\anaconda3\\lib\\site-packages\\sklearn\\linear_model\\_least_angle.py:571: ConvergenceWarning: Regressors in active set degenerate. Dropping a regressor, after 52 iterations, i.e. alpha=3.601e-03, with an active set of 42 regressors, and the smallest cholesky pivot element being 2.581e-08. Reduce max_iter or increase eps parameters.\n",
      "  warnings.warn('Regressors in active set degenerate. '\n",
      "C:\\Users\\patri\\anaconda3\\lib\\site-packages\\sklearn\\linear_model\\_least_angle.py:571: ConvergenceWarning: Regressors in active set degenerate. Dropping a regressor, after 69 iterations, i.e. alpha=2.957e-03, with an active set of 51 regressors, and the smallest cholesky pivot element being 2.581e-08. Reduce max_iter or increase eps parameters.\n",
      "  warnings.warn('Regressors in active set degenerate. '\n",
      "C:\\Users\\patri\\anaconda3\\lib\\site-packages\\sklearn\\linear_model\\_least_angle.py:571: ConvergenceWarning: Regressors in active set degenerate. Dropping a regressor, after 70 iterations, i.e. alpha=2.947e-03, with an active set of 52 regressors, and the smallest cholesky pivot element being 2.581e-08. Reduce max_iter or increase eps parameters.\n",
      "  warnings.warn('Regressors in active set degenerate. '\n",
      "C:\\Users\\patri\\anaconda3\\lib\\site-packages\\sklearn\\linear_model\\_least_angle.py:598: ConvergenceWarning: Early stopping the lars path, as the residues are small and the current value of alpha is no longer well controlled. 79 iterations, alpha=2.514e-03, previous alpha=2.507e-03, with an active set of 60 regressors.\n",
      "  warnings.warn('Early stopping the lars path, as the residues '\n",
      "C:\\Users\\patri\\anaconda3\\lib\\site-packages\\sklearn\\linear_model\\_least_angle.py:571: ConvergenceWarning: Regressors in active set degenerate. Dropping a regressor, after 53 iterations, i.e. alpha=3.691e-03, with an active set of 43 regressors, and the smallest cholesky pivot element being 2.581e-08. Reduce max_iter or increase eps parameters.\n",
      "  warnings.warn('Regressors in active set degenerate. '\n",
      "C:\\Users\\patri\\anaconda3\\lib\\site-packages\\sklearn\\linear_model\\_least_angle.py:571: ConvergenceWarning: Regressors in active set degenerate. Dropping a regressor, after 85 iterations, i.e. alpha=2.196e-03, with an active set of 65 regressors, and the smallest cholesky pivot element being 2.107e-08. Reduce max_iter or increase eps parameters.\n",
      "  warnings.warn('Regressors in active set degenerate. '\n",
      "C:\\Users\\patri\\anaconda3\\lib\\site-packages\\sklearn\\linear_model\\_least_angle.py:571: ConvergenceWarning: Regressors in active set degenerate. Dropping a regressor, after 124 iterations, i.e. alpha=1.266e-03, with an active set of 92 regressors, and the smallest cholesky pivot element being 2.107e-08. Reduce max_iter or increase eps parameters.\n",
      "  warnings.warn('Regressors in active set degenerate. '\n"
     ]
    },
    {
     "name": "stdout",
     "output_type": "stream",
     "text": [
      "(146, 2358)\n",
      "(146, 2358)\n"
     ]
    },
    {
     "name": "stderr",
     "output_type": "stream",
     "text": [
      "C:\\Users\\patri\\anaconda3\\lib\\site-packages\\sklearn\\linear_model\\_least_angle.py:571: ConvergenceWarning: Regressors in active set degenerate. Dropping a regressor, after 125 iterations, i.e. alpha=1.261e-03, with an active set of 93 regressors, and the smallest cholesky pivot element being 2.107e-08. Reduce max_iter or increase eps parameters.\n",
      "  warnings.warn('Regressors in active set degenerate. '\n",
      "C:\\Users\\patri\\anaconda3\\lib\\site-packages\\sklearn\\linear_model\\_least_angle.py:598: ConvergenceWarning: Early stopping the lars path, as the residues are small and the current value of alpha is no longer well controlled. 128 iterations, alpha=1.250e-03, previous alpha=1.250e-03, with an active set of 95 regressors.\n",
      "  warnings.warn('Early stopping the lars path, as the residues '\n",
      "C:\\Users\\patri\\anaconda3\\lib\\site-packages\\sklearn\\linear_model\\_least_angle.py:571: ConvergenceWarning: Regressors in active set degenerate. Dropping a regressor, after 64 iterations, i.e. alpha=3.041e-03, with an active set of 50 regressors, and the smallest cholesky pivot element being 2.220e-16. Reduce max_iter or increase eps parameters.\n",
      "  warnings.warn('Regressors in active set degenerate. '\n",
      "C:\\Users\\patri\\anaconda3\\lib\\site-packages\\sklearn\\linear_model\\_least_angle.py:571: ConvergenceWarning: Regressors in active set degenerate. Dropping a regressor, after 65 iterations, i.e. alpha=3.034e-03, with an active set of 51 regressors, and the smallest cholesky pivot element being 2.220e-16. Reduce max_iter or increase eps parameters.\n",
      "  warnings.warn('Regressors in active set degenerate. '\n",
      "C:\\Users\\patri\\anaconda3\\lib\\site-packages\\sklearn\\linear_model\\_least_angle.py:571: ConvergenceWarning: Regressors in active set degenerate. Dropping a regressor, after 65 iterations, i.e. alpha=3.022e-03, with an active set of 51 regressors, and the smallest cholesky pivot element being 2.220e-16. Reduce max_iter or increase eps parameters.\n",
      "  warnings.warn('Regressors in active set degenerate. '\n",
      "C:\\Users\\patri\\anaconda3\\lib\\site-packages\\sklearn\\linear_model\\_least_angle.py:571: ConvergenceWarning: Regressors in active set degenerate. Dropping a regressor, after 114 iterations, i.e. alpha=1.517e-03, with an active set of 82 regressors, and the smallest cholesky pivot element being 2.107e-08. Reduce max_iter or increase eps parameters.\n",
      "  warnings.warn('Regressors in active set degenerate. '\n"
     ]
    },
    {
     "name": "stdout",
     "output_type": "stream",
     "text": [
      "(145, 2358)\n",
      "(145, 2358)\n"
     ]
    },
    {
     "name": "stderr",
     "output_type": "stream",
     "text": [
      "C:\\Users\\patri\\anaconda3\\lib\\site-packages\\sklearn\\linear_model\\_least_angle.py:571: ConvergenceWarning: Regressors in active set degenerate. Dropping a regressor, after 73 iterations, i.e. alpha=2.681e-03, with an active set of 59 regressors, and the smallest cholesky pivot element being 1.490e-08. Reduce max_iter or increase eps parameters.\n",
      "  warnings.warn('Regressors in active set degenerate. '\n",
      "C:\\Users\\patri\\anaconda3\\lib\\site-packages\\sklearn\\linear_model\\_least_angle.py:571: ConvergenceWarning: Regressors in active set degenerate. Dropping a regressor, after 100 iterations, i.e. alpha=1.601e-03, with an active set of 78 regressors, and the smallest cholesky pivot element being 1.490e-08. Reduce max_iter or increase eps parameters.\n",
      "  warnings.warn('Regressors in active set degenerate. '\n",
      "C:\\Users\\patri\\anaconda3\\lib\\site-packages\\sklearn\\linear_model\\_least_angle.py:571: ConvergenceWarning: Regressors in active set degenerate. Dropping a regressor, after 101 iterations, i.e. alpha=1.597e-03, with an active set of 79 regressors, and the smallest cholesky pivot element being 1.490e-08. Reduce max_iter or increase eps parameters.\n",
      "  warnings.warn('Regressors in active set degenerate. '\n",
      "C:\\Users\\patri\\anaconda3\\lib\\site-packages\\sklearn\\linear_model\\_least_angle.py:571: ConvergenceWarning: Regressors in active set degenerate. Dropping a regressor, after 101 iterations, i.e. alpha=1.594e-03, with an active set of 79 regressors, and the smallest cholesky pivot element being 1.490e-08. Reduce max_iter or increase eps parameters.\n",
      "  warnings.warn('Regressors in active set degenerate. '\n",
      "C:\\Users\\patri\\anaconda3\\lib\\site-packages\\sklearn\\linear_model\\_least_angle.py:598: ConvergenceWarning: Early stopping the lars path, as the residues are small and the current value of alpha is no longer well controlled. 104 iterations, alpha=1.549e-03, previous alpha=1.542e-03, with an active set of 81 regressors.\n",
      "  warnings.warn('Early stopping the lars path, as the residues '\n",
      "C:\\Users\\patri\\anaconda3\\lib\\site-packages\\sklearn\\linear_model\\_least_angle.py:571: ConvergenceWarning: Regressors in active set degenerate. Dropping a regressor, after 73 iterations, i.e. alpha=2.681e-03, with an active set of 59 regressors, and the smallest cholesky pivot element being 1.490e-08. Reduce max_iter or increase eps parameters.\n",
      "  warnings.warn('Regressors in active set degenerate. '\n",
      "C:\\Users\\patri\\anaconda3\\lib\\site-packages\\sklearn\\linear_model\\_least_angle.py:571: ConvergenceWarning: Regressors in active set degenerate. Dropping a regressor, after 100 iterations, i.e. alpha=1.601e-03, with an active set of 78 regressors, and the smallest cholesky pivot element being 1.490e-08. Reduce max_iter or increase eps parameters.\n",
      "  warnings.warn('Regressors in active set degenerate. '\n",
      "C:\\Users\\patri\\anaconda3\\lib\\site-packages\\sklearn\\linear_model\\_least_angle.py:571: ConvergenceWarning: Regressors in active set degenerate. Dropping a regressor, after 101 iterations, i.e. alpha=1.597e-03, with an active set of 79 regressors, and the smallest cholesky pivot element being 1.490e-08. Reduce max_iter or increase eps parameters.\n",
      "  warnings.warn('Regressors in active set degenerate. '\n",
      "C:\\Users\\patri\\anaconda3\\lib\\site-packages\\sklearn\\linear_model\\_least_angle.py:571: ConvergenceWarning: Regressors in active set degenerate. Dropping a regressor, after 101 iterations, i.e. alpha=1.594e-03, with an active set of 79 regressors, and the smallest cholesky pivot element being 1.490e-08. Reduce max_iter or increase eps parameters.\n",
      "  warnings.warn('Regressors in active set degenerate. '\n",
      "C:\\Users\\patri\\anaconda3\\lib\\site-packages\\sklearn\\linear_model\\_least_angle.py:598: ConvergenceWarning: Early stopping the lars path, as the residues are small and the current value of alpha is no longer well controlled. 104 iterations, alpha=1.549e-03, previous alpha=1.542e-03, with an active set of 81 regressors.\n",
      "  warnings.warn('Early stopping the lars path, as the residues '\n"
     ]
    },
    {
     "name": "stdout",
     "output_type": "stream",
     "text": [
      "(145, 2358)\n",
      "(145, 2358)\n"
     ]
    },
    {
     "name": "stderr",
     "output_type": "stream",
     "text": [
      "C:\\Users\\patri\\anaconda3\\lib\\site-packages\\sklearn\\linear_model\\_least_angle.py:571: ConvergenceWarning: Regressors in active set degenerate. Dropping a regressor, after 69 iterations, i.e. alpha=2.467e-03, with an active set of 59 regressors, and the smallest cholesky pivot element being 2.107e-08. Reduce max_iter or increase eps parameters.\n",
      "  warnings.warn('Regressors in active set degenerate. '\n",
      "C:\\Users\\patri\\anaconda3\\lib\\site-packages\\sklearn\\linear_model\\_least_angle.py:571: ConvergenceWarning: Regressors in active set degenerate. Dropping a regressor, after 70 iterations, i.e. alpha=2.465e-03, with an active set of 60 regressors, and the smallest cholesky pivot element being 2.107e-08. Reduce max_iter or increase eps parameters.\n",
      "  warnings.warn('Regressors in active set degenerate. '\n",
      "C:\\Users\\patri\\anaconda3\\lib\\site-packages\\sklearn\\linear_model\\_least_angle.py:571: ConvergenceWarning: Regressors in active set degenerate. Dropping a regressor, after 110 iterations, i.e. alpha=1.465e-03, with an active set of 82 regressors, and the smallest cholesky pivot element being 1.490e-08. Reduce max_iter or increase eps parameters.\n",
      "  warnings.warn('Regressors in active set degenerate. '\n",
      "C:\\Users\\patri\\anaconda3\\lib\\site-packages\\sklearn\\linear_model\\_least_angle.py:598: ConvergenceWarning: Early stopping the lars path, as the residues are small and the current value of alpha is no longer well controlled. 133 iterations, alpha=1.180e-03, previous alpha=1.178e-03, with an active set of 94 regressors.\n",
      "  warnings.warn('Early stopping the lars path, as the residues '\n",
      "C:\\Users\\patri\\anaconda3\\lib\\site-packages\\sklearn\\linear_model\\_least_angle.py:571: ConvergenceWarning: Regressors in active set degenerate. Dropping a regressor, after 69 iterations, i.e. alpha=2.467e-03, with an active set of 59 regressors, and the smallest cholesky pivot element being 2.107e-08. Reduce max_iter or increase eps parameters.\n",
      "  warnings.warn('Regressors in active set degenerate. '\n",
      "C:\\Users\\patri\\anaconda3\\lib\\site-packages\\sklearn\\linear_model\\_least_angle.py:571: ConvergenceWarning: Regressors in active set degenerate. Dropping a regressor, after 70 iterations, i.e. alpha=2.465e-03, with an active set of 60 regressors, and the smallest cholesky pivot element being 2.107e-08. Reduce max_iter or increase eps parameters.\n",
      "  warnings.warn('Regressors in active set degenerate. '\n",
      "C:\\Users\\patri\\anaconda3\\lib\\site-packages\\sklearn\\linear_model\\_least_angle.py:571: ConvergenceWarning: Regressors in active set degenerate. Dropping a regressor, after 110 iterations, i.e. alpha=1.465e-03, with an active set of 82 regressors, and the smallest cholesky pivot element being 1.490e-08. Reduce max_iter or increase eps parameters.\n",
      "  warnings.warn('Regressors in active set degenerate. '\n",
      "C:\\Users\\patri\\anaconda3\\lib\\site-packages\\sklearn\\linear_model\\_least_angle.py:598: ConvergenceWarning: Early stopping the lars path, as the residues are small and the current value of alpha is no longer well controlled. 133 iterations, alpha=1.180e-03, previous alpha=1.178e-03, with an active set of 94 regressors.\n",
      "  warnings.warn('Early stopping the lars path, as the residues '\n"
     ]
    },
    {
     "name": "stdout",
     "output_type": "stream",
     "text": [
      "(145, 2358)\n",
      "(145, 2358)\n",
      "(145, 2358)\n",
      "(145, 2358)\n"
     ]
    },
    {
     "name": "stderr",
     "output_type": "stream",
     "text": [
      "C:\\Users\\patri\\anaconda3\\lib\\site-packages\\sklearn\\linear_model\\_least_angle.py:571: ConvergenceWarning: Regressors in active set degenerate. Dropping a regressor, after 67 iterations, i.e. alpha=2.766e-03, with an active set of 53 regressors, and the smallest cholesky pivot element being 2.220e-16. Reduce max_iter or increase eps parameters.\n",
      "  warnings.warn('Regressors in active set degenerate. '\n",
      "C:\\Users\\patri\\anaconda3\\lib\\site-packages\\sklearn\\linear_model\\_least_angle.py:571: ConvergenceWarning: Regressors in active set degenerate. Dropping a regressor, after 75 iterations, i.e. alpha=2.387e-03, with an active set of 55 regressors, and the smallest cholesky pivot element being 2.220e-16. Reduce max_iter or increase eps parameters.\n",
      "  warnings.warn('Regressors in active set degenerate. '\n",
      "C:\\Users\\patri\\anaconda3\\lib\\site-packages\\sklearn\\linear_model\\_least_angle.py:571: ConvergenceWarning: Regressors in active set degenerate. Dropping a regressor, after 78 iterations, i.e. alpha=2.201e-03, with an active set of 58 regressors, and the smallest cholesky pivot element being 2.220e-16. Reduce max_iter or increase eps parameters.\n",
      "  warnings.warn('Regressors in active set degenerate. '\n",
      "C:\\Users\\patri\\anaconda3\\lib\\site-packages\\sklearn\\linear_model\\_least_angle.py:598: ConvergenceWarning: Early stopping the lars path, as the residues are small and the current value of alpha is no longer well controlled. 98 iterations, alpha=1.799e-03, previous alpha=1.798e-03, with an active set of 77 regressors.\n",
      "  warnings.warn('Early stopping the lars path, as the residues '\n",
      "C:\\Users\\patri\\anaconda3\\lib\\site-packages\\sklearn\\linear_model\\_least_angle.py:571: ConvergenceWarning: Regressors in active set degenerate. Dropping a regressor, after 67 iterations, i.e. alpha=2.766e-03, with an active set of 53 regressors, and the smallest cholesky pivot element being 2.220e-16. Reduce max_iter or increase eps parameters.\n",
      "  warnings.warn('Regressors in active set degenerate. '\n",
      "C:\\Users\\patri\\anaconda3\\lib\\site-packages\\sklearn\\linear_model\\_least_angle.py:571: ConvergenceWarning: Regressors in active set degenerate. Dropping a regressor, after 75 iterations, i.e. alpha=2.387e-03, with an active set of 55 regressors, and the smallest cholesky pivot element being 2.220e-16. Reduce max_iter or increase eps parameters.\n",
      "  warnings.warn('Regressors in active set degenerate. '\n",
      "C:\\Users\\patri\\anaconda3\\lib\\site-packages\\sklearn\\linear_model\\_least_angle.py:571: ConvergenceWarning: Regressors in active set degenerate. Dropping a regressor, after 78 iterations, i.e. alpha=2.201e-03, with an active set of 58 regressors, and the smallest cholesky pivot element being 2.220e-16. Reduce max_iter or increase eps parameters.\n",
      "  warnings.warn('Regressors in active set degenerate. '\n",
      "C:\\Users\\patri\\anaconda3\\lib\\site-packages\\sklearn\\linear_model\\_least_angle.py:598: ConvergenceWarning: Early stopping the lars path, as the residues are small and the current value of alpha is no longer well controlled. 98 iterations, alpha=1.799e-03, previous alpha=1.798e-03, with an active set of 77 regressors.\n",
      "  warnings.warn('Early stopping the lars path, as the residues '\n"
     ]
    },
    {
     "name": "stdout",
     "output_type": "stream",
     "text": [
      "(145, 2358)\n",
      "(145, 2358)\n",
      "(145, 2358)\n",
      "(145, 2358)\n"
     ]
    },
    {
     "name": "stderr",
     "output_type": "stream",
     "text": [
      "C:\\Users\\patri\\anaconda3\\lib\\site-packages\\sklearn\\linear_model\\_least_angle.py:571: ConvergenceWarning: Regressors in active set degenerate. Dropping a regressor, after 49 iterations, i.e. alpha=3.724e-03, with an active set of 37 regressors, and the smallest cholesky pivot element being 1.490e-08. Reduce max_iter or increase eps parameters.\n",
      "  warnings.warn('Regressors in active set degenerate. '\n",
      "C:\\Users\\patri\\anaconda3\\lib\\site-packages\\sklearn\\linear_model\\_least_angle.py:571: ConvergenceWarning: Regressors in active set degenerate. Dropping a regressor, after 86 iterations, i.e. alpha=2.188e-03, with an active set of 70 regressors, and the smallest cholesky pivot element being 1.490e-08. Reduce max_iter or increase eps parameters.\n",
      "  warnings.warn('Regressors in active set degenerate. '\n",
      "C:\\Users\\patri\\anaconda3\\lib\\site-packages\\sklearn\\linear_model\\_least_angle.py:571: ConvergenceWarning: Regressors in active set degenerate. Dropping a regressor, after 49 iterations, i.e. alpha=3.724e-03, with an active set of 37 regressors, and the smallest cholesky pivot element being 1.490e-08. Reduce max_iter or increase eps parameters.\n",
      "  warnings.warn('Regressors in active set degenerate. '\n",
      "C:\\Users\\patri\\anaconda3\\lib\\site-packages\\sklearn\\linear_model\\_least_angle.py:571: ConvergenceWarning: Regressors in active set degenerate. Dropping a regressor, after 86 iterations, i.e. alpha=2.188e-03, with an active set of 70 regressors, and the smallest cholesky pivot element being 1.490e-08. Reduce max_iter or increase eps parameters.\n",
      "  warnings.warn('Regressors in active set degenerate. '\n",
      "C:\\Users\\patri\\anaconda3\\lib\\site-packages\\sklearn\\linear_model\\_least_angle.py:571: ConvergenceWarning: Regressors in active set degenerate. Dropping a regressor, after 46 iterations, i.e. alpha=4.219e-03, with an active set of 38 regressors, and the smallest cholesky pivot element being 1.490e-08. Reduce max_iter or increase eps parameters.\n",
      "  warnings.warn('Regressors in active set degenerate. '\n",
      "C:\\Users\\patri\\anaconda3\\lib\\site-packages\\sklearn\\linear_model\\_least_angle.py:571: ConvergenceWarning: Regressors in active set degenerate. Dropping a regressor, after 75 iterations, i.e. alpha=2.475e-03, with an active set of 61 regressors, and the smallest cholesky pivot element being 1.054e-08. Reduce max_iter or increase eps parameters.\n",
      "  warnings.warn('Regressors in active set degenerate. '\n",
      "C:\\Users\\patri\\anaconda3\\lib\\site-packages\\sklearn\\linear_model\\_least_angle.py:571: ConvergenceWarning: Regressors in active set degenerate. Dropping a regressor, after 84 iterations, i.e. alpha=2.207e-03, with an active set of 68 regressors, and the smallest cholesky pivot element being 2.220e-16. Reduce max_iter or increase eps parameters.\n",
      "  warnings.warn('Regressors in active set degenerate. '\n"
     ]
    },
    {
     "name": "stdout",
     "output_type": "stream",
     "text": [
      "(145, 2358)\n",
      "(145, 2358)\n"
     ]
    },
    {
     "name": "stderr",
     "output_type": "stream",
     "text": [
      "C:\\Users\\patri\\anaconda3\\lib\\site-packages\\sklearn\\linear_model\\_least_angle.py:571: ConvergenceWarning: Regressors in active set degenerate. Dropping a regressor, after 46 iterations, i.e. alpha=4.219e-03, with an active set of 38 regressors, and the smallest cholesky pivot element being 1.490e-08. Reduce max_iter or increase eps parameters.\n",
      "  warnings.warn('Regressors in active set degenerate. '\n",
      "C:\\Users\\patri\\anaconda3\\lib\\site-packages\\sklearn\\linear_model\\_least_angle.py:571: ConvergenceWarning: Regressors in active set degenerate. Dropping a regressor, after 75 iterations, i.e. alpha=2.475e-03, with an active set of 61 regressors, and the smallest cholesky pivot element being 1.054e-08. Reduce max_iter or increase eps parameters.\n",
      "  warnings.warn('Regressors in active set degenerate. '\n",
      "C:\\Users\\patri\\anaconda3\\lib\\site-packages\\sklearn\\linear_model\\_least_angle.py:571: ConvergenceWarning: Regressors in active set degenerate. Dropping a regressor, after 84 iterations, i.e. alpha=2.207e-03, with an active set of 68 regressors, and the smallest cholesky pivot element being 2.220e-16. Reduce max_iter or increase eps parameters.\n",
      "  warnings.warn('Regressors in active set degenerate. '\n",
      "C:\\Users\\patri\\anaconda3\\lib\\site-packages\\sklearn\\linear_model\\_least_angle.py:571: ConvergenceWarning: Regressors in active set degenerate. Dropping a regressor, after 47 iterations, i.e. alpha=4.033e-03, with an active set of 39 regressors, and the smallest cholesky pivot element being 2.220e-16. Reduce max_iter or increase eps parameters.\n",
      "  warnings.warn('Regressors in active set degenerate. '\n",
      "C:\\Users\\patri\\anaconda3\\lib\\site-packages\\sklearn\\linear_model\\_least_angle.py:571: ConvergenceWarning: Regressors in active set degenerate. Dropping a regressor, after 78 iterations, i.e. alpha=2.204e-03, with an active set of 66 regressors, and the smallest cholesky pivot element being 1.490e-08. Reduce max_iter or increase eps parameters.\n",
      "  warnings.warn('Regressors in active set degenerate. '\n",
      "C:\\Users\\patri\\anaconda3\\lib\\site-packages\\sklearn\\linear_model\\_least_angle.py:598: ConvergenceWarning: Early stopping the lars path, as the residues are small and the current value of alpha is no longer well controlled. 82 iterations, alpha=2.157e-03, previous alpha=2.151e-03, with an active set of 69 regressors.\n",
      "  warnings.warn('Early stopping the lars path, as the residues '\n"
     ]
    },
    {
     "name": "stdout",
     "output_type": "stream",
     "text": [
      "(145, 2358)\n",
      "(145, 2358)\n"
     ]
    },
    {
     "name": "stderr",
     "output_type": "stream",
     "text": [
      "C:\\Users\\patri\\anaconda3\\lib\\site-packages\\sklearn\\linear_model\\_least_angle.py:571: ConvergenceWarning: Regressors in active set degenerate. Dropping a regressor, after 47 iterations, i.e. alpha=4.033e-03, with an active set of 39 regressors, and the smallest cholesky pivot element being 2.220e-16. Reduce max_iter or increase eps parameters.\n",
      "  warnings.warn('Regressors in active set degenerate. '\n",
      "C:\\Users\\patri\\anaconda3\\lib\\site-packages\\sklearn\\linear_model\\_least_angle.py:571: ConvergenceWarning: Regressors in active set degenerate. Dropping a regressor, after 78 iterations, i.e. alpha=2.204e-03, with an active set of 66 regressors, and the smallest cholesky pivot element being 1.490e-08. Reduce max_iter or increase eps parameters.\n",
      "  warnings.warn('Regressors in active set degenerate. '\n",
      "C:\\Users\\patri\\anaconda3\\lib\\site-packages\\sklearn\\linear_model\\_least_angle.py:598: ConvergenceWarning: Early stopping the lars path, as the residues are small and the current value of alpha is no longer well controlled. 82 iterations, alpha=2.157e-03, previous alpha=2.151e-03, with an active set of 69 regressors.\n",
      "  warnings.warn('Early stopping the lars path, as the residues '\n",
      "C:\\Users\\patri\\anaconda3\\lib\\site-packages\\sklearn\\linear_model\\_least_angle.py:571: ConvergenceWarning: Regressors in active set degenerate. Dropping a regressor, after 46 iterations, i.e. alpha=4.523e-03, with an active set of 38 regressors, and the smallest cholesky pivot element being 2.980e-08. Reduce max_iter or increase eps parameters.\n",
      "  warnings.warn('Regressors in active set degenerate. '\n",
      "C:\\Users\\patri\\anaconda3\\lib\\site-packages\\sklearn\\linear_model\\_least_angle.py:571: ConvergenceWarning: Regressors in active set degenerate. Dropping a regressor, after 64 iterations, i.e. alpha=2.678e-03, with an active set of 56 regressors, and the smallest cholesky pivot element being 2.980e-08. Reduce max_iter or increase eps parameters.\n",
      "  warnings.warn('Regressors in active set degenerate. '\n",
      "C:\\Users\\patri\\anaconda3\\lib\\site-packages\\sklearn\\linear_model\\_least_angle.py:571: ConvergenceWarning: Regressors in active set degenerate. Dropping a regressor, after 111 iterations, i.e. alpha=1.718e-03, with an active set of 85 regressors, and the smallest cholesky pivot element being 2.980e-08. Reduce max_iter or increase eps parameters.\n",
      "  warnings.warn('Regressors in active set degenerate. '\n"
     ]
    },
    {
     "name": "stdout",
     "output_type": "stream",
     "text": [
      "(145, 2358)\n",
      "(145, 2358)\n"
     ]
    },
    {
     "name": "stderr",
     "output_type": "stream",
     "text": [
      "C:\\Users\\patri\\anaconda3\\lib\\site-packages\\sklearn\\linear_model\\_least_angle.py:571: ConvergenceWarning: Regressors in active set degenerate. Dropping a regressor, after 46 iterations, i.e. alpha=4.523e-03, with an active set of 38 regressors, and the smallest cholesky pivot element being 2.980e-08. Reduce max_iter or increase eps parameters.\n",
      "  warnings.warn('Regressors in active set degenerate. '\n",
      "C:\\Users\\patri\\anaconda3\\lib\\site-packages\\sklearn\\linear_model\\_least_angle.py:571: ConvergenceWarning: Regressors in active set degenerate. Dropping a regressor, after 64 iterations, i.e. alpha=2.678e-03, with an active set of 56 regressors, and the smallest cholesky pivot element being 2.980e-08. Reduce max_iter or increase eps parameters.\n",
      "  warnings.warn('Regressors in active set degenerate. '\n",
      "C:\\Users\\patri\\anaconda3\\lib\\site-packages\\sklearn\\linear_model\\_least_angle.py:571: ConvergenceWarning: Regressors in active set degenerate. Dropping a regressor, after 111 iterations, i.e. alpha=1.718e-03, with an active set of 85 regressors, and the smallest cholesky pivot element being 2.980e-08. Reduce max_iter or increase eps parameters.\n",
      "  warnings.warn('Regressors in active set degenerate. '\n",
      "C:\\Users\\patri\\anaconda3\\lib\\site-packages\\sklearn\\linear_model\\_least_angle.py:571: ConvergenceWarning: Regressors in active set degenerate. Dropping a regressor, after 45 iterations, i.e. alpha=4.096e-03, with an active set of 37 regressors, and the smallest cholesky pivot element being 2.581e-08. Reduce max_iter or increase eps parameters.\n",
      "  warnings.warn('Regressors in active set degenerate. '\n",
      "C:\\Users\\patri\\anaconda3\\lib\\site-packages\\sklearn\\linear_model\\_least_angle.py:571: ConvergenceWarning: Regressors in active set degenerate. Dropping a regressor, after 79 iterations, i.e. alpha=2.376e-03, with an active set of 59 regressors, and the smallest cholesky pivot element being 2.980e-08. Reduce max_iter or increase eps parameters.\n",
      "  warnings.warn('Regressors in active set degenerate. '\n",
      "C:\\Users\\patri\\anaconda3\\lib\\site-packages\\sklearn\\linear_model\\_least_angle.py:571: ConvergenceWarning: Regressors in active set degenerate. Dropping a regressor, after 121 iterations, i.e. alpha=1.326e-03, with an active set of 87 regressors, and the smallest cholesky pivot element being 1.825e-08. Reduce max_iter or increase eps parameters.\n",
      "  warnings.warn('Regressors in active set degenerate. '\n"
     ]
    },
    {
     "name": "stdout",
     "output_type": "stream",
     "text": [
      "(145, 2358)\n",
      "(145, 2358)\n"
     ]
    },
    {
     "name": "stderr",
     "output_type": "stream",
     "text": [
      "C:\\Users\\patri\\anaconda3\\lib\\site-packages\\sklearn\\linear_model\\_least_angle.py:571: ConvergenceWarning: Regressors in active set degenerate. Dropping a regressor, after 45 iterations, i.e. alpha=4.096e-03, with an active set of 37 regressors, and the smallest cholesky pivot element being 2.581e-08. Reduce max_iter or increase eps parameters.\n",
      "  warnings.warn('Regressors in active set degenerate. '\n",
      "C:\\Users\\patri\\anaconda3\\lib\\site-packages\\sklearn\\linear_model\\_least_angle.py:571: ConvergenceWarning: Regressors in active set degenerate. Dropping a regressor, after 79 iterations, i.e. alpha=2.376e-03, with an active set of 59 regressors, and the smallest cholesky pivot element being 2.980e-08. Reduce max_iter or increase eps parameters.\n",
      "  warnings.warn('Regressors in active set degenerate. '\n",
      "C:\\Users\\patri\\anaconda3\\lib\\site-packages\\sklearn\\linear_model\\_least_angle.py:571: ConvergenceWarning: Regressors in active set degenerate. Dropping a regressor, after 121 iterations, i.e. alpha=1.326e-03, with an active set of 87 regressors, and the smallest cholesky pivot element being 1.825e-08. Reduce max_iter or increase eps parameters.\n",
      "  warnings.warn('Regressors in active set degenerate. '\n",
      "C:\\Users\\patri\\anaconda3\\lib\\site-packages\\sklearn\\linear_model\\_least_angle.py:571: ConvergenceWarning: Regressors in active set degenerate. Dropping a regressor, after 68 iterations, i.e. alpha=2.820e-03, with an active set of 54 regressors, and the smallest cholesky pivot element being 2.107e-08. Reduce max_iter or increase eps parameters.\n",
      "  warnings.warn('Regressors in active set degenerate. '\n",
      "C:\\Users\\patri\\anaconda3\\lib\\site-packages\\sklearn\\linear_model\\_least_angle.py:571: ConvergenceWarning: Regressors in active set degenerate. Dropping a regressor, after 70 iterations, i.e. alpha=2.807e-03, with an active set of 56 regressors, and the smallest cholesky pivot element being 2.107e-08. Reduce max_iter or increase eps parameters.\n",
      "  warnings.warn('Regressors in active set degenerate. '\n",
      "C:\\Users\\patri\\anaconda3\\lib\\site-packages\\sklearn\\linear_model\\_least_angle.py:598: ConvergenceWarning: Early stopping the lars path, as the residues are small and the current value of alpha is no longer well controlled. 75 iterations, alpha=2.647e-03, previous alpha=2.639e-03, with an active set of 58 regressors.\n",
      "  warnings.warn('Early stopping the lars path, as the residues '\n"
     ]
    },
    {
     "name": "stdout",
     "output_type": "stream",
     "text": [
      "(145, 2358)\n",
      "(145, 2358)\n"
     ]
    },
    {
     "name": "stderr",
     "output_type": "stream",
     "text": [
      "C:\\Users\\patri\\anaconda3\\lib\\site-packages\\sklearn\\linear_model\\_least_angle.py:571: ConvergenceWarning: Regressors in active set degenerate. Dropping a regressor, after 68 iterations, i.e. alpha=2.820e-03, with an active set of 54 regressors, and the smallest cholesky pivot element being 2.107e-08. Reduce max_iter or increase eps parameters.\n",
      "  warnings.warn('Regressors in active set degenerate. '\n",
      "C:\\Users\\patri\\anaconda3\\lib\\site-packages\\sklearn\\linear_model\\_least_angle.py:571: ConvergenceWarning: Regressors in active set degenerate. Dropping a regressor, after 70 iterations, i.e. alpha=2.807e-03, with an active set of 56 regressors, and the smallest cholesky pivot element being 2.107e-08. Reduce max_iter or increase eps parameters.\n",
      "  warnings.warn('Regressors in active set degenerate. '\n",
      "C:\\Users\\patri\\anaconda3\\lib\\site-packages\\sklearn\\linear_model\\_least_angle.py:598: ConvergenceWarning: Early stopping the lars path, as the residues are small and the current value of alpha is no longer well controlled. 75 iterations, alpha=2.647e-03, previous alpha=2.639e-03, with an active set of 58 regressors.\n",
      "  warnings.warn('Early stopping the lars path, as the residues '\n",
      "C:\\Users\\patri\\anaconda3\\lib\\site-packages\\sklearn\\linear_model\\_least_angle.py:571: ConvergenceWarning: Regressors in active set degenerate. Dropping a regressor, after 50 iterations, i.e. alpha=3.989e-03, with an active set of 42 regressors, and the smallest cholesky pivot element being 2.107e-08. Reduce max_iter or increase eps parameters.\n",
      "  warnings.warn('Regressors in active set degenerate. '\n",
      "C:\\Users\\patri\\anaconda3\\lib\\site-packages\\sklearn\\linear_model\\_least_angle.py:571: ConvergenceWarning: Regressors in active set degenerate. Dropping a regressor, after 67 iterations, i.e. alpha=3.137e-03, with an active set of 55 regressors, and the smallest cholesky pivot element being 2.107e-08. Reduce max_iter or increase eps parameters.\n",
      "  warnings.warn('Regressors in active set degenerate. '\n",
      "C:\\Users\\patri\\anaconda3\\lib\\site-packages\\sklearn\\linear_model\\_least_angle.py:571: ConvergenceWarning: Regressors in active set degenerate. Dropping a regressor, after 68 iterations, i.e. alpha=3.132e-03, with an active set of 56 regressors, and the smallest cholesky pivot element being 2.107e-08. Reduce max_iter or increase eps parameters.\n",
      "  warnings.warn('Regressors in active set degenerate. '\n",
      "C:\\Users\\patri\\anaconda3\\lib\\site-packages\\sklearn\\linear_model\\_least_angle.py:571: ConvergenceWarning: Regressors in active set degenerate. Dropping a regressor, after 86 iterations, i.e. alpha=2.308e-03, with an active set of 64 regressors, and the smallest cholesky pivot element being 2.581e-08. Reduce max_iter or increase eps parameters.\n",
      "  warnings.warn('Regressors in active set degenerate. '\n",
      "C:\\Users\\patri\\anaconda3\\lib\\site-packages\\sklearn\\linear_model\\_least_angle.py:571: ConvergenceWarning: Regressors in active set degenerate. Dropping a regressor, after 87 iterations, i.e. alpha=2.259e-03, with an active set of 65 regressors, and the smallest cholesky pivot element being 2.581e-08. Reduce max_iter or increase eps parameters.\n",
      "  warnings.warn('Regressors in active set degenerate. '\n",
      "C:\\Users\\patri\\anaconda3\\lib\\site-packages\\sklearn\\linear_model\\_least_angle.py:598: ConvergenceWarning: Early stopping the lars path, as the residues are small and the current value of alpha is no longer well controlled. 89 iterations, alpha=2.257e-03, previous alpha=2.255e-03, with an active set of 66 regressors.\n",
      "  warnings.warn('Early stopping the lars path, as the residues '\n"
     ]
    },
    {
     "name": "stdout",
     "output_type": "stream",
     "text": [
      "(145, 2358)\n",
      "(145, 2358)\n",
      "(145, 2358)\n"
     ]
    },
    {
     "name": "stderr",
     "output_type": "stream",
     "text": [
      "C:\\Users\\patri\\anaconda3\\lib\\site-packages\\sklearn\\linear_model\\_least_angle.py:571: ConvergenceWarning: Regressors in active set degenerate. Dropping a regressor, after 50 iterations, i.e. alpha=3.989e-03, with an active set of 42 regressors, and the smallest cholesky pivot element being 2.107e-08. Reduce max_iter or increase eps parameters.\n",
      "  warnings.warn('Regressors in active set degenerate. '\n",
      "C:\\Users\\patri\\anaconda3\\lib\\site-packages\\sklearn\\linear_model\\_least_angle.py:571: ConvergenceWarning: Regressors in active set degenerate. Dropping a regressor, after 67 iterations, i.e. alpha=3.137e-03, with an active set of 55 regressors, and the smallest cholesky pivot element being 2.107e-08. Reduce max_iter or increase eps parameters.\n",
      "  warnings.warn('Regressors in active set degenerate. '\n",
      "C:\\Users\\patri\\anaconda3\\lib\\site-packages\\sklearn\\linear_model\\_least_angle.py:571: ConvergenceWarning: Regressors in active set degenerate. Dropping a regressor, after 68 iterations, i.e. alpha=3.132e-03, with an active set of 56 regressors, and the smallest cholesky pivot element being 2.107e-08. Reduce max_iter or increase eps parameters.\n",
      "  warnings.warn('Regressors in active set degenerate. '\n",
      "C:\\Users\\patri\\anaconda3\\lib\\site-packages\\sklearn\\linear_model\\_least_angle.py:571: ConvergenceWarning: Regressors in active set degenerate. Dropping a regressor, after 86 iterations, i.e. alpha=2.308e-03, with an active set of 64 regressors, and the smallest cholesky pivot element being 2.581e-08. Reduce max_iter or increase eps parameters.\n",
      "  warnings.warn('Regressors in active set degenerate. '\n",
      "C:\\Users\\patri\\anaconda3\\lib\\site-packages\\sklearn\\linear_model\\_least_angle.py:571: ConvergenceWarning: Regressors in active set degenerate. Dropping a regressor, after 87 iterations, i.e. alpha=2.259e-03, with an active set of 65 regressors, and the smallest cholesky pivot element being 2.581e-08. Reduce max_iter or increase eps parameters.\n",
      "  warnings.warn('Regressors in active set degenerate. '\n",
      "C:\\Users\\patri\\anaconda3\\lib\\site-packages\\sklearn\\linear_model\\_least_angle.py:598: ConvergenceWarning: Early stopping the lars path, as the residues are small and the current value of alpha is no longer well controlled. 89 iterations, alpha=2.257e-03, previous alpha=2.255e-03, with an active set of 66 regressors.\n",
      "  warnings.warn('Early stopping the lars path, as the residues '\n",
      "C:\\Users\\patri\\anaconda3\\lib\\site-packages\\sklearn\\linear_model\\_least_angle.py:571: ConvergenceWarning: Regressors in active set degenerate. Dropping a regressor, after 54 iterations, i.e. alpha=3.602e-03, with an active set of 42 regressors, and the smallest cholesky pivot element being 2.581e-08. Reduce max_iter or increase eps parameters.\n",
      "  warnings.warn('Regressors in active set degenerate. '\n",
      "C:\\Users\\patri\\anaconda3\\lib\\site-packages\\sklearn\\linear_model\\_least_angle.py:571: ConvergenceWarning: Regressors in active set degenerate. Dropping a regressor, after 64 iterations, i.e. alpha=2.996e-03, with an active set of 52 regressors, and the smallest cholesky pivot element being 2.107e-08. Reduce max_iter or increase eps parameters.\n",
      "  warnings.warn('Regressors in active set degenerate. '\n",
      "C:\\Users\\patri\\anaconda3\\lib\\site-packages\\sklearn\\linear_model\\_least_angle.py:598: ConvergenceWarning: Early stopping the lars path, as the residues are small and the current value of alpha is no longer well controlled. 73 iterations, alpha=2.664e-03, previous alpha=2.663e-03, with an active set of 60 regressors.\n",
      "  warnings.warn('Early stopping the lars path, as the residues '\n"
     ]
    },
    {
     "name": "stdout",
     "output_type": "stream",
     "text": [
      "(145, 2358)\n"
     ]
    },
    {
     "name": "stderr",
     "output_type": "stream",
     "text": [
      "C:\\Users\\patri\\anaconda3\\lib\\site-packages\\sklearn\\linear_model\\_least_angle.py:571: ConvergenceWarning: Regressors in active set degenerate. Dropping a regressor, after 54 iterations, i.e. alpha=3.602e-03, with an active set of 42 regressors, and the smallest cholesky pivot element being 2.581e-08. Reduce max_iter or increase eps parameters.\n",
      "  warnings.warn('Regressors in active set degenerate. '\n",
      "C:\\Users\\patri\\anaconda3\\lib\\site-packages\\sklearn\\linear_model\\_least_angle.py:571: ConvergenceWarning: Regressors in active set degenerate. Dropping a regressor, after 64 iterations, i.e. alpha=2.996e-03, with an active set of 52 regressors, and the smallest cholesky pivot element being 2.107e-08. Reduce max_iter or increase eps parameters.\n",
      "  warnings.warn('Regressors in active set degenerate. '\n",
      "C:\\Users\\patri\\anaconda3\\lib\\site-packages\\sklearn\\linear_model\\_least_angle.py:598: ConvergenceWarning: Early stopping the lars path, as the residues are small and the current value of alpha is no longer well controlled. 73 iterations, alpha=2.664e-03, previous alpha=2.663e-03, with an active set of 60 regressors.\n",
      "  warnings.warn('Early stopping the lars path, as the residues '\n",
      "C:\\Users\\patri\\anaconda3\\lib\\site-packages\\sklearn\\linear_model\\_least_angle.py:571: ConvergenceWarning: Regressors in active set degenerate. Dropping a regressor, after 51 iterations, i.e. alpha=3.945e-03, with an active set of 39 regressors, and the smallest cholesky pivot element being 2.220e-16. Reduce max_iter or increase eps parameters.\n",
      "  warnings.warn('Regressors in active set degenerate. '\n",
      "C:\\Users\\patri\\anaconda3\\lib\\site-packages\\sklearn\\linear_model\\_least_angle.py:571: ConvergenceWarning: Regressors in active set degenerate. Dropping a regressor, after 82 iterations, i.e. alpha=2.265e-03, with an active set of 64 regressors, and the smallest cholesky pivot element being 1.490e-08. Reduce max_iter or increase eps parameters.\n",
      "  warnings.warn('Regressors in active set degenerate. '\n",
      "C:\\Users\\patri\\anaconda3\\lib\\site-packages\\sklearn\\linear_model\\_least_angle.py:571: ConvergenceWarning: Regressors in active set degenerate. Dropping a regressor, after 83 iterations, i.e. alpha=2.263e-03, with an active set of 65 regressors, and the smallest cholesky pivot element being 1.490e-08. Reduce max_iter or increase eps parameters.\n",
      "  warnings.warn('Regressors in active set degenerate. '\n",
      "C:\\Users\\patri\\anaconda3\\lib\\site-packages\\sklearn\\linear_model\\_least_angle.py:571: ConvergenceWarning: Regressors in active set degenerate. Dropping a regressor, after 124 iterations, i.e. alpha=1.250e-03, with an active set of 94 regressors, and the smallest cholesky pivot element being 1.825e-08. Reduce max_iter or increase eps parameters.\n",
      "  warnings.warn('Regressors in active set degenerate. '\n"
     ]
    },
    {
     "name": "stdout",
     "output_type": "stream",
     "text": [
      "(146, 2358)\n",
      "(145, 2358)\n"
     ]
    },
    {
     "name": "stderr",
     "output_type": "stream",
     "text": [
      "C:\\Users\\patri\\anaconda3\\lib\\site-packages\\sklearn\\linear_model\\_least_angle.py:571: ConvergenceWarning: Regressors in active set degenerate. Dropping a regressor, after 51 iterations, i.e. alpha=3.812e-03, with an active set of 39 regressors, and the smallest cholesky pivot element being 2.107e-08. Reduce max_iter or increase eps parameters.\n",
      "  warnings.warn('Regressors in active set degenerate. '\n",
      "C:\\Users\\patri\\anaconda3\\lib\\site-packages\\sklearn\\linear_model\\_least_angle.py:571: ConvergenceWarning: Regressors in active set degenerate. Dropping a regressor, after 89 iterations, i.e. alpha=2.119e-03, with an active set of 71 regressors, and the smallest cholesky pivot element being 1.490e-08. Reduce max_iter or increase eps parameters.\n",
      "  warnings.warn('Regressors in active set degenerate. '\n",
      "C:\\Users\\patri\\anaconda3\\lib\\site-packages\\sklearn\\linear_model\\_least_angle.py:571: ConvergenceWarning: Regressors in active set degenerate. Dropping a regressor, after 104 iterations, i.e. alpha=1.710e-03, with an active set of 80 regressors, and the smallest cholesky pivot element being 2.581e-08. Reduce max_iter or increase eps parameters.\n",
      "  warnings.warn('Regressors in active set degenerate. '\n",
      "C:\\Users\\patri\\anaconda3\\lib\\site-packages\\sklearn\\linear_model\\_least_angle.py:571: ConvergenceWarning: Regressors in active set degenerate. Dropping a regressor, after 129 iterations, i.e. alpha=1.239e-03, with an active set of 91 regressors, and the smallest cholesky pivot element being 2.107e-08. Reduce max_iter or increase eps parameters.\n",
      "  warnings.warn('Regressors in active set degenerate. '\n",
      "C:\\Users\\patri\\anaconda3\\lib\\site-packages\\sklearn\\linear_model\\_least_angle.py:571: ConvergenceWarning: Regressors in active set degenerate. Dropping a regressor, after 51 iterations, i.e. alpha=3.812e-03, with an active set of 39 regressors, and the smallest cholesky pivot element being 2.107e-08. Reduce max_iter or increase eps parameters.\n",
      "  warnings.warn('Regressors in active set degenerate. '\n",
      "C:\\Users\\patri\\anaconda3\\lib\\site-packages\\sklearn\\linear_model\\_least_angle.py:571: ConvergenceWarning: Regressors in active set degenerate. Dropping a regressor, after 89 iterations, i.e. alpha=2.119e-03, with an active set of 71 regressors, and the smallest cholesky pivot element being 1.490e-08. Reduce max_iter or increase eps parameters.\n",
      "  warnings.warn('Regressors in active set degenerate. '\n"
     ]
    },
    {
     "name": "stdout",
     "output_type": "stream",
     "text": [
      "(145, 2358)\n",
      "(146, 2358)"
     ]
    },
    {
     "name": "stderr",
     "output_type": "stream",
     "text": [
      "C:\\Users\\patri\\anaconda3\\lib\\site-packages\\sklearn\\linear_model\\_least_angle.py:571: ConvergenceWarning: Regressors in active set degenerate. Dropping a regressor, after 104 iterations, i.e. alpha=1.710e-03, with an active set of 80 regressors, and the smallest cholesky pivot element being 2.581e-08. Reduce max_iter or increase eps parameters.\n",
      "  warnings.warn('Regressors in active set degenerate. '\n",
      "C:\\Users\\patri\\anaconda3\\lib\\site-packages\\sklearn\\linear_model\\_least_angle.py:571: ConvergenceWarning: Regressors in active set degenerate. Dropping a regressor, after 129 iterations, i.e. alpha=1.239e-03, with an active set of 91 regressors, and the smallest cholesky pivot element being 2.107e-08. Reduce max_iter or increase eps parameters.\n",
      "  warnings.warn('Regressors in active set degenerate. '\n",
      "C:\\Users\\patri\\anaconda3\\lib\\site-packages\\sklearn\\linear_model\\_least_angle.py:571: ConvergenceWarning: Regressors in active set degenerate. Dropping a regressor, after 50 iterations, i.e. alpha=3.786e-03, with an active set of 40 regressors, and the smallest cholesky pivot element being 2.107e-08. Reduce max_iter or increase eps parameters.\n",
      "  warnings.warn('Regressors in active set degenerate. '\n",
      "C:\\Users\\patri\\anaconda3\\lib\\site-packages\\sklearn\\linear_model\\_least_angle.py:571: ConvergenceWarning: Regressors in active set degenerate. Dropping a regressor, after 51 iterations, i.e. alpha=3.785e-03, with an active set of 41 regressors, and the smallest cholesky pivot element being 2.107e-08. Reduce max_iter or increase eps parameters.\n",
      "  warnings.warn('Regressors in active set degenerate. '\n"
     ]
    },
    {
     "name": "stdout",
     "output_type": "stream",
     "text": [
      "\n"
     ]
    },
    {
     "name": "stderr",
     "output_type": "stream",
     "text": [
      "C:\\Users\\patri\\anaconda3\\lib\\site-packages\\sklearn\\linear_model\\_least_angle.py:571: ConvergenceWarning: Regressors in active set degenerate. Dropping a regressor, after 203 iterations, i.e. alpha=1.515e-03, with an active set of 97 regressors, and the smallest cholesky pivot element being 2.107e-08. Reduce max_iter or increase eps parameters.\n",
      "  warnings.warn('Regressors in active set degenerate. '\n",
      "C:\\Users\\patri\\anaconda3\\lib\\site-packages\\sklearn\\linear_model\\_least_angle.py:571: ConvergenceWarning: Regressors in active set degenerate. Dropping a regressor, after 205 iterations, i.e. alpha=1.513e-03, with an active set of 99 regressors, and the smallest cholesky pivot element being 2.107e-08. Reduce max_iter or increase eps parameters.\n",
      "  warnings.warn('Regressors in active set degenerate. '\n",
      "C:\\Users\\patri\\anaconda3\\lib\\site-packages\\sklearn\\linear_model\\_least_angle.py:598: ConvergenceWarning: Early stopping the lars path, as the residues are small and the current value of alpha is no longer well controlled. 208 iterations, alpha=1.507e-03, previous alpha=1.498e-03, with an active set of 101 regressors.\n",
      "  warnings.warn('Early stopping the lars path, as the residues '\n",
      "C:\\Users\\patri\\anaconda3\\lib\\site-packages\\sklearn\\linear_model\\_least_angle.py:571: ConvergenceWarning: Regressors in active set degenerate. Dropping a regressor, after 49 iterations, i.e. alpha=3.894e-03, with an active set of 41 regressors, and the smallest cholesky pivot element being 2.107e-08. Reduce max_iter or increase eps parameters.\n",
      "  warnings.warn('Regressors in active set degenerate. '\n"
     ]
    },
    {
     "name": "stdout",
     "output_type": "stream",
     "text": [
      "(146, 2358)\n",
      "(146, 2358)\n"
     ]
    },
    {
     "name": "stderr",
     "output_type": "stream",
     "text": [
      "C:\\Users\\patri\\anaconda3\\lib\\site-packages\\sklearn\\linear_model\\_least_angle.py:571: ConvergenceWarning: Regressors in active set degenerate. Dropping a regressor, after 131 iterations, i.e. alpha=1.156e-03, with an active set of 97 regressors, and the smallest cholesky pivot element being 1.490e-08. Reduce max_iter or increase eps parameters.\n",
      "  warnings.warn('Regressors in active set degenerate. '\n",
      "C:\\Users\\patri\\anaconda3\\lib\\site-packages\\sklearn\\linear_model\\_least_angle.py:571: ConvergenceWarning: Regressors in active set degenerate. Dropping a regressor, after 50 iterations, i.e. alpha=3.768e-03, with an active set of 42 regressors, and the smallest cholesky pivot element being 2.581e-08. Reduce max_iter or increase eps parameters.\n",
      "  warnings.warn('Regressors in active set degenerate. '\n",
      "C:\\Users\\patri\\anaconda3\\lib\\site-packages\\sklearn\\linear_model\\_least_angle.py:571: ConvergenceWarning: Regressors in active set degenerate. Dropping a regressor, after 65 iterations, i.e. alpha=3.048e-03, with an active set of 51 regressors, and the smallest cholesky pivot element being 2.107e-08. Reduce max_iter or increase eps parameters.\n",
      "  warnings.warn('Regressors in active set degenerate. '\n",
      "C:\\Users\\patri\\anaconda3\\lib\\site-packages\\sklearn\\linear_model\\_least_angle.py:571: ConvergenceWarning: Regressors in active set degenerate. Dropping a regressor, after 66 iterations, i.e. alpha=3.042e-03, with an active set of 52 regressors, and the smallest cholesky pivot element being 2.107e-08. Reduce max_iter or increase eps parameters.\n",
      "  warnings.warn('Regressors in active set degenerate. '\n",
      "C:\\Users\\patri\\anaconda3\\lib\\site-packages\\sklearn\\linear_model\\_least_angle.py:571: ConvergenceWarning: Regressors in active set degenerate. Dropping a regressor, after 86 iterations, i.e. alpha=2.228e-03, with an active set of 68 regressors, and the smallest cholesky pivot element being 2.107e-08. Reduce max_iter or increase eps parameters.\n",
      "  warnings.warn('Regressors in active set degenerate. '\n",
      "C:\\Users\\patri\\anaconda3\\lib\\site-packages\\sklearn\\linear_model\\_least_angle.py:571: ConvergenceWarning: Regressors in active set degenerate. Dropping a regressor, after 257 iterations, i.e. alpha=1.018e-03, with an active set of 105 regressors, and the smallest cholesky pivot element being 2.220e-16. Reduce max_iter or increase eps parameters.\n",
      "  warnings.warn('Regressors in active set degenerate. '\n",
      "C:\\Users\\patri\\anaconda3\\lib\\site-packages\\sklearn\\linear_model\\_least_angle.py:571: ConvergenceWarning: Regressors in active set degenerate. Dropping a regressor, after 260 iterations, i.e. alpha=1.014e-03, with an active set of 106 regressors, and the smallest cholesky pivot element being 1.490e-08. Reduce max_iter or increase eps parameters.\n",
      "  warnings.warn('Regressors in active set degenerate. '\n",
      "C:\\Users\\patri\\anaconda3\\lib\\site-packages\\sklearn\\linear_model\\_least_angle.py:598: ConvergenceWarning: Early stopping the lars path, as the residues are small and the current value of alpha is no longer well controlled. 263 iterations, alpha=1.009e-03, previous alpha=1.008e-03, with an active set of 108 regressors.\n",
      "  warnings.warn('Early stopping the lars path, as the residues '\n",
      "C:\\Users\\patri\\anaconda3\\lib\\site-packages\\sklearn\\linear_model\\_least_angle.py:571: ConvergenceWarning: Regressors in active set degenerate. Dropping a regressor, after 45 iterations, i.e. alpha=3.881e-03, with an active set of 37 regressors, and the smallest cholesky pivot element being 2.581e-08. Reduce max_iter or increase eps parameters.\n",
      "  warnings.warn('Regressors in active set degenerate. '\n",
      "C:\\Users\\patri\\anaconda3\\lib\\site-packages\\sklearn\\linear_model\\_least_angle.py:571: ConvergenceWarning: Regressors in active set degenerate. Dropping a regressor, after 96 iterations, i.e. alpha=2.216e-03, with an active set of 68 regressors, and the smallest cholesky pivot element being 1.825e-08. Reduce max_iter or increase eps parameters.\n",
      "  warnings.warn('Regressors in active set degenerate. '\n"
     ]
    },
    {
     "name": "stdout",
     "output_type": "stream",
     "text": [
      "(146, 2358)\n",
      "(146, 2358)\n"
     ]
    },
    {
     "name": "stderr",
     "output_type": "stream",
     "text": [
      "C:\\Users\\patri\\anaconda3\\lib\\site-packages\\sklearn\\linear_model\\_least_angle.py:571: ConvergenceWarning: Regressors in active set degenerate. Dropping a regressor, after 53 iterations, i.e. alpha=3.516e-03, with an active set of 43 regressors, and the smallest cholesky pivot element being 1.054e-08. Reduce max_iter or increase eps parameters.\n",
      "  warnings.warn('Regressors in active set degenerate. '\n",
      "C:\\Users\\patri\\anaconda3\\lib\\site-packages\\sklearn\\linear_model\\_least_angle.py:571: ConvergenceWarning: Regressors in active set degenerate. Dropping a regressor, after 89 iterations, i.e. alpha=2.128e-03, with an active set of 69 regressors, and the smallest cholesky pivot element being 2.220e-16. Reduce max_iter or increase eps parameters.\n",
      "  warnings.warn('Regressors in active set degenerate. '\n",
      "C:\\Users\\patri\\anaconda3\\lib\\site-packages\\sklearn\\linear_model\\_least_angle.py:571: ConvergenceWarning: Regressors in active set degenerate. Dropping a regressor, after 67 iterations, i.e. alpha=2.846e-03, with an active set of 51 regressors, and the smallest cholesky pivot element being 1.054e-08. Reduce max_iter or increase eps parameters.\n",
      "  warnings.warn('Regressors in active set degenerate. '\n",
      "C:\\Users\\patri\\anaconda3\\lib\\site-packages\\sklearn\\linear_model\\_least_angle.py:571: ConvergenceWarning: Regressors in active set degenerate. Dropping a regressor, after 124 iterations, i.e. alpha=1.259e-03, with an active set of 92 regressors, and the smallest cholesky pivot element being 1.054e-08. Reduce max_iter or increase eps parameters.\n",
      "  warnings.warn('Regressors in active set degenerate. '\n"
     ]
    },
    {
     "name": "stdout",
     "output_type": "stream",
     "text": [
      "(146, 2358)\n",
      "(146, 2358)\n"
     ]
    },
    {
     "name": "stderr",
     "output_type": "stream",
     "text": [
      "C:\\Users\\patri\\anaconda3\\lib\\site-packages\\sklearn\\linear_model\\_least_angle.py:571: ConvergenceWarning: Regressors in active set degenerate. Dropping a regressor, after 48 iterations, i.e. alpha=3.944e-03, with an active set of 38 regressors, and the smallest cholesky pivot element being 2.107e-08. Reduce max_iter or increase eps parameters.\n",
      "  warnings.warn('Regressors in active set degenerate. '\n",
      "C:\\Users\\patri\\anaconda3\\lib\\site-packages\\sklearn\\linear_model\\_least_angle.py:571: ConvergenceWarning: Regressors in active set degenerate. Dropping a regressor, after 85 iterations, i.e. alpha=2.339e-03, with an active set of 65 regressors, and the smallest cholesky pivot element being 2.220e-16. Reduce max_iter or increase eps parameters.\n",
      "  warnings.warn('Regressors in active set degenerate. '\n",
      "C:\\Users\\patri\\anaconda3\\lib\\site-packages\\sklearn\\linear_model\\_least_angle.py:571: ConvergenceWarning: Regressors in active set degenerate. Dropping a regressor, after 127 iterations, i.e. alpha=1.265e-03, with an active set of 89 regressors, and the smallest cholesky pivot element being 2.107e-08. Reduce max_iter or increase eps parameters.\n",
      "  warnings.warn('Regressors in active set degenerate. '\n",
      "C:\\Users\\patri\\anaconda3\\lib\\site-packages\\sklearn\\linear_model\\_least_angle.py:571: ConvergenceWarning: Regressors in active set degenerate. Dropping a regressor, after 127 iterations, i.e. alpha=1.264e-03, with an active set of 89 regressors, and the smallest cholesky pivot element being 2.107e-08. Reduce max_iter or increase eps parameters.\n",
      "  warnings.warn('Regressors in active set degenerate. '\n",
      "C:\\Users\\patri\\anaconda3\\lib\\site-packages\\sklearn\\linear_model\\_least_angle.py:598: ConvergenceWarning: Early stopping the lars path, as the residues are small and the current value of alpha is no longer well controlled. 136 iterations, alpha=1.191e-03, previous alpha=1.189e-03, with an active set of 95 regressors.\n",
      "  warnings.warn('Early stopping the lars path, as the residues '\n",
      "C:\\Users\\patri\\anaconda3\\lib\\site-packages\\sklearn\\linear_model\\_least_angle.py:571: ConvergenceWarning: Regressors in active set degenerate. Dropping a regressor, after 50 iterations, i.e. alpha=3.811e-03, with an active set of 42 regressors, and the smallest cholesky pivot element being 1.490e-08. Reduce max_iter or increase eps parameters.\n",
      "  warnings.warn('Regressors in active set degenerate. '\n",
      "C:\\Users\\patri\\anaconda3\\lib\\site-packages\\sklearn\\linear_model\\_least_angle.py:571: ConvergenceWarning: Regressors in active set degenerate. Dropping a regressor, after 62 iterations, i.e. alpha=3.089e-03, with an active set of 52 regressors, and the smallest cholesky pivot element being 1.825e-08. Reduce max_iter or increase eps parameters.\n",
      "  warnings.warn('Regressors in active set degenerate. '\n",
      "C:\\Users\\patri\\anaconda3\\lib\\site-packages\\sklearn\\linear_model\\_least_angle.py:598: ConvergenceWarning: Early stopping the lars path, as the residues are small and the current value of alpha is no longer well controlled. 63 iterations, alpha=3.071e-03, previous alpha=3.054e-03, with an active set of 52 regressors.\n",
      "  warnings.warn('Early stopping the lars path, as the residues '\n"
     ]
    },
    {
     "name": "stdout",
     "output_type": "stream",
     "text": [
      "(146, 2358)\n",
      "(146, 2358)\n",
      "(146, 2358)"
     ]
    },
    {
     "name": "stderr",
     "output_type": "stream",
     "text": [
      "C:\\Users\\patri\\anaconda3\\lib\\site-packages\\sklearn\\linear_model\\_least_angle.py:571: ConvergenceWarning: Regressors in active set degenerate. Dropping a regressor, after 50 iterations, i.e. alpha=3.767e-03, with an active set of 40 regressors, and the smallest cholesky pivot element being 2.220e-16. Reduce max_iter or increase eps parameters.\n",
      "  warnings.warn('Regressors in active set degenerate. '\n",
      "C:\\Users\\patri\\anaconda3\\lib\\site-packages\\sklearn\\linear_model\\_least_angle.py:571: ConvergenceWarning: Regressors in active set degenerate. Dropping a regressor, after 99 iterations, i.e. alpha=1.906e-03, with an active set of 69 regressors, and the smallest cholesky pivot element being 2.220e-16. Reduce max_iter or increase eps parameters.\n",
      "  warnings.warn('Regressors in active set degenerate. '\n",
      "C:\\Users\\patri\\anaconda3\\lib\\site-packages\\sklearn\\linear_model\\_least_angle.py:571: ConvergenceWarning: Regressors in active set degenerate. Dropping a regressor, after 47 iterations, i.e. alpha=3.900e-03, with an active set of 39 regressors, and the smallest cholesky pivot element being 1.490e-08. Reduce max_iter or increase eps parameters.\n",
      "  warnings.warn('Regressors in active set degenerate. '\n",
      "C:\\Users\\patri\\anaconda3\\lib\\site-packages\\sklearn\\linear_model\\_least_angle.py:571: ConvergenceWarning: Regressors in active set degenerate. Dropping a regressor, after 89 iterations, i.e. alpha=2.220e-03, with an active set of 71 regressors, and the smallest cholesky pivot element being 1.054e-08. Reduce max_iter or increase eps parameters.\n",
      "  warnings.warn('Regressors in active set degenerate. '\n",
      "C:\\Users\\patri\\anaconda3\\lib\\site-packages\\sklearn\\linear_model\\_least_angle.py:571: ConvergenceWarning: Regressors in active set degenerate. Dropping a regressor, after 90 iterations, i.e. alpha=2.217e-03, with an active set of 72 regressors, and the smallest cholesky pivot element being 1.054e-08. Reduce max_iter or increase eps parameters.\n",
      "  warnings.warn('Regressors in active set degenerate. '\n",
      "C:\\Users\\patri\\anaconda3\\lib\\site-packages\\sklearn\\linear_model\\_least_angle.py:571: ConvergenceWarning: Regressors in active set degenerate. Dropping a regressor, after 105 iterations, i.e. alpha=1.429e-03, with an active set of 77 regressors, and the smallest cholesky pivot element being 1.054e-08. Reduce max_iter or increase eps parameters.\n",
      "  warnings.warn('Regressors in active set degenerate. '\n",
      "C:\\Users\\patri\\anaconda3\\lib\\site-packages\\sklearn\\linear_model\\_least_angle.py:598: ConvergenceWarning: Early stopping the lars path, as the residues are small and the current value of alpha is no longer well controlled. 132 iterations, alpha=1.091e-03, previous alpha=1.084e-03, with an active set of 89 regressors.\n",
      "  warnings.warn('Early stopping the lars path, as the residues '\n"
     ]
    },
    {
     "name": "stdout",
     "output_type": "stream",
     "text": [
      "\n",
      "(146, 2358)\n"
     ]
    },
    {
     "name": "stderr",
     "output_type": "stream",
     "text": [
      "C:\\Users\\patri\\anaconda3\\lib\\site-packages\\sklearn\\linear_model\\_least_angle.py:571: ConvergenceWarning: Regressors in active set degenerate. Dropping a regressor, after 51 iterations, i.e. alpha=3.804e-03, with an active set of 41 regressors, and the smallest cholesky pivot element being 1.490e-08. Reduce max_iter or increase eps parameters.\n",
      "  warnings.warn('Regressors in active set degenerate. '\n",
      "C:\\Users\\patri\\anaconda3\\lib\\site-packages\\sklearn\\linear_model\\_least_angle.py:571: ConvergenceWarning: Regressors in active set degenerate. Dropping a regressor, after 52 iterations, i.e. alpha=3.804e-03, with an active set of 42 regressors, and the smallest cholesky pivot element being 1.490e-08. Reduce max_iter or increase eps parameters.\n",
      "  warnings.warn('Regressors in active set degenerate. '\n",
      "C:\\Users\\patri\\anaconda3\\lib\\site-packages\\sklearn\\linear_model\\_least_angle.py:571: ConvergenceWarning: Regressors in active set degenerate. Dropping a regressor, after 63 iterations, i.e. alpha=3.080e-03, with an active set of 51 regressors, and the smallest cholesky pivot element being 2.107e-08. Reduce max_iter or increase eps parameters.\n",
      "  warnings.warn('Regressors in active set degenerate. '\n",
      "C:\\Users\\patri\\anaconda3\\lib\\site-packages\\sklearn\\linear_model\\_least_angle.py:571: ConvergenceWarning: Regressors in active set degenerate. Dropping a regressor, after 63 iterations, i.e. alpha=3.068e-03, with an active set of 51 regressors, and the smallest cholesky pivot element being 2.107e-08. Reduce max_iter or increase eps parameters.\n",
      "  warnings.warn('Regressors in active set degenerate. '\n",
      "C:\\Users\\patri\\anaconda3\\lib\\site-packages\\sklearn\\linear_model\\_least_angle.py:598: ConvergenceWarning: Early stopping the lars path, as the residues are small and the current value of alpha is no longer well controlled. 160 iterations, alpha=1.652e-03, previous alpha=1.647e-03, with an active set of 85 regressors.\n",
      "  warnings.warn('Early stopping the lars path, as the residues '\n"
     ]
    },
    {
     "name": "stdout",
     "output_type": "stream",
     "text": [
      "(146, 2358)\n",
      "(146, 2358)\n"
     ]
    },
    {
     "name": "stderr",
     "output_type": "stream",
     "text": [
      "C:\\Users\\patri\\anaconda3\\lib\\site-packages\\sklearn\\linear_model\\_least_angle.py:571: ConvergenceWarning: Regressors in active set degenerate. Dropping a regressor, after 59 iterations, i.e. alpha=3.173e-03, with an active set of 49 regressors, and the smallest cholesky pivot element being 2.220e-16. Reduce max_iter or increase eps parameters.\n",
      "  warnings.warn('Regressors in active set degenerate. '\n",
      "C:\\Users\\patri\\anaconda3\\lib\\site-packages\\sklearn\\linear_model\\_least_angle.py:571: ConvergenceWarning: Regressors in active set degenerate. Dropping a regressor, after 81 iterations, i.e. alpha=2.389e-03, with an active set of 61 regressors, and the smallest cholesky pivot element being 2.220e-16. Reduce max_iter or increase eps parameters.\n",
      "  warnings.warn('Regressors in active set degenerate. '\n",
      "C:\\Users\\patri\\anaconda3\\lib\\site-packages\\sklearn\\linear_model\\_least_angle.py:571: ConvergenceWarning: Regressors in active set degenerate. Dropping a regressor, after 81 iterations, i.e. alpha=2.388e-03, with an active set of 61 regressors, and the smallest cholesky pivot element being 2.220e-16. Reduce max_iter or increase eps parameters.\n",
      "  warnings.warn('Regressors in active set degenerate. '\n",
      "C:\\Users\\patri\\anaconda3\\lib\\site-packages\\sklearn\\linear_model\\_least_angle.py:598: ConvergenceWarning: Early stopping the lars path, as the residues are small and the current value of alpha is no longer well controlled. 98 iterations, alpha=1.943e-03, previous alpha=1.941e-03, with an active set of 77 regressors.\n",
      "  warnings.warn('Early stopping the lars path, as the residues '\n"
     ]
    },
    {
     "name": "stdout",
     "output_type": "stream",
     "text": [
      "(146, 2358)\n",
      "(146, 2358)\n"
     ]
    },
    {
     "name": "stderr",
     "output_type": "stream",
     "text": [
      "C:\\Users\\patri\\anaconda3\\lib\\site-packages\\sklearn\\linear_model\\_least_angle.py:571: ConvergenceWarning: Regressors in active set degenerate. Dropping a regressor, after 49 iterations, i.e. alpha=3.792e-03, with an active set of 39 regressors, and the smallest cholesky pivot element being 1.490e-08. Reduce max_iter or increase eps parameters.\n",
      "  warnings.warn('Regressors in active set degenerate. '\n",
      "C:\\Users\\patri\\anaconda3\\lib\\site-packages\\sklearn\\linear_model\\_least_angle.py:571: ConvergenceWarning: Regressors in active set degenerate. Dropping a regressor, after 89 iterations, i.e. alpha=2.199e-03, with an active set of 69 regressors, and the smallest cholesky pivot element being 1.490e-08. Reduce max_iter or increase eps parameters.\n",
      "  warnings.warn('Regressors in active set degenerate. '\n",
      "C:\\Users\\patri\\anaconda3\\lib\\site-packages\\sklearn\\linear_model\\_least_angle.py:571: ConvergenceWarning: Regressors in active set degenerate. Dropping a regressor, after 44 iterations, i.e. alpha=4.117e-03, with an active set of 36 regressors, and the smallest cholesky pivot element being 2.220e-16. Reduce max_iter or increase eps parameters.\n",
      "  warnings.warn('Regressors in active set degenerate. '\n",
      "C:\\Users\\patri\\anaconda3\\lib\\site-packages\\sklearn\\linear_model\\_least_angle.py:571: ConvergenceWarning: Regressors in active set degenerate. Dropping a regressor, after 67 iterations, i.e. alpha=2.768e-03, with an active set of 55 regressors, and the smallest cholesky pivot element being 1.054e-08. Reduce max_iter or increase eps parameters.\n",
      "  warnings.warn('Regressors in active set degenerate. '\n",
      "C:\\Users\\patri\\anaconda3\\lib\\site-packages\\sklearn\\linear_model\\_least_angle.py:571: ConvergenceWarning: Regressors in active set degenerate. Dropping a regressor, after 69 iterations, i.e. alpha=2.691e-03, with an active set of 57 regressors, and the smallest cholesky pivot element being 1.054e-08. Reduce max_iter or increase eps parameters.\n",
      "  warnings.warn('Regressors in active set degenerate. '\n",
      "C:\\Users\\patri\\anaconda3\\lib\\site-packages\\sklearn\\linear_model\\_least_angle.py:598: ConvergenceWarning: Early stopping the lars path, as the residues are small and the current value of alpha is no longer well controlled. 118 iterations, alpha=1.334e-03, previous alpha=1.334e-03, with an active set of 89 regressors.\n",
      "  warnings.warn('Early stopping the lars path, as the residues '\n"
     ]
    },
    {
     "name": "stdout",
     "output_type": "stream",
     "text": [
      "(146, 2358)\n",
      "(146, 2358)\n"
     ]
    },
    {
     "name": "stderr",
     "output_type": "stream",
     "text": [
      "C:\\Users\\patri\\anaconda3\\lib\\site-packages\\sklearn\\linear_model\\_least_angle.py:571: ConvergenceWarning: Regressors in active set degenerate. Dropping a regressor, after 46 iterations, i.e. alpha=4.124e-03, with an active set of 40 regressors, and the smallest cholesky pivot element being 1.490e-08. Reduce max_iter or increase eps parameters.\n",
      "  warnings.warn('Regressors in active set degenerate. '\n",
      "C:\\Users\\patri\\anaconda3\\lib\\site-packages\\sklearn\\linear_model\\_least_angle.py:571: ConvergenceWarning: Regressors in active set degenerate. Dropping a regressor, after 73 iterations, i.e. alpha=2.408e-03, with an active set of 59 regressors, and the smallest cholesky pivot element being 1.054e-08. Reduce max_iter or increase eps parameters.\n",
      "  warnings.warn('Regressors in active set degenerate. '\n",
      "C:\\Users\\patri\\anaconda3\\lib\\site-packages\\sklearn\\linear_model\\_least_angle.py:571: ConvergenceWarning: Regressors in active set degenerate. Dropping a regressor, after 105 iterations, i.e. alpha=1.432e-03, with an active set of 85 regressors, and the smallest cholesky pivot element being 1.490e-08. Reduce max_iter or increase eps parameters.\n",
      "  warnings.warn('Regressors in active set degenerate. '\n",
      "C:\\Users\\patri\\anaconda3\\lib\\site-packages\\sklearn\\linear_model\\_least_angle.py:571: ConvergenceWarning: Regressors in active set degenerate. Dropping a regressor, after 48 iterations, i.e. alpha=3.841e-03, with an active set of 40 regressors, and the smallest cholesky pivot element being 2.220e-16. Reduce max_iter or increase eps parameters.\n",
      "  warnings.warn('Regressors in active set degenerate. '\n",
      "C:\\Users\\patri\\anaconda3\\lib\\site-packages\\sklearn\\linear_model\\_least_angle.py:571: ConvergenceWarning: Regressors in active set degenerate. Dropping a regressor, after 96 iterations, i.e. alpha=1.958e-03, with an active set of 74 regressors, and the smallest cholesky pivot element being 2.107e-08. Reduce max_iter or increase eps parameters.\n",
      "  warnings.warn('Regressors in active set degenerate. '\n",
      "C:\\Users\\patri\\anaconda3\\lib\\site-packages\\sklearn\\linear_model\\_least_angle.py:598: ConvergenceWarning: Early stopping the lars path, as the residues are small and the current value of alpha is no longer well controlled. 102 iterations, alpha=1.756e-03, previous alpha=1.756e-03, with an active set of 79 regressors.\n",
      "  warnings.warn('Early stopping the lars path, as the residues '\n"
     ]
    },
    {
     "name": "stdout",
     "output_type": "stream",
     "text": [
      "(146, 2358)\n",
      "(146, 2358)\n"
     ]
    },
    {
     "name": "stderr",
     "output_type": "stream",
     "text": [
      "C:\\Users\\patri\\anaconda3\\lib\\site-packages\\sklearn\\linear_model\\_least_angle.py:571: ConvergenceWarning: Regressors in active set degenerate. Dropping a regressor, after 49 iterations, i.e. alpha=3.853e-03, with an active set of 41 regressors, and the smallest cholesky pivot element being 1.490e-08. Reduce max_iter or increase eps parameters.\n",
      "  warnings.warn('Regressors in active set degenerate. '\n",
      "C:\\Users\\patri\\anaconda3\\lib\\site-packages\\sklearn\\linear_model\\_least_angle.py:571: ConvergenceWarning: Regressors in active set degenerate. Dropping a regressor, after 134 iterations, i.e. alpha=1.161e-03, with an active set of 90 regressors, and the smallest cholesky pivot element being 2.220e-16. Reduce max_iter or increase eps parameters.\n",
      "  warnings.warn('Regressors in active set degenerate. '\n",
      "C:\\Users\\patri\\anaconda3\\lib\\site-packages\\sklearn\\linear_model\\_least_angle.py:571: ConvergenceWarning: Regressors in active set degenerate. Dropping a regressor, after 135 iterations, i.e. alpha=1.159e-03, with an active set of 91 regressors, and the smallest cholesky pivot element being 2.220e-16. Reduce max_iter or increase eps parameters.\n",
      "  warnings.warn('Regressors in active set degenerate. '\n",
      "C:\\Users\\patri\\anaconda3\\lib\\site-packages\\sklearn\\linear_model\\_least_angle.py:571: ConvergenceWarning: Regressors in active set degenerate. Dropping a regressor, after 50 iterations, i.e. alpha=3.745e-03, with an active set of 40 regressors, and the smallest cholesky pivot element being 1.825e-08. Reduce max_iter or increase eps parameters.\n",
      "  warnings.warn('Regressors in active set degenerate. '\n",
      "C:\\Users\\patri\\anaconda3\\lib\\site-packages\\sklearn\\linear_model\\_least_angle.py:571: ConvergenceWarning: Regressors in active set degenerate. Dropping a regressor, after 98 iterations, i.e. alpha=1.953e-03, with an active set of 76 regressors, and the smallest cholesky pivot element being 1.490e-08. Reduce max_iter or increase eps parameters.\n",
      "  warnings.warn('Regressors in active set degenerate. '\n",
      "C:\\Users\\patri\\anaconda3\\lib\\site-packages\\sklearn\\linear_model\\_least_angle.py:571: ConvergenceWarning: Regressors in active set degenerate. Dropping a regressor, after 101 iterations, i.e. alpha=1.828e-03, with an active set of 79 regressors, and the smallest cholesky pivot element being 1.490e-08. Reduce max_iter or increase eps parameters.\n",
      "  warnings.warn('Regressors in active set degenerate. '\n"
     ]
    },
    {
     "name": "stdout",
     "output_type": "stream",
     "text": [
      "(146, 2358)\n",
      "(146, 2358)\n"
     ]
    },
    {
     "name": "stderr",
     "output_type": "stream",
     "text": [
      "C:\\Users\\patri\\anaconda3\\lib\\site-packages\\sklearn\\linear_model\\_least_angle.py:571: ConvergenceWarning: Regressors in active set degenerate. Dropping a regressor, after 53 iterations, i.e. alpha=3.766e-03, with an active set of 41 regressors, and the smallest cholesky pivot element being 1.490e-08. Reduce max_iter or increase eps parameters.\n",
      "  warnings.warn('Regressors in active set degenerate. '\n",
      "C:\\Users\\patri\\anaconda3\\lib\\site-packages\\sklearn\\linear_model\\_least_angle.py:571: ConvergenceWarning: Regressors in active set degenerate. Dropping a regressor, after 132 iterations, i.e. alpha=1.119e-03, with an active set of 92 regressors, and the smallest cholesky pivot element being 2.107e-08. Reduce max_iter or increase eps parameters.\n",
      "  warnings.warn('Regressors in active set degenerate. '\n",
      "C:\\Users\\patri\\anaconda3\\lib\\site-packages\\sklearn\\linear_model\\_least_angle.py:571: ConvergenceWarning: Regressors in active set degenerate. Dropping a regressor, after 68 iterations, i.e. alpha=2.815e-03, with an active set of 54 regressors, and the smallest cholesky pivot element being 1.490e-08. Reduce max_iter or increase eps parameters.\n",
      "  warnings.warn('Regressors in active set degenerate. '\n",
      "C:\\Users\\patri\\anaconda3\\lib\\site-packages\\sklearn\\linear_model\\_least_angle.py:571: ConvergenceWarning: Regressors in active set degenerate. Dropping a regressor, after 89 iterations, i.e. alpha=2.190e-03, with an active set of 69 regressors, and the smallest cholesky pivot element being 1.490e-08. Reduce max_iter or increase eps parameters.\n",
      "  warnings.warn('Regressors in active set degenerate. '\n"
     ]
    },
    {
     "name": "stdout",
     "output_type": "stream",
     "text": [
      "(146, 2358)\n",
      "(146, 2358)\n"
     ]
    },
    {
     "name": "stderr",
     "output_type": "stream",
     "text": [
      "C:\\Users\\patri\\anaconda3\\lib\\site-packages\\sklearn\\linear_model\\_least_angle.py:571: ConvergenceWarning: Regressors in active set degenerate. Dropping a regressor, after 49 iterations, i.e. alpha=3.803e-03, with an active set of 39 regressors, and the smallest cholesky pivot element being 1.054e-08. Reduce max_iter or increase eps parameters.\n",
      "  warnings.warn('Regressors in active set degenerate. '\n",
      "C:\\Users\\patri\\anaconda3\\lib\\site-packages\\sklearn\\linear_model\\_least_angle.py:571: ConvergenceWarning: Regressors in active set degenerate. Dropping a regressor, after 85 iterations, i.e. alpha=2.212e-03, with an active set of 65 regressors, and the smallest cholesky pivot element being 1.490e-08. Reduce max_iter or increase eps parameters.\n",
      "  warnings.warn('Regressors in active set degenerate. '\n",
      "C:\\Users\\patri\\anaconda3\\lib\\site-packages\\sklearn\\linear_model\\_least_angle.py:598: ConvergenceWarning: Early stopping the lars path, as the residues are small and the current value of alpha is no longer well controlled. 93 iterations, alpha=2.073e-03, previous alpha=2.073e-03, with an active set of 72 regressors.\n",
      "  warnings.warn('Early stopping the lars path, as the residues '\n",
      "C:\\Users\\patri\\anaconda3\\lib\\site-packages\\sklearn\\linear_model\\_least_angle.py:571: ConvergenceWarning: Regressors in active set degenerate. Dropping a regressor, after 47 iterations, i.e. alpha=3.758e-03, with an active set of 39 regressors, and the smallest cholesky pivot element being 2.220e-16. Reduce max_iter or increase eps parameters.\n",
      "  warnings.warn('Regressors in active set degenerate. '\n",
      "C:\\Users\\patri\\anaconda3\\lib\\site-packages\\sklearn\\linear_model\\_least_angle.py:571: ConvergenceWarning: Regressors in active set degenerate. Dropping a regressor, after 83 iterations, i.e. alpha=2.155e-03, with an active set of 65 regressors, and the smallest cholesky pivot element being 2.107e-08. Reduce max_iter or increase eps parameters.\n",
      "  warnings.warn('Regressors in active set degenerate. '\n",
      "C:\\Users\\patri\\anaconda3\\lib\\site-packages\\sklearn\\linear_model\\_least_angle.py:571: ConvergenceWarning: Regressors in active set degenerate. Dropping a regressor, after 120 iterations, i.e. alpha=1.183e-03, with an active set of 94 regressors, and the smallest cholesky pivot element being 2.107e-08. Reduce max_iter or increase eps parameters.\n",
      "  warnings.warn('Regressors in active set degenerate. '\n"
     ]
    },
    {
     "name": "stdout",
     "output_type": "stream",
     "text": [
      "(146, 2358)\n",
      "(146, 2358)\n"
     ]
    },
    {
     "name": "stderr",
     "output_type": "stream",
     "text": [
      "C:\\Users\\patri\\anaconda3\\lib\\site-packages\\sklearn\\linear_model\\_least_angle.py:571: ConvergenceWarning: Regressors in active set degenerate. Dropping a regressor, after 57 iterations, i.e. alpha=3.481e-03, with an active set of 45 regressors, and the smallest cholesky pivot element being 1.490e-08. Reduce max_iter or increase eps parameters.\n",
      "  warnings.warn('Regressors in active set degenerate. '\n",
      "C:\\Users\\patri\\anaconda3\\lib\\site-packages\\sklearn\\linear_model\\_least_angle.py:571: ConvergenceWarning: Regressors in active set degenerate. Dropping a regressor, after 114 iterations, i.e. alpha=1.499e-03, with an active set of 90 regressors, and the smallest cholesky pivot element being 2.220e-16. Reduce max_iter or increase eps parameters.\n",
      "  warnings.warn('Regressors in active set degenerate. '\n",
      "C:\\Users\\patri\\anaconda3\\lib\\site-packages\\sklearn\\linear_model\\_least_angle.py:571: ConvergenceWarning: Regressors in active set degenerate. Dropping a regressor, after 142 iterations, i.e. alpha=1.100e-03, with an active set of 100 regressors, and the smallest cholesky pivot element being 1.490e-08. Reduce max_iter or increase eps parameters.\n",
      "  warnings.warn('Regressors in active set degenerate. '\n",
      "C:\\Users\\patri\\anaconda3\\lib\\site-packages\\sklearn\\linear_model\\_least_angle.py:571: ConvergenceWarning: Regressors in active set degenerate. Dropping a regressor, after 62 iterations, i.e. alpha=3.007e-03, with an active set of 52 regressors, and the smallest cholesky pivot element being 1.490e-08. Reduce max_iter or increase eps parameters.\n",
      "  warnings.warn('Regressors in active set degenerate. '\n",
      "C:\\Users\\patri\\anaconda3\\lib\\site-packages\\sklearn\\linear_model\\_least_angle.py:571: ConvergenceWarning: Regressors in active set degenerate. Dropping a regressor, after 80 iterations, i.e. alpha=2.285e-03, with an active set of 66 regressors, and the smallest cholesky pivot element being 1.490e-08. Reduce max_iter or increase eps parameters.\n",
      "  warnings.warn('Regressors in active set degenerate. '\n",
      "C:\\Users\\patri\\anaconda3\\lib\\site-packages\\sklearn\\linear_model\\_least_angle.py:571: ConvergenceWarning: Regressors in active set degenerate. Dropping a regressor, after 101 iterations, i.e. alpha=1.516e-03, with an active set of 75 regressors, and the smallest cholesky pivot element being 2.107e-08. Reduce max_iter or increase eps parameters.\n",
      "  warnings.warn('Regressors in active set degenerate. '\n",
      "C:\\Users\\patri\\anaconda3\\lib\\site-packages\\sklearn\\linear_model\\_least_angle.py:598: ConvergenceWarning: Early stopping the lars path, as the residues are small and the current value of alpha is no longer well controlled. 103 iterations, alpha=1.509e-03, previous alpha=1.509e-03, with an active set of 76 regressors.\n",
      "  warnings.warn('Early stopping the lars path, as the residues '\n"
     ]
    },
    {
     "name": "stdout",
     "output_type": "stream",
     "text": [
      "(146, 2358)\n",
      "(146, 2358)\n"
     ]
    },
    {
     "name": "stderr",
     "output_type": "stream",
     "text": [
      "C:\\Users\\patri\\anaconda3\\lib\\site-packages\\sklearn\\linear_model\\_least_angle.py:571: ConvergenceWarning: Regressors in active set degenerate. Dropping a regressor, after 48 iterations, i.e. alpha=3.781e-03, with an active set of 40 regressors, and the smallest cholesky pivot element being 1.054e-08. Reduce max_iter or increase eps parameters.\n",
      "  warnings.warn('Regressors in active set degenerate. '\n",
      "C:\\Users\\patri\\anaconda3\\lib\\site-packages\\sklearn\\linear_model\\_least_angle.py:571: ConvergenceWarning: Regressors in active set degenerate. Dropping a regressor, after 97 iterations, i.e. alpha=1.958e-03, with an active set of 75 regressors, and the smallest cholesky pivot element being 1.054e-08. Reduce max_iter or increase eps parameters.\n",
      "  warnings.warn('Regressors in active set degenerate. '\n",
      "C:\\Users\\patri\\anaconda3\\lib\\site-packages\\sklearn\\linear_model\\_least_angle.py:571: ConvergenceWarning: Regressors in active set degenerate. Dropping a regressor, after 135 iterations, i.e. alpha=1.105e-03, with an active set of 93 regressors, and the smallest cholesky pivot element being 2.581e-08. Reduce max_iter or increase eps parameters.\n",
      "  warnings.warn('Regressors in active set degenerate. '\n",
      "C:\\Users\\patri\\anaconda3\\lib\\site-packages\\sklearn\\linear_model\\_least_angle.py:598: ConvergenceWarning: Early stopping the lars path, as the residues are small and the current value of alpha is no longer well controlled. 143 iterations, alpha=1.024e-03, previous alpha=1.024e-03, with an active set of 92 regressors.\n",
      "  warnings.warn('Early stopping the lars path, as the residues '\n",
      "C:\\Users\\patri\\anaconda3\\lib\\site-packages\\sklearn\\linear_model\\_least_angle.py:571: ConvergenceWarning: Regressors in active set degenerate. Dropping a regressor, after 59 iterations, i.e. alpha=3.247e-03, with an active set of 47 regressors, and the smallest cholesky pivot element being 1.490e-08. Reduce max_iter or increase eps parameters.\n",
      "  warnings.warn('Regressors in active set degenerate. '\n",
      "C:\\Users\\patri\\anaconda3\\lib\\site-packages\\sklearn\\linear_model\\_least_angle.py:571: ConvergenceWarning: Regressors in active set degenerate. Dropping a regressor, after 60 iterations, i.e. alpha=3.245e-03, with an active set of 48 regressors, and the smallest cholesky pivot element being 1.490e-08. Reduce max_iter or increase eps parameters.\n",
      "  warnings.warn('Regressors in active set degenerate. '\n",
      "C:\\Users\\patri\\anaconda3\\lib\\site-packages\\sklearn\\linear_model\\_least_angle.py:571: ConvergenceWarning: Regressors in active set degenerate. Dropping a regressor, after 92 iterations, i.e. alpha=2.130e-03, with an active set of 70 regressors, and the smallest cholesky pivot element being 1.054e-08. Reduce max_iter or increase eps parameters.\n",
      "  warnings.warn('Regressors in active set degenerate. '\n",
      "C:\\Users\\patri\\anaconda3\\lib\\site-packages\\sklearn\\linear_model\\_least_angle.py:598: ConvergenceWarning: Early stopping the lars path, as the residues are small and the current value of alpha is no longer well controlled. 210 iterations, alpha=1.144e-03, previous alpha=1.143e-03, with an active set of 101 regressors.\n",
      "  warnings.warn('Early stopping the lars path, as the residues '\n",
      "C:\\Users\\patri\\anaconda3\\lib\\site-packages\\sklearn\\linear_model\\_least_angle.py:571: ConvergenceWarning: Regressors in active set degenerate. Dropping a regressor, after 52 iterations, i.e. alpha=3.699e-03, with an active set of 42 regressors, and the smallest cholesky pivot element being 2.220e-16. Reduce max_iter or increase eps parameters.\n",
      "  warnings.warn('Regressors in active set degenerate. '\n",
      "C:\\Users\\patri\\anaconda3\\lib\\site-packages\\sklearn\\linear_model\\_least_angle.py:571: ConvergenceWarning: Regressors in active set degenerate. Dropping a regressor, after 62 iterations, i.e. alpha=2.992e-03, with an active set of 50 regressors, and the smallest cholesky pivot element being 2.220e-16. Reduce max_iter or increase eps parameters.\n",
      "  warnings.warn('Regressors in active set degenerate. '\n",
      "C:\\Users\\patri\\anaconda3\\lib\\site-packages\\sklearn\\linear_model\\_least_angle.py:571: ConvergenceWarning: Regressors in active set degenerate. Dropping a regressor, after 62 iterations, i.e. alpha=2.989e-03, with an active set of 50 regressors, and the smallest cholesky pivot element being 2.220e-16. Reduce max_iter or increase eps parameters.\n",
      "  warnings.warn('Regressors in active set degenerate. '\n",
      "C:\\Users\\patri\\anaconda3\\lib\\site-packages\\sklearn\\linear_model\\_least_angle.py:598: ConvergenceWarning: Early stopping the lars path, as the residues are small and the current value of alpha is no longer well controlled. 69 iterations, alpha=2.837e-03, previous alpha=2.834e-03, with an active set of 56 regressors.\n",
      "  warnings.warn('Early stopping the lars path, as the residues '\n",
      "C:\\Users\\patri\\anaconda3\\lib\\site-packages\\sklearn\\linear_model\\_least_angle.py:571: ConvergenceWarning: Regressors in active set degenerate. Dropping a regressor, after 47 iterations, i.e. alpha=3.813e-03, with an active set of 39 regressors, and the smallest cholesky pivot element being 2.581e-08. Reduce max_iter or increase eps parameters.\n",
      "  warnings.warn('Regressors in active set degenerate. '\n",
      "C:\\Users\\patri\\anaconda3\\lib\\site-packages\\sklearn\\linear_model\\_least_angle.py:571: ConvergenceWarning: Regressors in active set degenerate. Dropping a regressor, after 86 iterations, i.e. alpha=2.172e-03, with an active set of 68 regressors, and the smallest cholesky pivot element being 2.107e-08. Reduce max_iter or increase eps parameters.\n",
      "  warnings.warn('Regressors in active set degenerate. '\n"
     ]
    },
    {
     "name": "stdout",
     "output_type": "stream",
     "text": [
      "(146, 2358)\n",
      "(146, 2358)\n"
     ]
    },
    {
     "name": "stderr",
     "output_type": "stream",
     "text": [
      "C:\\Users\\patri\\anaconda3\\lib\\site-packages\\sklearn\\linear_model\\_least_angle.py:571: ConvergenceWarning: Regressors in active set degenerate. Dropping a regressor, after 50 iterations, i.e. alpha=3.783e-03, with an active set of 40 regressors, and the smallest cholesky pivot element being 2.107e-08. Reduce max_iter or increase eps parameters.\n",
      "  warnings.warn('Regressors in active set degenerate. '\n",
      "C:\\Users\\patri\\anaconda3\\lib\\site-packages\\sklearn\\linear_model\\_least_angle.py:571: ConvergenceWarning: Regressors in active set degenerate. Dropping a regressor, after 51 iterations, i.e. alpha=3.780e-03, with an active set of 41 regressors, and the smallest cholesky pivot element being 2.107e-08. Reduce max_iter or increase eps parameters.\n",
      "  warnings.warn('Regressors in active set degenerate. '\n",
      "C:\\Users\\patri\\anaconda3\\lib\\site-packages\\sklearn\\linear_model\\_least_angle.py:598: ConvergenceWarning: Early stopping the lars path, as the residues are small and the current value of alpha is no longer well controlled. 123 iterations, alpha=1.765e-03, previous alpha=1.765e-03, with an active set of 78 regressors.\n",
      "  warnings.warn('Early stopping the lars path, as the residues '\n",
      "C:\\Users\\patri\\anaconda3\\lib\\site-packages\\sklearn\\linear_model\\_least_angle.py:571: ConvergenceWarning: Regressors in active set degenerate. Dropping a regressor, after 49 iterations, i.e. alpha=3.713e-03, with an active set of 39 regressors, and the smallest cholesky pivot element being 2.107e-08. Reduce max_iter or increase eps parameters.\n",
      "  warnings.warn('Regressors in active set degenerate. '\n",
      "C:\\Users\\patri\\anaconda3\\lib\\site-packages\\sklearn\\linear_model\\_least_angle.py:571: ConvergenceWarning: Regressors in active set degenerate. Dropping a regressor, after 50 iterations, i.e. alpha=3.711e-03, with an active set of 40 regressors, and the smallest cholesky pivot element being 2.107e-08. Reduce max_iter or increase eps parameters.\n",
      "  warnings.warn('Regressors in active set degenerate. '\n",
      "C:\\Users\\patri\\anaconda3\\lib\\site-packages\\sklearn\\linear_model\\_least_angle.py:571: ConvergenceWarning: Regressors in active set degenerate. Dropping a regressor, after 109 iterations, i.e. alpha=1.814e-03, with an active set of 79 regressors, and the smallest cholesky pivot element being 2.107e-08. Reduce max_iter or increase eps parameters.\n",
      "  warnings.warn('Regressors in active set degenerate. '\n",
      "C:\\Users\\patri\\anaconda3\\lib\\site-packages\\sklearn\\linear_model\\_least_angle.py:598: ConvergenceWarning: Early stopping the lars path, as the residues are small and the current value of alpha is no longer well controlled. 110 iterations, alpha=1.811e-03, previous alpha=1.805e-03, with an active set of 79 regressors.\n",
      "  warnings.warn('Early stopping the lars path, as the residues '\n"
     ]
    },
    {
     "name": "stdout",
     "output_type": "stream",
     "text": [
      "(146, 2358)\n",
      "(146, 2358)\n",
      "(146, 2358)\n"
     ]
    },
    {
     "name": "stderr",
     "output_type": "stream",
     "text": [
      "C:\\Users\\patri\\anaconda3\\lib\\site-packages\\sklearn\\linear_model\\_least_angle.py:571: ConvergenceWarning: Regressors in active set degenerate. Dropping a regressor, after 58 iterations, i.e. alpha=3.321e-03, with an active set of 46 regressors, and the smallest cholesky pivot element being 1.490e-08. Reduce max_iter or increase eps parameters.\n",
      "  warnings.warn('Regressors in active set degenerate. '\n",
      "C:\\Users\\patri\\anaconda3\\lib\\site-packages\\sklearn\\linear_model\\_least_angle.py:571: ConvergenceWarning: Regressors in active set degenerate. Dropping a regressor, after 127 iterations, i.e. alpha=1.288e-03, with an active set of 89 regressors, and the smallest cholesky pivot element being 2.220e-16. Reduce max_iter or increase eps parameters.\n",
      "  warnings.warn('Regressors in active set degenerate. '\n",
      "C:\\Users\\patri\\anaconda3\\lib\\site-packages\\sklearn\\linear_model\\_least_angle.py:571: ConvergenceWarning: Regressors in active set degenerate. Dropping a regressor, after 128 iterations, i.e. alpha=1.283e-03, with an active set of 90 regressors, and the smallest cholesky pivot element being 2.220e-16. Reduce max_iter or increase eps parameters.\n",
      "  warnings.warn('Regressors in active set degenerate. '\n",
      "C:\\Users\\patri\\anaconda3\\lib\\site-packages\\sklearn\\linear_model\\_least_angle.py:571: ConvergenceWarning: Regressors in active set degenerate. Dropping a regressor, after 129 iterations, i.e. alpha=1.274e-03, with an active set of 91 regressors, and the smallest cholesky pivot element being 2.220e-16. Reduce max_iter or increase eps parameters.\n",
      "  warnings.warn('Regressors in active set degenerate. '\n",
      "C:\\Users\\patri\\anaconda3\\lib\\site-packages\\sklearn\\linear_model\\_least_angle.py:571: ConvergenceWarning: Regressors in active set degenerate. Dropping a regressor, after 76 iterations, i.e. alpha=2.397e-03, with an active set of 60 regressors, and the smallest cholesky pivot element being 1.490e-08. Reduce max_iter or increase eps parameters.\n",
      "  warnings.warn('Regressors in active set degenerate. '\n",
      "C:\\Users\\patri\\anaconda3\\lib\\site-packages\\sklearn\\linear_model\\_least_angle.py:571: ConvergenceWarning: Regressors in active set degenerate. Dropping a regressor, after 114 iterations, i.e. alpha=1.417e-03, with an active set of 94 regressors, and the smallest cholesky pivot element being 2.220e-16. Reduce max_iter or increase eps parameters.\n",
      "  warnings.warn('Regressors in active set degenerate. '\n"
     ]
    },
    {
     "name": "stdout",
     "output_type": "stream",
     "text": [
      "(146, 2358)\n",
      "(146, 2358)\n"
     ]
    },
    {
     "name": "stderr",
     "output_type": "stream",
     "text": [
      "C:\\Users\\patri\\anaconda3\\lib\\site-packages\\sklearn\\linear_model\\_least_angle.py:571: ConvergenceWarning: Regressors in active set degenerate. Dropping a regressor, after 50 iterations, i.e. alpha=3.803e-03, with an active set of 40 regressors, and the smallest cholesky pivot element being 2.107e-08. Reduce max_iter or increase eps parameters.\n",
      "  warnings.warn('Regressors in active set degenerate. '\n",
      "C:\\Users\\patri\\anaconda3\\lib\\site-packages\\sklearn\\linear_model\\_least_angle.py:571: ConvergenceWarning: Regressors in active set degenerate. Dropping a regressor, after 96 iterations, i.e. alpha=1.942e-03, with an active set of 70 regressors, and the smallest cholesky pivot element being 2.220e-16. Reduce max_iter or increase eps parameters.\n",
      "  warnings.warn('Regressors in active set degenerate. '\n"
     ]
    },
    {
     "name": "stdout",
     "output_type": "stream",
     "text": [
      "(146, 2358)\n",
      "(146, 2358)\n"
     ]
    },
    {
     "name": "stderr",
     "output_type": "stream",
     "text": [
      "C:\\Users\\patri\\anaconda3\\lib\\site-packages\\sklearn\\linear_model\\_least_angle.py:571: ConvergenceWarning: Regressors in active set degenerate. Dropping a regressor, after 90 iterations, i.e. alpha=2.156e-03, with an active set of 66 regressors, and the smallest cholesky pivot element being 1.490e-08. Reduce max_iter or increase eps parameters.\n",
      "  warnings.warn('Regressors in active set degenerate. '\n",
      "C:\\Users\\patri\\anaconda3\\lib\\site-packages\\sklearn\\linear_model\\_least_angle.py:571: ConvergenceWarning: Regressors in active set degenerate. Dropping a regressor, after 91 iterations, i.e. alpha=2.156e-03, with an active set of 67 regressors, and the smallest cholesky pivot element being 1.490e-08. Reduce max_iter or increase eps parameters.\n",
      "  warnings.warn('Regressors in active set degenerate. '\n",
      "C:\\Users\\patri\\anaconda3\\lib\\site-packages\\sklearn\\linear_model\\_least_angle.py:571: ConvergenceWarning: Regressors in active set degenerate. Dropping a regressor, after 104 iterations, i.e. alpha=1.644e-03, with an active set of 78 regressors, and the smallest cholesky pivot element being 2.220e-16. Reduce max_iter or increase eps parameters.\n",
      "  warnings.warn('Regressors in active set degenerate. '\n",
      "C:\\Users\\patri\\anaconda3\\lib\\site-packages\\sklearn\\linear_model\\_least_angle.py:598: ConvergenceWarning: Early stopping the lars path, as the residues are small and the current value of alpha is no longer well controlled. 131 iterations, alpha=1.241e-03, previous alpha=1.240e-03, with an active set of 92 regressors.\n",
      "  warnings.warn('Early stopping the lars path, as the residues '\n",
      "C:\\Users\\patri\\anaconda3\\lib\\site-packages\\sklearn\\linear_model\\_least_angle.py:571: ConvergenceWarning: Regressors in active set degenerate. Dropping a regressor, after 49 iterations, i.e. alpha=3.713e-03, with an active set of 41 regressors, and the smallest cholesky pivot element being 1.490e-08. Reduce max_iter or increase eps parameters.\n",
      "  warnings.warn('Regressors in active set degenerate. '\n",
      "C:\\Users\\patri\\anaconda3\\lib\\site-packages\\sklearn\\linear_model\\_least_angle.py:571: ConvergenceWarning: Regressors in active set degenerate. Dropping a regressor, after 140 iterations, i.e. alpha=1.100e-03, with an active set of 90 regressors, and the smallest cholesky pivot element being 1.054e-08. Reduce max_iter or increase eps parameters.\n",
      "  warnings.warn('Regressors in active set degenerate. '\n"
     ]
    },
    {
     "name": "stdout",
     "output_type": "stream",
     "text": [
      "(146, 2358)\n",
      "(146, 2358)\n"
     ]
    },
    {
     "name": "stderr",
     "output_type": "stream",
     "text": [
      "C:\\Users\\patri\\anaconda3\\lib\\site-packages\\sklearn\\linear_model\\_least_angle.py:571: ConvergenceWarning: Regressors in active set degenerate. Dropping a regressor, after 47 iterations, i.e. alpha=3.692e-03, with an active set of 39 regressors, and the smallest cholesky pivot element being 1.054e-08. Reduce max_iter or increase eps parameters.\n",
      "  warnings.warn('Regressors in active set degenerate. '\n",
      "C:\\Users\\patri\\anaconda3\\lib\\site-packages\\sklearn\\linear_model\\_least_angle.py:571: ConvergenceWarning: Regressors in active set degenerate. Dropping a regressor, after 91 iterations, i.e. alpha=2.100e-03, with an active set of 69 regressors, and the smallest cholesky pivot element being 1.490e-08. Reduce max_iter or increase eps parameters.\n",
      "  warnings.warn('Regressors in active set degenerate. '\n",
      "C:\\Users\\patri\\anaconda3\\lib\\site-packages\\sklearn\\linear_model\\_least_angle.py:571: ConvergenceWarning: Regressors in active set degenerate. Dropping a regressor, after 70 iterations, i.e. alpha=2.653e-03, with an active set of 56 regressors, and the smallest cholesky pivot element being 1.490e-08. Reduce max_iter or increase eps parameters.\n",
      "  warnings.warn('Regressors in active set degenerate. '\n",
      "C:\\Users\\patri\\anaconda3\\lib\\site-packages\\sklearn\\linear_model\\_least_angle.py:571: ConvergenceWarning: Regressors in active set degenerate. Dropping a regressor, after 71 iterations, i.e. alpha=2.648e-03, with an active set of 57 regressors, and the smallest cholesky pivot element being 1.490e-08. Reduce max_iter or increase eps parameters.\n",
      "  warnings.warn('Regressors in active set degenerate. '\n",
      "C:\\Users\\patri\\anaconda3\\lib\\site-packages\\sklearn\\linear_model\\_least_angle.py:571: ConvergenceWarning: Regressors in active set degenerate. Dropping a regressor, after 150 iterations, i.e. alpha=1.193e-03, with an active set of 90 regressors, and the smallest cholesky pivot element being 1.490e-08. Reduce max_iter or increase eps parameters.\n",
      "  warnings.warn('Regressors in active set degenerate. '\n"
     ]
    },
    {
     "name": "stdout",
     "output_type": "stream",
     "text": [
      "(146, 2358)\n",
      "(146, 2358)\n"
     ]
    },
    {
     "name": "stderr",
     "output_type": "stream",
     "text": [
      "C:\\Users\\patri\\anaconda3\\lib\\site-packages\\sklearn\\linear_model\\_least_angle.py:598: ConvergenceWarning: Early stopping the lars path, as the residues are small and the current value of alpha is no longer well controlled. 151 iterations, alpha=1.193e-03, previous alpha=1.193e-03, with an active set of 90 regressors.\n",
      "  warnings.warn('Early stopping the lars path, as the residues '\n",
      "C:\\Users\\patri\\anaconda3\\lib\\site-packages\\sklearn\\linear_model\\_least_angle.py:571: ConvergenceWarning: Regressors in active set degenerate. Dropping a regressor, after 64 iterations, i.e. alpha=2.990e-03, with an active set of 50 regressors, and the smallest cholesky pivot element being 2.220e-16. Reduce max_iter or increase eps parameters.\n",
      "  warnings.warn('Regressors in active set degenerate. '\n",
      "C:\\Users\\patri\\anaconda3\\lib\\site-packages\\sklearn\\linear_model\\_least_angle.py:571: ConvergenceWarning: Regressors in active set degenerate. Dropping a regressor, after 65 iterations, i.e. alpha=2.990e-03, with an active set of 51 regressors, and the smallest cholesky pivot element being 2.220e-16. Reduce max_iter or increase eps parameters.\n",
      "  warnings.warn('Regressors in active set degenerate. '\n",
      "C:\\Users\\patri\\anaconda3\\lib\\site-packages\\sklearn\\linear_model\\_least_angle.py:598: ConvergenceWarning: Early stopping the lars path, as the residues are small and the current value of alpha is no longer well controlled. 66 iterations, alpha=2.988e-03, previous alpha=2.973e-03, with an active set of 51 regressors.\n",
      "  warnings.warn('Early stopping the lars path, as the residues '\n"
     ]
    },
    {
     "name": "stdout",
     "output_type": "stream",
     "text": [
      "(146, 2358)\n",
      "(146, 2358)\n"
     ]
    },
    {
     "name": "stderr",
     "output_type": "stream",
     "text": [
      "C:\\Users\\patri\\anaconda3\\lib\\site-packages\\sklearn\\linear_model\\_least_angle.py:571: ConvergenceWarning: Regressors in active set degenerate. Dropping a regressor, after 96 iterations, i.e. alpha=1.795e-03, with an active set of 78 regressors, and the smallest cholesky pivot element being 2.220e-16. Reduce max_iter or increase eps parameters.\n",
      "  warnings.warn('Regressors in active set degenerate. '\n",
      "C:\\Users\\patri\\anaconda3\\lib\\site-packages\\sklearn\\linear_model\\_least_angle.py:571: ConvergenceWarning: Regressors in active set degenerate. Dropping a regressor, after 97 iterations, i.e. alpha=1.794e-03, with an active set of 79 regressors, and the smallest cholesky pivot element being 2.220e-16. Reduce max_iter or increase eps parameters.\n",
      "  warnings.warn('Regressors in active set degenerate. '\n",
      "C:\\Users\\patri\\anaconda3\\lib\\site-packages\\sklearn\\linear_model\\_least_angle.py:571: ConvergenceWarning: Regressors in active set degenerate. Dropping a regressor, after 102 iterations, i.e. alpha=1.619e-03, with an active set of 74 regressors, and the smallest cholesky pivot element being 1.825e-08. Reduce max_iter or increase eps parameters.\n",
      "  warnings.warn('Regressors in active set degenerate. '\n",
      "C:\\Users\\patri\\anaconda3\\lib\\site-packages\\sklearn\\linear_model\\_least_angle.py:571: ConvergenceWarning: Regressors in active set degenerate. Dropping a regressor, after 132 iterations, i.e. alpha=1.165e-03, with an active set of 88 regressors, and the smallest cholesky pivot element being 1.490e-08. Reduce max_iter or increase eps parameters.\n",
      "  warnings.warn('Regressors in active set degenerate. '\n"
     ]
    },
    {
     "name": "stdout",
     "output_type": "stream",
     "text": [
      "(146, 2358)\n",
      "(146, 2358)\n"
     ]
    },
    {
     "name": "stderr",
     "output_type": "stream",
     "text": [
      "C:\\Users\\patri\\anaconda3\\lib\\site-packages\\sklearn\\linear_model\\_least_angle.py:571: ConvergenceWarning: Regressors in active set degenerate. Dropping a regressor, after 52 iterations, i.e. alpha=3.776e-03, with an active set of 42 regressors, and the smallest cholesky pivot element being 1.490e-08. Reduce max_iter or increase eps parameters.\n",
      "  warnings.warn('Regressors in active set degenerate. '\n",
      "C:\\Users\\patri\\anaconda3\\lib\\site-packages\\sklearn\\linear_model\\_least_angle.py:571: ConvergenceWarning: Regressors in active set degenerate. Dropping a regressor, after 55 iterations, i.e. alpha=3.118e-03, with an active set of 45 regressors, and the smallest cholesky pivot element being 1.490e-08. Reduce max_iter or increase eps parameters.\n",
      "  warnings.warn('Regressors in active set degenerate. '\n",
      "C:\\Users\\patri\\anaconda3\\lib\\site-packages\\sklearn\\linear_model\\_least_angle.py:571: ConvergenceWarning: Regressors in active set degenerate. Dropping a regressor, after 128 iterations, i.e. alpha=1.324e-03, with an active set of 90 regressors, and the smallest cholesky pivot element being 2.220e-16. Reduce max_iter or increase eps parameters.\n",
      "  warnings.warn('Regressors in active set degenerate. '\n",
      "C:\\Users\\patri\\anaconda3\\lib\\site-packages\\sklearn\\linear_model\\_least_angle.py:571: ConvergenceWarning: Regressors in active set degenerate. Dropping a regressor, after 130 iterations, i.e. alpha=1.317e-03, with an active set of 92 regressors, and the smallest cholesky pivot element being 2.220e-16. Reduce max_iter or increase eps parameters.\n",
      "  warnings.warn('Regressors in active set degenerate. '\n",
      "C:\\Users\\patri\\anaconda3\\lib\\site-packages\\sklearn\\linear_model\\_least_angle.py:598: ConvergenceWarning: Early stopping the lars path, as the residues are small and the current value of alpha is no longer well controlled. 131 iterations, alpha=1.314e-03, previous alpha=1.313e-03, with an active set of 92 regressors.\n",
      "  warnings.warn('Early stopping the lars path, as the residues '\n",
      "C:\\Users\\patri\\anaconda3\\lib\\site-packages\\sklearn\\linear_model\\_least_angle.py:571: ConvergenceWarning: Regressors in active set degenerate. Dropping a regressor, after 55 iterations, i.e. alpha=3.586e-03, with an active set of 43 regressors, and the smallest cholesky pivot element being 1.054e-08. Reduce max_iter or increase eps parameters.\n",
      "  warnings.warn('Regressors in active set degenerate. '\n",
      "C:\\Users\\patri\\anaconda3\\lib\\site-packages\\sklearn\\linear_model\\_least_angle.py:571: ConvergenceWarning: Regressors in active set degenerate. Dropping a regressor, after 83 iterations, i.e. alpha=2.225e-03, with an active set of 63 regressors, and the smallest cholesky pivot element being 1.825e-08. Reduce max_iter or increase eps parameters.\n",
      "  warnings.warn('Regressors in active set degenerate. '\n",
      "C:\\Users\\patri\\anaconda3\\lib\\site-packages\\sklearn\\linear_model\\_least_angle.py:571: ConvergenceWarning: Regressors in active set degenerate. Dropping a regressor, after 84 iterations, i.e. alpha=2.214e-03, with an active set of 64 regressors, and the smallest cholesky pivot element being 1.825e-08. Reduce max_iter or increase eps parameters.\n",
      "  warnings.warn('Regressors in active set degenerate. '\n"
     ]
    },
    {
     "name": "stdout",
     "output_type": "stream",
     "text": [
      "(146, 2358)\n",
      "(146, 2358)\n"
     ]
    },
    {
     "name": "stderr",
     "output_type": "stream",
     "text": [
      "C:\\Users\\patri\\anaconda3\\lib\\site-packages\\sklearn\\linear_model\\_least_angle.py:571: ConvergenceWarning: Regressors in active set degenerate. Dropping a regressor, after 49 iterations, i.e. alpha=3.953e-03, with an active set of 43 regressors, and the smallest cholesky pivot element being 2.581e-08. Reduce max_iter or increase eps parameters.\n",
      "  warnings.warn('Regressors in active set degenerate. '\n",
      "C:\\Users\\patri\\anaconda3\\lib\\site-packages\\sklearn\\linear_model\\_least_angle.py:571: ConvergenceWarning: Regressors in active set degenerate. Dropping a regressor, after 79 iterations, i.e. alpha=2.461e-03, with an active set of 61 regressors, and the smallest cholesky pivot element being 2.581e-08. Reduce max_iter or increase eps parameters.\n",
      "  warnings.warn('Regressors in active set degenerate. '\n",
      "C:\\Users\\patri\\anaconda3\\lib\\site-packages\\sklearn\\linear_model\\_least_angle.py:571: ConvergenceWarning: Regressors in active set degenerate. Dropping a regressor, after 84 iterations, i.e. alpha=2.326e-03, with an active set of 66 regressors, and the smallest cholesky pivot element being 2.581e-08. Reduce max_iter or increase eps parameters.\n",
      "  warnings.warn('Regressors in active set degenerate. '\n",
      "C:\\Users\\patri\\anaconda3\\lib\\site-packages\\sklearn\\linear_model\\_least_angle.py:598: ConvergenceWarning: Early stopping the lars path, as the residues are small and the current value of alpha is no longer well controlled. 87 iterations, alpha=2.287e-03, previous alpha=2.273e-03, with an active set of 68 regressors.\n",
      "  warnings.warn('Early stopping the lars path, as the residues '\n",
      "C:\\Users\\patri\\anaconda3\\lib\\site-packages\\sklearn\\linear_model\\_least_angle.py:571: ConvergenceWarning: Regressors in active set degenerate. Dropping a regressor, after 49 iterations, i.e. alpha=3.570e-03, with an active set of 39 regressors, and the smallest cholesky pivot element being 1.490e-08. Reduce max_iter or increase eps parameters.\n",
      "  warnings.warn('Regressors in active set degenerate. '\n",
      "C:\\Users\\patri\\anaconda3\\lib\\site-packages\\sklearn\\linear_model\\_least_angle.py:571: ConvergenceWarning: Regressors in active set degenerate. Dropping a regressor, after 50 iterations, i.e. alpha=3.565e-03, with an active set of 40 regressors, and the smallest cholesky pivot element being 1.490e-08. Reduce max_iter or increase eps parameters.\n",
      "  warnings.warn('Regressors in active set degenerate. '\n",
      "C:\\Users\\patri\\anaconda3\\lib\\site-packages\\sklearn\\linear_model\\_least_angle.py:571: ConvergenceWarning: Regressors in active set degenerate. Dropping a regressor, after 108 iterations, i.e. alpha=1.721e-03, with an active set of 76 regressors, and the smallest cholesky pivot element being 1.490e-08. Reduce max_iter or increase eps parameters.\n",
      "  warnings.warn('Regressors in active set degenerate. '\n",
      "C:\\Users\\patri\\anaconda3\\lib\\site-packages\\sklearn\\linear_model\\_least_angle.py:571: ConvergenceWarning: Regressors in active set degenerate. Dropping a regressor, after 108 iterations, i.e. alpha=1.720e-03, with an active set of 76 regressors, and the smallest cholesky pivot element being 1.490e-08. Reduce max_iter or increase eps parameters.\n",
      "  warnings.warn('Regressors in active set degenerate. '\n",
      "C:\\Users\\patri\\anaconda3\\lib\\site-packages\\sklearn\\linear_model\\_least_angle.py:598: ConvergenceWarning: Early stopping the lars path, as the residues are small and the current value of alpha is no longer well controlled. 126 iterations, alpha=1.635e-03, previous alpha=1.634e-03, with an active set of 81 regressors.\n",
      "  warnings.warn('Early stopping the lars path, as the residues '\n"
     ]
    },
    {
     "name": "stdout",
     "output_type": "stream",
     "text": [
      "(146, 2358)\n",
      "(146, 2358)\n"
     ]
    },
    {
     "name": "stderr",
     "output_type": "stream",
     "text": [
      "C:\\Users\\patri\\anaconda3\\lib\\site-packages\\sklearn\\linear_model\\_least_angle.py:571: ConvergenceWarning: Regressors in active set degenerate. Dropping a regressor, after 56 iterations, i.e. alpha=3.644e-03, with an active set of 42 regressors, and the smallest cholesky pivot element being 1.490e-08. Reduce max_iter or increase eps parameters.\n",
      "  warnings.warn('Regressors in active set degenerate. '\n",
      "C:\\Users\\patri\\anaconda3\\lib\\site-packages\\sklearn\\linear_model\\_least_angle.py:571: ConvergenceWarning: Regressors in active set degenerate. Dropping a regressor, after 65 iterations, i.e. alpha=2.992e-03, with an active set of 51 regressors, and the smallest cholesky pivot element being 1.490e-08. Reduce max_iter or increase eps parameters.\n",
      "  warnings.warn('Regressors in active set degenerate. '\n",
      "C:\\Users\\patri\\anaconda3\\lib\\site-packages\\sklearn\\linear_model\\_least_angle.py:571: ConvergenceWarning: Regressors in active set degenerate. Dropping a regressor, after 128 iterations, i.e. alpha=1.334e-03, with an active set of 90 regressors, and the smallest cholesky pivot element being 1.054e-08. Reduce max_iter or increase eps parameters.\n",
      "  warnings.warn('Regressors in active set degenerate. '\n",
      "C:\\Users\\patri\\anaconda3\\lib\\site-packages\\sklearn\\linear_model\\_least_angle.py:571: ConvergenceWarning: Regressors in active set degenerate. Dropping a regressor, after 51 iterations, i.e. alpha=3.789e-03, with an active set of 41 regressors, and the smallest cholesky pivot element being 1.490e-08. Reduce max_iter or increase eps parameters.\n",
      "  warnings.warn('Regressors in active set degenerate. '\n",
      "C:\\Users\\patri\\anaconda3\\lib\\site-packages\\sklearn\\linear_model\\_least_angle.py:571: ConvergenceWarning: Regressors in active set degenerate. Dropping a regressor, after 140 iterations, i.e. alpha=1.135e-03, with an active set of 92 regressors, and the smallest cholesky pivot element being 1.054e-08. Reduce max_iter or increase eps parameters.\n",
      "  warnings.warn('Regressors in active set degenerate. '\n"
     ]
    },
    {
     "name": "stdout",
     "output_type": "stream",
     "text": [
      "(146, 2358)\n",
      "(146, 2358)\n",
      "(146, 2358)"
     ]
    },
    {
     "name": "stderr",
     "output_type": "stream",
     "text": [
      "C:\\Users\\patri\\anaconda3\\lib\\site-packages\\sklearn\\linear_model\\_least_angle.py:571: ConvergenceWarning: Regressors in active set degenerate. Dropping a regressor, after 46 iterations, i.e. alpha=3.836e-03, with an active set of 36 regressors, and the smallest cholesky pivot element being 1.490e-08. Reduce max_iter or increase eps parameters.\n",
      "  warnings.warn('Regressors in active set degenerate. '\n",
      "C:\\Users\\patri\\anaconda3\\lib\\site-packages\\sklearn\\linear_model\\_least_angle.py:571: ConvergenceWarning: Regressors in active set degenerate. Dropping a regressor, after 47 iterations, i.e. alpha=3.835e-03, with an active set of 37 regressors, and the smallest cholesky pivot element being 1.490e-08. Reduce max_iter or increase eps parameters.\n",
      "  warnings.warn('Regressors in active set degenerate. '\n",
      "C:\\Users\\patri\\anaconda3\\lib\\site-packages\\sklearn\\linear_model\\_least_angle.py:571: ConvergenceWarning: Regressors in active set degenerate. Dropping a regressor, after 86 iterations, i.e. alpha=2.274e-03, with an active set of 68 regressors, and the smallest cholesky pivot element being 2.980e-08. Reduce max_iter or increase eps parameters.\n",
      "  warnings.warn('Regressors in active set degenerate. '\n",
      "C:\\Users\\patri\\anaconda3\\lib\\site-packages\\sklearn\\linear_model\\_least_angle.py:598: ConvergenceWarning: Early stopping the lars path, as the residues are small and the current value of alpha is no longer well controlled. 116 iterations, alpha=1.856e-03, previous alpha=1.855e-03, with an active set of 75 regressors.\n",
      "  warnings.warn('Early stopping the lars path, as the residues '\n",
      "C:\\Users\\patri\\anaconda3\\lib\\site-packages\\sklearn\\linear_model\\_least_angle.py:571: ConvergenceWarning: Regressors in active set degenerate. Dropping a regressor, after 44 iterations, i.e. alpha=4.283e-03, with an active set of 36 regressors, and the smallest cholesky pivot element being 2.220e-16. Reduce max_iter or increase eps parameters.\n",
      "  warnings.warn('Regressors in active set degenerate. '\n",
      "C:\\Users\\patri\\anaconda3\\lib\\site-packages\\sklearn\\linear_model\\_least_angle.py:571: ConvergenceWarning: Regressors in active set degenerate. Dropping a regressor, after 72 iterations, i.e. alpha=2.726e-03, with an active set of 56 regressors, and the smallest cholesky pivot element being 1.490e-08. Reduce max_iter or increase eps parameters.\n",
      "  warnings.warn('Regressors in active set degenerate. '\n",
      "C:\\Users\\patri\\anaconda3\\lib\\site-packages\\sklearn\\linear_model\\_least_angle.py:598: ConvergenceWarning: Early stopping the lars path, as the residues are small and the current value of alpha is no longer well controlled. 79 iterations, alpha=2.505e-03, previous alpha=2.493e-03, with an active set of 62 regressors.\n",
      "  warnings.warn('Early stopping the lars path, as the residues '\n"
     ]
    },
    {
     "name": "stdout",
     "output_type": "stream",
     "text": [
      "\n",
      "(146, 2358)\n"
     ]
    },
    {
     "name": "stderr",
     "output_type": "stream",
     "text": [
      "C:\\Users\\patri\\anaconda3\\lib\\site-packages\\sklearn\\linear_model\\_least_angle.py:571: ConvergenceWarning: Regressors in active set degenerate. Dropping a regressor, after 62 iterations, i.e. alpha=3.103e-03, with an active set of 50 regressors, and the smallest cholesky pivot element being 1.490e-08. Reduce max_iter or increase eps parameters.\n",
      "  warnings.warn('Regressors in active set degenerate. '\n",
      "C:\\Users\\patri\\anaconda3\\lib\\site-packages\\sklearn\\linear_model\\_least_angle.py:571: ConvergenceWarning: Regressors in active set degenerate. Dropping a regressor, after 63 iterations, i.e. alpha=3.099e-03, with an active set of 51 regressors, and the smallest cholesky pivot element being 1.490e-08. Reduce max_iter or increase eps parameters.\n",
      "  warnings.warn('Regressors in active set degenerate. '\n",
      "C:\\Users\\patri\\anaconda3\\lib\\site-packages\\sklearn\\linear_model\\_least_angle.py:598: ConvergenceWarning: Early stopping the lars path, as the residues are small and the current value of alpha is no longer well controlled. 64 iterations, alpha=3.079e-03, previous alpha=3.071e-03, with an active set of 51 regressors.\n",
      "  warnings.warn('Early stopping the lars path, as the residues '\n",
      "C:\\Users\\patri\\anaconda3\\lib\\site-packages\\sklearn\\linear_model\\_least_angle.py:571: ConvergenceWarning: Regressors in active set degenerate. Dropping a regressor, after 125 iterations, i.e. alpha=1.259e-03, with an active set of 85 regressors, and the smallest cholesky pivot element being 1.825e-08. Reduce max_iter or increase eps parameters.\n",
      "  warnings.warn('Regressors in active set degenerate. '\n",
      "C:\\Users\\patri\\anaconda3\\lib\\site-packages\\sklearn\\linear_model\\_least_angle.py:571: ConvergenceWarning: Regressors in active set degenerate. Dropping a regressor, after 126 iterations, i.e. alpha=1.258e-03, with an active set of 86 regressors, and the smallest cholesky pivot element being 1.825e-08. Reduce max_iter or increase eps parameters.\n",
      "  warnings.warn('Regressors in active set degenerate. '\n",
      "C:\\Users\\patri\\anaconda3\\lib\\site-packages\\sklearn\\linear_model\\_least_angle.py:571: ConvergenceWarning: Regressors in active set degenerate. Dropping a regressor, after 127 iterations, i.e. alpha=1.250e-03, with an active set of 87 regressors, and the smallest cholesky pivot element being 1.825e-08. Reduce max_iter or increase eps parameters.\n",
      "  warnings.warn('Regressors in active set degenerate. '\n",
      "C:\\Users\\patri\\anaconda3\\lib\\site-packages\\sklearn\\linear_model\\_least_angle.py:571: ConvergenceWarning: Regressors in active set degenerate. Dropping a regressor, after 128 iterations, i.e. alpha=1.241e-03, with an active set of 88 regressors, and the smallest cholesky pivot element being 1.825e-08. Reduce max_iter or increase eps parameters.\n",
      "  warnings.warn('Regressors in active set degenerate. '\n"
     ]
    },
    {
     "name": "stdout",
     "output_type": "stream",
     "text": [
      "(146, 2358)\n",
      "(146, 2358)\n"
     ]
    },
    {
     "name": "stderr",
     "output_type": "stream",
     "text": [
      "C:\\Users\\patri\\anaconda3\\lib\\site-packages\\sklearn\\linear_model\\_least_angle.py:571: ConvergenceWarning: Regressors in active set degenerate. Dropping a regressor, after 51 iterations, i.e. alpha=3.504e-03, with an active set of 39 regressors, and the smallest cholesky pivot element being 2.107e-08. Reduce max_iter or increase eps parameters.\n",
      "  warnings.warn('Regressors in active set degenerate. '\n",
      "C:\\Users\\patri\\anaconda3\\lib\\site-packages\\sklearn\\linear_model\\_least_angle.py:571: ConvergenceWarning: Regressors in active set degenerate. Dropping a regressor, after 91 iterations, i.e. alpha=1.916e-03, with an active set of 73 regressors, and the smallest cholesky pivot element being 2.107e-08. Reduce max_iter or increase eps parameters.\n",
      "  warnings.warn('Regressors in active set degenerate. '\n",
      "C:\\Users\\patri\\anaconda3\\lib\\site-packages\\sklearn\\linear_model\\_least_angle.py:571: ConvergenceWarning: Regressors in active set degenerate. Dropping a regressor, after 115 iterations, i.e. alpha=1.293e-03, with an active set of 85 regressors, and the smallest cholesky pivot element being 2.220e-16. Reduce max_iter or increase eps parameters.\n",
      "  warnings.warn('Regressors in active set degenerate. '\n",
      "C:\\Users\\patri\\anaconda3\\lib\\site-packages\\sklearn\\linear_model\\_least_angle.py:571: ConvergenceWarning: Regressors in active set degenerate. Dropping a regressor, after 49 iterations, i.e. alpha=3.844e-03, with an active set of 41 regressors, and the smallest cholesky pivot element being 2.220e-16. Reduce max_iter or increase eps parameters.\n",
      "  warnings.warn('Regressors in active set degenerate. '\n",
      "C:\\Users\\patri\\anaconda3\\lib\\site-packages\\sklearn\\linear_model\\_least_angle.py:571: ConvergenceWarning: Regressors in active set degenerate. Dropping a regressor, after 138 iterations, i.e. alpha=1.150e-03, with an active set of 94 regressors, and the smallest cholesky pivot element being 1.490e-08. Reduce max_iter or increase eps parameters.\n",
      "  warnings.warn('Regressors in active set degenerate. '\n"
     ]
    },
    {
     "name": "stdout",
     "output_type": "stream",
     "text": [
      "(146, 2358)\n",
      "(146, 2358)\n"
     ]
    },
    {
     "name": "stderr",
     "output_type": "stream",
     "text": [
      "C:\\Users\\patri\\anaconda3\\lib\\site-packages\\sklearn\\linear_model\\_least_angle.py:571: ConvergenceWarning: Regressors in active set degenerate. Dropping a regressor, after 57 iterations, i.e. alpha=3.293e-03, with an active set of 45 regressors, and the smallest cholesky pivot element being 2.581e-08. Reduce max_iter or increase eps parameters.\n",
      "  warnings.warn('Regressors in active set degenerate. '\n",
      "C:\\Users\\patri\\anaconda3\\lib\\site-packages\\sklearn\\linear_model\\_least_angle.py:571: ConvergenceWarning: Regressors in active set degenerate. Dropping a regressor, after 120 iterations, i.e. alpha=1.330e-03, with an active set of 94 regressors, and the smallest cholesky pivot element being 2.581e-08. Reduce max_iter or increase eps parameters.\n",
      "  warnings.warn('Regressors in active set degenerate. '\n",
      "C:\\Users\\patri\\anaconda3\\lib\\site-packages\\sklearn\\linear_model\\_least_angle.py:598: ConvergenceWarning: Early stopping the lars path, as the residues are small and the current value of alpha is no longer well controlled. 122 iterations, alpha=1.290e-03, previous alpha=1.288e-03, with an active set of 95 regressors.\n",
      "  warnings.warn('Early stopping the lars path, as the residues '\n",
      "C:\\Users\\patri\\anaconda3\\lib\\site-packages\\sklearn\\linear_model\\_least_angle.py:571: ConvergenceWarning: Regressors in active set degenerate. Dropping a regressor, after 43 iterations, i.e. alpha=4.508e-03, with an active set of 37 regressors, and the smallest cholesky pivot element being 2.220e-16. Reduce max_iter or increase eps parameters.\n",
      "  warnings.warn('Regressors in active set degenerate. '\n",
      "C:\\Users\\patri\\anaconda3\\lib\\site-packages\\sklearn\\linear_model\\_least_angle.py:571: ConvergenceWarning: Regressors in active set degenerate. Dropping a regressor, after 76 iterations, i.e. alpha=2.652e-03, with an active set of 58 regressors, and the smallest cholesky pivot element being 1.054e-08. Reduce max_iter or increase eps parameters.\n",
      "  warnings.warn('Regressors in active set degenerate. '\n",
      "C:\\Users\\patri\\anaconda3\\lib\\site-packages\\sklearn\\linear_model\\_least_angle.py:571: ConvergenceWarning: Regressors in active set degenerate. Dropping a regressor, after 111 iterations, i.e. alpha=1.419e-03, with an active set of 81 regressors, and the smallest cholesky pivot element being 2.220e-16. Reduce max_iter or increase eps parameters.\n",
      "  warnings.warn('Regressors in active set degenerate. '\n",
      "C:\\Users\\patri\\anaconda3\\lib\\site-packages\\sklearn\\linear_model\\_least_angle.py:571: ConvergenceWarning: Regressors in active set degenerate. Dropping a regressor, after 111 iterations, i.e. alpha=1.417e-03, with an active set of 81 regressors, and the smallest cholesky pivot element being 2.220e-16. Reduce max_iter or increase eps parameters.\n",
      "  warnings.warn('Regressors in active set degenerate. '\n",
      "C:\\Users\\patri\\anaconda3\\lib\\site-packages\\sklearn\\linear_model\\_least_angle.py:571: ConvergenceWarning: Regressors in active set degenerate. Dropping a regressor, after 46 iterations, i.e. alpha=3.915e-03, with an active set of 38 regressors, and the smallest cholesky pivot element being 1.490e-08. Reduce max_iter or increase eps parameters.\n",
      "  warnings.warn('Regressors in active set degenerate. '\n",
      "C:\\Users\\patri\\anaconda3\\lib\\site-packages\\sklearn\\linear_model\\_least_angle.py:571: ConvergenceWarning: Regressors in active set degenerate. Dropping a regressor, after 82 iterations, i.e. alpha=2.306e-03, with an active set of 64 regressors, and the smallest cholesky pivot element being 2.107e-08. Reduce max_iter or increase eps parameters.\n",
      "  warnings.warn('Regressors in active set degenerate. '\n",
      "C:\\Users\\patri\\anaconda3\\lib\\site-packages\\sklearn\\linear_model\\_least_angle.py:571: ConvergenceWarning: Regressors in active set degenerate. Dropping a regressor, after 100 iterations, i.e. alpha=1.627e-03, with an active set of 80 regressors, and the smallest cholesky pivot element being 2.107e-08. Reduce max_iter or increase eps parameters.\n",
      "  warnings.warn('Regressors in active set degenerate. '\n",
      "C:\\Users\\patri\\anaconda3\\lib\\site-packages\\sklearn\\linear_model\\_least_angle.py:571: ConvergenceWarning: Regressors in active set degenerate. Dropping a regressor, after 132 iterations, i.e. alpha=1.157e-03, with an active set of 92 regressors, and the smallest cholesky pivot element being 2.107e-08. Reduce max_iter or increase eps parameters.\n",
      "  warnings.warn('Regressors in active set degenerate. '\n",
      "C:\\Users\\patri\\anaconda3\\lib\\site-packages\\sklearn\\linear_model\\_least_angle.py:571: ConvergenceWarning: Regressors in active set degenerate. Dropping a regressor, after 133 iterations, i.e. alpha=1.151e-03, with an active set of 93 regressors, and the smallest cholesky pivot element being 2.107e-08. Reduce max_iter or increase eps parameters.\n",
      "  warnings.warn('Regressors in active set degenerate. '\n"
     ]
    },
    {
     "name": "stdout",
     "output_type": "stream",
     "text": [
      "(146, 2358)\n",
      "(146, 2358)\n"
     ]
    },
    {
     "name": "stderr",
     "output_type": "stream",
     "text": [
      "C:\\Users\\patri\\anaconda3\\lib\\site-packages\\sklearn\\linear_model\\_least_angle.py:571: ConvergenceWarning: Regressors in active set degenerate. Dropping a regressor, after 51 iterations, i.e. alpha=3.805e-03, with an active set of 41 regressors, and the smallest cholesky pivot element being 1.054e-08. Reduce max_iter or increase eps parameters.\n",
      "  warnings.warn('Regressors in active set degenerate. '\n",
      "C:\\Users\\patri\\anaconda3\\lib\\site-packages\\sklearn\\linear_model\\_least_angle.py:571: ConvergenceWarning: Regressors in active set degenerate. Dropping a regressor, after 132 iterations, i.e. alpha=1.103e-03, with an active set of 94 regressors, and the smallest cholesky pivot element being 1.825e-08. Reduce max_iter or increase eps parameters.\n",
      "  warnings.warn('Regressors in active set degenerate. '\n",
      "C:\\Users\\patri\\anaconda3\\lib\\site-packages\\sklearn\\linear_model\\_least_angle.py:571: ConvergenceWarning: Regressors in active set degenerate. Dropping a regressor, after 133 iterations, i.e. alpha=1.096e-03, with an active set of 95 regressors, and the smallest cholesky pivot element being 1.825e-08. Reduce max_iter or increase eps parameters.\n",
      "  warnings.warn('Regressors in active set degenerate. '\n",
      "C:\\Users\\patri\\anaconda3\\lib\\site-packages\\sklearn\\linear_model\\_least_angle.py:571: ConvergenceWarning: Regressors in active set degenerate. Dropping a regressor, after 49 iterations, i.e. alpha=3.801e-03, with an active set of 41 regressors, and the smallest cholesky pivot element being 1.490e-08. Reduce max_iter or increase eps parameters.\n",
      "  warnings.warn('Regressors in active set degenerate. '\n",
      "C:\\Users\\patri\\anaconda3\\lib\\site-packages\\sklearn\\linear_model\\_least_angle.py:571: ConvergenceWarning: Regressors in active set degenerate. Dropping a regressor, after 136 iterations, i.e. alpha=1.140e-03, with an active set of 92 regressors, and the smallest cholesky pivot element being 1.490e-08. Reduce max_iter or increase eps parameters.\n",
      "  warnings.warn('Regressors in active set degenerate. '\n"
     ]
    },
    {
     "name": "stdout",
     "output_type": "stream",
     "text": [
      "(146, 2358)\n",
      "(146, 2358)\n"
     ]
    },
    {
     "name": "stderr",
     "output_type": "stream",
     "text": [
      "C:\\Users\\patri\\anaconda3\\lib\\site-packages\\sklearn\\linear_model\\_least_angle.py:571: ConvergenceWarning: Regressors in active set degenerate. Dropping a regressor, after 59 iterations, i.e. alpha=3.468e-03, with an active set of 45 regressors, and the smallest cholesky pivot element being 1.054e-08. Reduce max_iter or increase eps parameters.\n",
      "  warnings.warn('Regressors in active set degenerate. '\n",
      "C:\\Users\\patri\\anaconda3\\lib\\site-packages\\sklearn\\linear_model\\_least_angle.py:571: ConvergenceWarning: Regressors in active set degenerate. Dropping a regressor, after 137 iterations, i.e. alpha=1.171e-03, with an active set of 89 regressors, and the smallest cholesky pivot element being 1.054e-08. Reduce max_iter or increase eps parameters.\n",
      "  warnings.warn('Regressors in active set degenerate. '\n",
      "C:\\Users\\patri\\anaconda3\\lib\\site-packages\\sklearn\\linear_model\\_least_angle.py:571: ConvergenceWarning: Regressors in active set degenerate. Dropping a regressor, after 138 iterations, i.e. alpha=1.161e-03, with an active set of 90 regressors, and the smallest cholesky pivot element being 1.054e-08. Reduce max_iter or increase eps parameters.\n",
      "  warnings.warn('Regressors in active set degenerate. '\n",
      "C:\\Users\\patri\\anaconda3\\lib\\site-packages\\sklearn\\linear_model\\_least_angle.py:598: ConvergenceWarning: Early stopping the lars path, as the residues are small and the current value of alpha is no longer well controlled. 139 iterations, alpha=1.166e-03, previous alpha=1.160e-03, with an active set of 90 regressors.\n",
      "  warnings.warn('Early stopping the lars path, as the residues '\n",
      "C:\\Users\\patri\\anaconda3\\lib\\site-packages\\sklearn\\linear_model\\_least_angle.py:571: ConvergenceWarning: Regressors in active set degenerate. Dropping a regressor, after 57 iterations, i.e. alpha=3.186e-03, with an active set of 47 regressors, and the smallest cholesky pivot element being 1.490e-08. Reduce max_iter or increase eps parameters.\n",
      "  warnings.warn('Regressors in active set degenerate. '\n",
      "C:\\Users\\patri\\anaconda3\\lib\\site-packages\\sklearn\\linear_model\\_least_angle.py:571: ConvergenceWarning: Regressors in active set degenerate. Dropping a regressor, after 88 iterations, i.e. alpha=1.981e-03, with an active set of 66 regressors, and the smallest cholesky pivot element being 2.220e-16. Reduce max_iter or increase eps parameters.\n",
      "  warnings.warn('Regressors in active set degenerate. '\n",
      "C:\\Users\\patri\\anaconda3\\lib\\site-packages\\sklearn\\linear_model\\_least_angle.py:571: ConvergenceWarning: Regressors in active set degenerate. Dropping a regressor, after 139 iterations, i.e. alpha=1.006e-03, with an active set of 93 regressors, and the smallest cholesky pivot element being 2.107e-08. Reduce max_iter or increase eps parameters.\n",
      "  warnings.warn('Regressors in active set degenerate. '\n"
     ]
    },
    {
     "name": "stdout",
     "output_type": "stream",
     "text": [
      "(146, 2358)\n",
      "(146, 2358)\n"
     ]
    },
    {
     "name": "stderr",
     "output_type": "stream",
     "text": [
      "C:\\Users\\patri\\anaconda3\\lib\\site-packages\\sklearn\\linear_model\\_least_angle.py:571: ConvergenceWarning: Regressors in active set degenerate. Dropping a regressor, after 49 iterations, i.e. alpha=3.831e-03, with an active set of 39 regressors, and the smallest cholesky pivot element being 2.220e-16. Reduce max_iter or increase eps parameters.\n",
      "  warnings.warn('Regressors in active set degenerate. '\n",
      "C:\\Users\\patri\\anaconda3\\lib\\site-packages\\sklearn\\linear_model\\_least_angle.py:571: ConvergenceWarning: Regressors in active set degenerate. Dropping a regressor, after 92 iterations, i.e. alpha=2.172e-03, with an active set of 68 regressors, and the smallest cholesky pivot element being 1.054e-08. Reduce max_iter or increase eps parameters.\n",
      "  warnings.warn('Regressors in active set degenerate. '\n",
      "C:\\Users\\patri\\anaconda3\\lib\\site-packages\\sklearn\\linear_model\\_least_angle.py:571: ConvergenceWarning: Regressors in active set degenerate. Dropping a regressor, after 92 iterations, i.e. alpha=2.171e-03, with an active set of 68 regressors, and the smallest cholesky pivot element being 1.054e-08. Reduce max_iter or increase eps parameters.\n",
      "  warnings.warn('Regressors in active set degenerate. '\n",
      "C:\\Users\\patri\\anaconda3\\lib\\site-packages\\sklearn\\linear_model\\_least_angle.py:571: ConvergenceWarning: Regressors in active set degenerate. Dropping a regressor, after 141 iterations, i.e. alpha=1.086e-03, with an active set of 95 regressors, and the smallest cholesky pivot element being 2.581e-08. Reduce max_iter or increase eps parameters.\n",
      "  warnings.warn('Regressors in active set degenerate. '\n",
      "C:\\Users\\patri\\anaconda3\\lib\\site-packages\\sklearn\\linear_model\\_least_angle.py:598: ConvergenceWarning: Early stopping the lars path, as the residues are small and the current value of alpha is no longer well controlled. 142 iterations, alpha=1.083e-03, previous alpha=1.082e-03, with an active set of 95 regressors.\n",
      "  warnings.warn('Early stopping the lars path, as the residues '\n",
      "C:\\Users\\patri\\anaconda3\\lib\\site-packages\\sklearn\\linear_model\\_least_angle.py:571: ConvergenceWarning: Regressors in active set degenerate. Dropping a regressor, after 51 iterations, i.e. alpha=3.843e-03, with an active set of 41 regressors, and the smallest cholesky pivot element being 1.490e-08. Reduce max_iter or increase eps parameters.\n",
      "  warnings.warn('Regressors in active set degenerate. '\n",
      "C:\\Users\\patri\\anaconda3\\lib\\site-packages\\sklearn\\linear_model\\_least_angle.py:571: ConvergenceWarning: Regressors in active set degenerate. Dropping a regressor, after 125 iterations, i.e. alpha=1.185e-03, with an active set of 91 regressors, and the smallest cholesky pivot element being 1.490e-08. Reduce max_iter or increase eps parameters.\n",
      "  warnings.warn('Regressors in active set degenerate. '\n"
     ]
    },
    {
     "name": "stdout",
     "output_type": "stream",
     "text": [
      "(146, 2358)\n",
      "(146, 2358)\n"
     ]
    },
    {
     "name": "stderr",
     "output_type": "stream",
     "text": [
      "C:\\Users\\patri\\anaconda3\\lib\\site-packages\\sklearn\\linear_model\\_least_angle.py:571: ConvergenceWarning: Regressors in active set degenerate. Dropping a regressor, after 80 iterations, i.e. alpha=2.474e-03, with an active set of 64 regressors, and the smallest cholesky pivot element being 2.107e-08. Reduce max_iter or increase eps parameters.\n",
      "  warnings.warn('Regressors in active set degenerate. '\n",
      "C:\\Users\\patri\\anaconda3\\lib\\site-packages\\sklearn\\linear_model\\_least_angle.py:571: ConvergenceWarning: Regressors in active set degenerate. Dropping a regressor, after 81 iterations, i.e. alpha=2.474e-03, with an active set of 65 regressors, and the smallest cholesky pivot element being 2.107e-08. Reduce max_iter or increase eps parameters.\n",
      "  warnings.warn('Regressors in active set degenerate. '\n",
      "C:\\Users\\patri\\anaconda3\\lib\\site-packages\\sklearn\\linear_model\\_least_angle.py:571: ConvergenceWarning: Regressors in active set degenerate. Dropping a regressor, after 125 iterations, i.e. alpha=1.249e-03, with an active set of 87 regressors, and the smallest cholesky pivot element being 2.980e-08. Reduce max_iter or increase eps parameters.\n",
      "  warnings.warn('Regressors in active set degenerate. '\n",
      "C:\\Users\\patri\\anaconda3\\lib\\site-packages\\sklearn\\linear_model\\_least_angle.py:571: ConvergenceWarning: Regressors in active set degenerate. Dropping a regressor, after 125 iterations, i.e. alpha=1.248e-03, with an active set of 87 regressors, and the smallest cholesky pivot element being 2.980e-08. Reduce max_iter or increase eps parameters.\n",
      "  warnings.warn('Regressors in active set degenerate. '\n",
      "C:\\Users\\patri\\anaconda3\\lib\\site-packages\\sklearn\\linear_model\\_least_angle.py:598: ConvergenceWarning: Early stopping the lars path, as the residues are small and the current value of alpha is no longer well controlled. 154 iterations, alpha=1.135e-03, previous alpha=1.135e-03, with an active set of 97 regressors.\n",
      "  warnings.warn('Early stopping the lars path, as the residues '\n"
     ]
    },
    {
     "name": "stdout",
     "output_type": "stream",
     "text": [
      "(146, 2358)\n",
      "(146, 2358)\n"
     ]
    },
    {
     "name": "stderr",
     "output_type": "stream",
     "text": [
      "C:\\Users\\patri\\anaconda3\\lib\\site-packages\\sklearn\\linear_model\\_least_angle.py:571: ConvergenceWarning: Regressors in active set degenerate. Dropping a regressor, after 48 iterations, i.e. alpha=3.827e-03, with an active set of 40 regressors, and the smallest cholesky pivot element being 2.220e-16. Reduce max_iter or increase eps parameters.\n",
      "  warnings.warn('Regressors in active set degenerate. '\n",
      "C:\\Users\\patri\\anaconda3\\lib\\site-packages\\sklearn\\linear_model\\_least_angle.py:571: ConvergenceWarning: Regressors in active set degenerate. Dropping a regressor, after 95 iterations, i.e. alpha=1.958e-03, with an active set of 75 regressors, and the smallest cholesky pivot element being 1.490e-08. Reduce max_iter or increase eps parameters.\n",
      "  warnings.warn('Regressors in active set degenerate. '\n",
      "C:\\Users\\patri\\anaconda3\\lib\\site-packages\\sklearn\\linear_model\\_least_angle.py:571: ConvergenceWarning: Regressors in active set degenerate. Dropping a regressor, after 137 iterations, i.e. alpha=1.067e-03, with an active set of 93 regressors, and the smallest cholesky pivot element being 2.220e-16. Reduce max_iter or increase eps parameters.\n",
      "  warnings.warn('Regressors in active set degenerate. '\n"
     ]
    },
    {
     "name": "stdout",
     "output_type": "stream",
     "text": [
      "(146, 2358)\n",
      "(146, 2358)\n",
      "(146, 2358)\n"
     ]
    },
    {
     "name": "stderr",
     "output_type": "stream",
     "text": [
      "C:\\Users\\patri\\anaconda3\\lib\\site-packages\\sklearn\\linear_model\\_least_angle.py:571: ConvergenceWarning: Regressors in active set degenerate. Dropping a regressor, after 107 iterations, i.e. alpha=1.530e-03, with an active set of 81 regressors, and the smallest cholesky pivot element being 2.107e-08. Reduce max_iter or increase eps parameters.\n",
      "  warnings.warn('Regressors in active set degenerate. '\n",
      "C:\\Users\\patri\\anaconda3\\lib\\site-packages\\sklearn\\linear_model\\_least_angle.py:571: ConvergenceWarning: Regressors in active set degenerate. Dropping a regressor, after 108 iterations, i.e. alpha=1.529e-03, with an active set of 82 regressors, and the smallest cholesky pivot element being 2.107e-08. Reduce max_iter or increase eps parameters.\n",
      "  warnings.warn('Regressors in active set degenerate. '\n",
      "C:\\Users\\patri\\anaconda3\\lib\\site-packages\\sklearn\\linear_model\\_least_angle.py:571: ConvergenceWarning: Regressors in active set degenerate. Dropping a regressor, after 51 iterations, i.e. alpha=3.781e-03, with an active set of 43 regressors, and the smallest cholesky pivot element being 2.581e-08. Reduce max_iter or increase eps parameters.\n",
      "  warnings.warn('Regressors in active set degenerate. '\n",
      "C:\\Users\\patri\\anaconda3\\lib\\site-packages\\sklearn\\linear_model\\_least_angle.py:571: ConvergenceWarning: Regressors in active set degenerate. Dropping a regressor, after 80 iterations, i.e. alpha=2.322e-03, with an active set of 68 regressors, and the smallest cholesky pivot element being 2.581e-08. Reduce max_iter or increase eps parameters.\n",
      "  warnings.warn('Regressors in active set degenerate. '\n"
     ]
    },
    {
     "name": "stdout",
     "output_type": "stream",
     "text": [
      "(146, 2358)\n",
      "(146, 2358)"
     ]
    },
    {
     "name": "stderr",
     "output_type": "stream",
     "text": [
      "C:\\Users\\patri\\anaconda3\\lib\\site-packages\\sklearn\\linear_model\\_least_angle.py:571: ConvergenceWarning: Regressors in active set degenerate. Dropping a regressor, after 48 iterations, i.e. alpha=3.630e-03, with an active set of 44 regressors, and the smallest cholesky pivot element being 2.220e-16. Reduce max_iter or increase eps parameters.\n",
      "  warnings.warn('Regressors in active set degenerate. '\n",
      "C:\\Users\\patri\\anaconda3\\lib\\site-packages\\sklearn\\linear_model\\_least_angle.py:571: ConvergenceWarning: Regressors in active set degenerate. Dropping a regressor, after 75 iterations, i.e. alpha=2.559e-03, with an active set of 59 regressors, and the smallest cholesky pivot element being 2.581e-08. Reduce max_iter or increase eps parameters.\n",
      "  warnings.warn('Regressors in active set degenerate. '\n",
      "C:\\Users\\patri\\anaconda3\\lib\\site-packages\\sklearn\\linear_model\\_least_angle.py:571: ConvergenceWarning: Regressors in active set degenerate. Dropping a regressor, after 112 iterations, i.e. alpha=1.500e-03, with an active set of 82 regressors, and the smallest cholesky pivot element being 2.107e-08. Reduce max_iter or increase eps parameters.\n",
      "  warnings.warn('Regressors in active set degenerate. '\n",
      "C:\\Users\\patri\\anaconda3\\lib\\site-packages\\sklearn\\linear_model\\_least_angle.py:571: ConvergenceWarning: Regressors in active set degenerate. Dropping a regressor, after 112 iterations, i.e. alpha=1.499e-03, with an active set of 82 regressors, and the smallest cholesky pivot element being 2.107e-08. Reduce max_iter or increase eps parameters.\n",
      "  warnings.warn('Regressors in active set degenerate. '\n"
     ]
    },
    {
     "name": "stdout",
     "output_type": "stream",
     "text": [
      "\n",
      "(146, 2358)\n"
     ]
    },
    {
     "name": "stderr",
     "output_type": "stream",
     "text": [
      "C:\\Users\\patri\\anaconda3\\lib\\site-packages\\sklearn\\linear_model\\_least_angle.py:571: ConvergenceWarning: Regressors in active set degenerate. Dropping a regressor, after 68 iterations, i.e. alpha=2.868e-03, with an active set of 50 regressors, and the smallest cholesky pivot element being 1.490e-08. Reduce max_iter or increase eps parameters.\n",
      "  warnings.warn('Regressors in active set degenerate. '\n",
      "C:\\Users\\patri\\anaconda3\\lib\\site-packages\\sklearn\\linear_model\\_least_angle.py:571: ConvergenceWarning: Regressors in active set degenerate. Dropping a regressor, after 69 iterations, i.e. alpha=2.868e-03, with an active set of 51 regressors, and the smallest cholesky pivot element being 1.490e-08. Reduce max_iter or increase eps parameters.\n",
      "  warnings.warn('Regressors in active set degenerate. '\n",
      "C:\\Users\\patri\\anaconda3\\lib\\site-packages\\sklearn\\linear_model\\_least_angle.py:571: ConvergenceWarning: Regressors in active set degenerate. Dropping a regressor, after 69 iterations, i.e. alpha=2.865e-03, with an active set of 51 regressors, and the smallest cholesky pivot element being 1.490e-08. Reduce max_iter or increase eps parameters.\n",
      "  warnings.warn('Regressors in active set degenerate. '\n",
      "C:\\Users\\patri\\anaconda3\\lib\\site-packages\\sklearn\\linear_model\\_least_angle.py:571: ConvergenceWarning: Regressors in active set degenerate. Dropping a regressor, after 112 iterations, i.e. alpha=1.434e-03, with an active set of 86 regressors, and the smallest cholesky pivot element being 2.107e-08. Reduce max_iter or increase eps parameters.\n",
      "  warnings.warn('Regressors in active set degenerate. '\n",
      "C:\\Users\\patri\\anaconda3\\lib\\site-packages\\sklearn\\linear_model\\_least_angle.py:598: ConvergenceWarning: Early stopping the lars path, as the residues are small and the current value of alpha is no longer well controlled. 138 iterations, alpha=1.346e-03, previous alpha=1.345e-03, with an active set of 89 regressors.\n",
      "  warnings.warn('Early stopping the lars path, as the residues '\n",
      "C:\\Users\\patri\\anaconda3\\lib\\site-packages\\sklearn\\linear_model\\_least_angle.py:571: ConvergenceWarning: Regressors in active set degenerate. Dropping a regressor, after 49 iterations, i.e. alpha=3.780e-03, with an active set of 41 regressors, and the smallest cholesky pivot element being 1.490e-08. Reduce max_iter or increase eps parameters.\n",
      "  warnings.warn('Regressors in active set degenerate. '\n",
      "C:\\Users\\patri\\anaconda3\\lib\\site-packages\\sklearn\\linear_model\\_least_angle.py:571: ConvergenceWarning: Regressors in active set degenerate. Dropping a regressor, after 124 iterations, i.e. alpha=1.207e-03, with an active set of 94 regressors, and the smallest cholesky pivot element being 2.107e-08. Reduce max_iter or increase eps parameters.\n",
      "  warnings.warn('Regressors in active set degenerate. '\n",
      "C:\\Users\\patri\\anaconda3\\lib\\site-packages\\sklearn\\linear_model\\_least_angle.py:571: ConvergenceWarning: Regressors in active set degenerate. Dropping a regressor, after 124 iterations, i.e. alpha=1.205e-03, with an active set of 94 regressors, and the smallest cholesky pivot element being 2.107e-08. Reduce max_iter or increase eps parameters.\n",
      "  warnings.warn('Regressors in active set degenerate. '\n"
     ]
    },
    {
     "name": "stdout",
     "output_type": "stream",
     "text": [
      "(146, 2358)\n",
      "(146, 2358)\n"
     ]
    },
    {
     "name": "stderr",
     "output_type": "stream",
     "text": [
      "C:\\Users\\patri\\anaconda3\\lib\\site-packages\\sklearn\\linear_model\\_least_angle.py:571: ConvergenceWarning: Regressors in active set degenerate. Dropping a regressor, after 49 iterations, i.e. alpha=3.815e-03, with an active set of 39 regressors, and the smallest cholesky pivot element being 1.490e-08. Reduce max_iter or increase eps parameters.\n",
      "  warnings.warn('Regressors in active set degenerate. '\n",
      "C:\\Users\\patri\\anaconda3\\lib\\site-packages\\sklearn\\linear_model\\_least_angle.py:571: ConvergenceWarning: Regressors in active set degenerate. Dropping a regressor, after 83 iterations, i.e. alpha=2.138e-03, with an active set of 69 regressors, and the smallest cholesky pivot element being 1.490e-08. Reduce max_iter or increase eps parameters.\n",
      "  warnings.warn('Regressors in active set degenerate. '\n",
      "C:\\Users\\patri\\anaconda3\\lib\\site-packages\\sklearn\\linear_model\\_least_angle.py:571: ConvergenceWarning: Regressors in active set degenerate. Dropping a regressor, after 46 iterations, i.e. alpha=4.008e-03, with an active set of 38 regressors, and the smallest cholesky pivot element being 2.356e-08. Reduce max_iter or increase eps parameters.\n",
      "  warnings.warn('Regressors in active set degenerate. '\n",
      "C:\\Users\\patri\\anaconda3\\lib\\site-packages\\sklearn\\linear_model\\_least_angle.py:571: ConvergenceWarning: Regressors in active set degenerate. Dropping a regressor, after 84 iterations, i.e. alpha=2.311e-03, with an active set of 62 regressors, and the smallest cholesky pivot element being 1.054e-08. Reduce max_iter or increase eps parameters.\n",
      "  warnings.warn('Regressors in active set degenerate. '\n"
     ]
    },
    {
     "name": "stdout",
     "output_type": "stream",
     "text": [
      "(146, 2358)\n",
      "(146, 2358)\n"
     ]
    },
    {
     "name": "stderr",
     "output_type": "stream",
     "text": [
      "C:\\Users\\patri\\anaconda3\\lib\\site-packages\\sklearn\\linear_model\\_least_angle.py:571: ConvergenceWarning: Regressors in active set degenerate. Dropping a regressor, after 92 iterations, i.e. alpha=2.077e-03, with an active set of 68 regressors, and the smallest cholesky pivot element being 1.054e-08. Reduce max_iter or increase eps parameters.\n",
      "  warnings.warn('Regressors in active set degenerate. '\n",
      "C:\\Users\\patri\\anaconda3\\lib\\site-packages\\sklearn\\linear_model\\_least_angle.py:598: ConvergenceWarning: Early stopping the lars path, as the residues are small and the current value of alpha is no longer well controlled. 97 iterations, alpha=1.948e-03, previous alpha=1.946e-03, with an active set of 72 regressors.\n",
      "  warnings.warn('Early stopping the lars path, as the residues '\n",
      "C:\\Users\\patri\\anaconda3\\lib\\site-packages\\sklearn\\linear_model\\_least_angle.py:571: ConvergenceWarning: Regressors in active set degenerate. Dropping a regressor, after 50 iterations, i.e. alpha=3.561e-03, with an active set of 40 regressors, and the smallest cholesky pivot element being 1.490e-08. Reduce max_iter or increase eps parameters.\n",
      "  warnings.warn('Regressors in active set degenerate. '\n",
      "C:\\Users\\patri\\anaconda3\\lib\\site-packages\\sklearn\\linear_model\\_least_angle.py:571: ConvergenceWarning: Regressors in active set degenerate. Dropping a regressor, after 94 iterations, i.e. alpha=1.787e-03, with an active set of 76 regressors, and the smallest cholesky pivot element being 2.107e-08. Reduce max_iter or increase eps parameters.\n",
      "  warnings.warn('Regressors in active set degenerate. '\n",
      "C:\\Users\\patri\\anaconda3\\lib\\site-packages\\sklearn\\linear_model\\_least_angle.py:571: ConvergenceWarning: Regressors in active set degenerate. Dropping a regressor, after 101 iterations, i.e. alpha=1.664e-03, with an active set of 83 regressors, and the smallest cholesky pivot element being 2.107e-08. Reduce max_iter or increase eps parameters.\n",
      "  warnings.warn('Regressors in active set degenerate. '\n"
     ]
    },
    {
     "name": "stdout",
     "output_type": "stream",
     "text": [
      "(146, 2358)\n",
      "(146, 2358)\n"
     ]
    },
    {
     "name": "stderr",
     "output_type": "stream",
     "text": [
      "C:\\Users\\patri\\anaconda3\\lib\\site-packages\\sklearn\\linear_model\\_least_angle.py:571: ConvergenceWarning: Regressors in active set degenerate. Dropping a regressor, after 131 iterations, i.e. alpha=1.173e-03, with an active set of 91 regressors, and the smallest cholesky pivot element being 2.356e-08. Reduce max_iter or increase eps parameters.\n",
      "  warnings.warn('Regressors in active set degenerate. '\n",
      "C:\\Users\\patri\\anaconda3\\lib\\site-packages\\sklearn\\linear_model\\_least_angle.py:571: ConvergenceWarning: Regressors in active set degenerate. Dropping a regressor, after 132 iterations, i.e. alpha=1.165e-03, with an active set of 92 regressors, and the smallest cholesky pivot element being 2.356e-08. Reduce max_iter or increase eps parameters.\n",
      "  warnings.warn('Regressors in active set degenerate. '\n",
      "C:\\Users\\patri\\anaconda3\\lib\\site-packages\\sklearn\\linear_model\\_least_angle.py:571: ConvergenceWarning: Regressors in active set degenerate. Dropping a regressor, after 133 iterations, i.e. alpha=1.152e-03, with an active set of 93 regressors, and the smallest cholesky pivot element being 2.356e-08. Reduce max_iter or increase eps parameters.\n",
      "  warnings.warn('Regressors in active set degenerate. '\n",
      "C:\\Users\\patri\\anaconda3\\lib\\site-packages\\sklearn\\linear_model\\_least_angle.py:571: ConvergenceWarning: Regressors in active set degenerate. Dropping a regressor, after 49 iterations, i.e. alpha=3.826e-03, with an active set of 39 regressors, and the smallest cholesky pivot element being 2.107e-08. Reduce max_iter or increase eps parameters.\n",
      "  warnings.warn('Regressors in active set degenerate. '\n",
      "C:\\Users\\patri\\anaconda3\\lib\\site-packages\\sklearn\\linear_model\\_least_angle.py:571: ConvergenceWarning: Regressors in active set degenerate. Dropping a regressor, after 50 iterations, i.e. alpha=3.825e-03, with an active set of 40 regressors, and the smallest cholesky pivot element being 2.107e-08. Reduce max_iter or increase eps parameters.\n",
      "  warnings.warn('Regressors in active set degenerate. '\n",
      "C:\\Users\\patri\\anaconda3\\lib\\site-packages\\sklearn\\linear_model\\_least_angle.py:571: ConvergenceWarning: Regressors in active set degenerate. Dropping a regressor, after 97 iterations, i.e. alpha=1.973e-03, with an active set of 75 regressors, and the smallest cholesky pivot element being 1.825e-08. Reduce max_iter or increase eps parameters.\n",
      "  warnings.warn('Regressors in active set degenerate. '\n",
      "C:\\Users\\patri\\anaconda3\\lib\\site-packages\\sklearn\\linear_model\\_least_angle.py:598: ConvergenceWarning: Early stopping the lars path, as the residues are small and the current value of alpha is no longer well controlled. 100 iterations, alpha=1.936e-03, previous alpha=1.928e-03, with an active set of 77 regressors.\n",
      "  warnings.warn('Early stopping the lars path, as the residues '\n"
     ]
    },
    {
     "name": "stdout",
     "output_type": "stream",
     "text": [
      "(146, 2358)\n",
      "(146, 2358)\n"
     ]
    },
    {
     "name": "stderr",
     "output_type": "stream",
     "text": [
      "C:\\Users\\patri\\anaconda3\\lib\\site-packages\\sklearn\\linear_model\\_least_angle.py:571: ConvergenceWarning: Regressors in active set degenerate. Dropping a regressor, after 49 iterations, i.e. alpha=3.868e-03, with an active set of 41 regressors, and the smallest cholesky pivot element being 1.490e-08. Reduce max_iter or increase eps parameters.\n",
      "  warnings.warn('Regressors in active set degenerate. '\n",
      "C:\\Users\\patri\\anaconda3\\lib\\site-packages\\sklearn\\linear_model\\_least_angle.py:571: ConvergenceWarning: Regressors in active set degenerate. Dropping a regressor, after 131 iterations, i.e. alpha=1.157e-03, with an active set of 93 regressors, and the smallest cholesky pivot element being 1.490e-08. Reduce max_iter or increase eps parameters.\n",
      "  warnings.warn('Regressors in active set degenerate. '\n",
      "C:\\Users\\patri\\anaconda3\\lib\\site-packages\\sklearn\\linear_model\\_least_angle.py:598: ConvergenceWarning: Early stopping the lars path, as the residues are small and the current value of alpha is no longer well controlled. 132 iterations, alpha=1.156e-03, previous alpha=1.156e-03, with an active set of 93 regressors.\n",
      "  warnings.warn('Early stopping the lars path, as the residues '\n",
      "C:\\Users\\patri\\anaconda3\\lib\\site-packages\\sklearn\\linear_model\\_least_angle.py:571: ConvergenceWarning: Regressors in active set degenerate. Dropping a regressor, after 51 iterations, i.e. alpha=3.797e-03, with an active set of 41 regressors, and the smallest cholesky pivot element being 2.220e-16. Reduce max_iter or increase eps parameters.\n",
      "  warnings.warn('Regressors in active set degenerate. '\n",
      "C:\\Users\\patri\\anaconda3\\lib\\site-packages\\sklearn\\linear_model\\_least_angle.py:571: ConvergenceWarning: Regressors in active set degenerate. Dropping a regressor, after 52 iterations, i.e. alpha=3.796e-03, with an active set of 42 regressors, and the smallest cholesky pivot element being 2.220e-16. Reduce max_iter or increase eps parameters.\n",
      "  warnings.warn('Regressors in active set degenerate. '\n",
      "C:\\Users\\patri\\anaconda3\\lib\\site-packages\\sklearn\\linear_model\\_least_angle.py:571: ConvergenceWarning: Regressors in active set degenerate. Dropping a regressor, after 64 iterations, i.e. alpha=3.077e-03, with an active set of 50 regressors, and the smallest cholesky pivot element being 2.220e-16. Reduce max_iter or increase eps parameters.\n",
      "  warnings.warn('Regressors in active set degenerate. '\n",
      "C:\\Users\\patri\\anaconda3\\lib\\site-packages\\sklearn\\linear_model\\_least_angle.py:571: ConvergenceWarning: Regressors in active set degenerate. Dropping a regressor, after 65 iterations, i.e. alpha=3.068e-03, with an active set of 51 regressors, and the smallest cholesky pivot element being 2.220e-16. Reduce max_iter or increase eps parameters.\n",
      "  warnings.warn('Regressors in active set degenerate. '\n",
      "C:\\Users\\patri\\anaconda3\\lib\\site-packages\\sklearn\\linear_model\\_least_angle.py:598: ConvergenceWarning: Early stopping the lars path, as the residues are small and the current value of alpha is no longer well controlled. 98 iterations, alpha=1.891e-03, previous alpha=1.889e-03, with an active set of 75 regressors.\n",
      "  warnings.warn('Early stopping the lars path, as the residues '\n"
     ]
    },
    {
     "name": "stdout",
     "output_type": "stream",
     "text": [
      "(146, 2358)\n",
      "(146, 2358)\n"
     ]
    },
    {
     "name": "stderr",
     "output_type": "stream",
     "text": [
      "C:\\Users\\patri\\anaconda3\\lib\\site-packages\\sklearn\\linear_model\\_least_angle.py:571: ConvergenceWarning: Regressors in active set degenerate. Dropping a regressor, after 98 iterations, i.e. alpha=1.581e-03, with an active set of 76 regressors, and the smallest cholesky pivot element being 1.054e-08. Reduce max_iter or increase eps parameters.\n",
      "  warnings.warn('Regressors in active set degenerate. '\n",
      "C:\\Users\\patri\\anaconda3\\lib\\site-packages\\sklearn\\linear_model\\_least_angle.py:571: ConvergenceWarning: Regressors in active set degenerate. Dropping a regressor, after 103 iterations, i.e. alpha=1.497e-03, with an active set of 79 regressors, and the smallest cholesky pivot element being 2.107e-08. Reduce max_iter or increase eps parameters.\n",
      "  warnings.warn('Regressors in active set degenerate. '\n",
      "C:\\Users\\patri\\anaconda3\\lib\\site-packages\\sklearn\\linear_model\\_least_angle.py:571: ConvergenceWarning: Regressors in active set degenerate. Dropping a regressor, after 49 iterations, i.e. alpha=3.739e-03, with an active set of 41 regressors, and the smallest cholesky pivot element being 2.356e-08. Reduce max_iter or increase eps parameters.\n",
      "  warnings.warn('Regressors in active set degenerate. '\n",
      "C:\\Users\\patri\\anaconda3\\lib\\site-packages\\sklearn\\linear_model\\_least_angle.py:571: ConvergenceWarning: Regressors in active set degenerate. Dropping a regressor, after 133 iterations, i.e. alpha=1.123e-03, with an active set of 91 regressors, and the smallest cholesky pivot element being 2.980e-08. Reduce max_iter or increase eps parameters.\n",
      "  warnings.warn('Regressors in active set degenerate. '\n",
      "C:\\Users\\patri\\anaconda3\\lib\\site-packages\\sklearn\\linear_model\\_least_angle.py:598: ConvergenceWarning: Early stopping the lars path, as the residues are small and the current value of alpha is no longer well controlled. 137 iterations, alpha=1.080e-03, previous alpha=1.079e-03, with an active set of 94 regressors.\n",
      "  warnings.warn('Early stopping the lars path, as the residues '\n"
     ]
    },
    {
     "name": "stdout",
     "output_type": "stream",
     "text": [
      "(146, 2358)\n",
      "(146, 2358)\n",
      "(146, 2358)\n"
     ]
    },
    {
     "name": "stderr",
     "output_type": "stream",
     "text": [
      "C:\\Users\\patri\\anaconda3\\lib\\site-packages\\sklearn\\linear_model\\_least_angle.py:571: ConvergenceWarning: Regressors in active set degenerate. Dropping a regressor, after 51 iterations, i.e. alpha=3.818e-03, with an active set of 41 regressors, and the smallest cholesky pivot element being 1.490e-08. Reduce max_iter or increase eps parameters.\n",
      "  warnings.warn('Regressors in active set degenerate. '\n",
      "C:\\Users\\patri\\anaconda3\\lib\\site-packages\\sklearn\\linear_model\\_least_angle.py:571: ConvergenceWarning: Regressors in active set degenerate. Dropping a regressor, after 133 iterations, i.e. alpha=1.150e-03, with an active set of 91 regressors, and the smallest cholesky pivot element being 2.581e-08. Reduce max_iter or increase eps parameters.\n",
      "  warnings.warn('Regressors in active set degenerate. '\n",
      "C:\\Users\\patri\\anaconda3\\lib\\site-packages\\sklearn\\linear_model\\_least_angle.py:571: ConvergenceWarning: Regressors in active set degenerate. Dropping a regressor, after 48 iterations, i.e. alpha=3.793e-03, with an active set of 40 regressors, and the smallest cholesky pivot element being 2.220e-16. Reduce max_iter or increase eps parameters.\n",
      "  warnings.warn('Regressors in active set degenerate. '\n",
      "C:\\Users\\patri\\anaconda3\\lib\\site-packages\\sklearn\\linear_model\\_least_angle.py:571: ConvergenceWarning: Regressors in active set degenerate. Dropping a regressor, after 96 iterations, i.e. alpha=1.952e-03, with an active set of 74 regressors, and the smallest cholesky pivot element being 1.825e-08. Reduce max_iter or increase eps parameters.\n",
      "  warnings.warn('Regressors in active set degenerate. '\n",
      "C:\\Users\\patri\\anaconda3\\lib\\site-packages\\sklearn\\linear_model\\_least_angle.py:571: ConvergenceWarning: Regressors in active set degenerate. Dropping a regressor, after 112 iterations, i.e. alpha=1.445e-03, with an active set of 86 regressors, and the smallest cholesky pivot element being 2.581e-08. Reduce max_iter or increase eps parameters.\n",
      "  warnings.warn('Regressors in active set degenerate. '\n"
     ]
    },
    {
     "name": "stdout",
     "output_type": "stream",
     "text": [
      "(146, 2358)\n",
      "(146, 2358)\n"
     ]
    },
    {
     "name": "stderr",
     "output_type": "stream",
     "text": [
      "C:\\Users\\patri\\anaconda3\\lib\\site-packages\\sklearn\\linear_model\\_least_angle.py:571: ConvergenceWarning: Regressors in active set degenerate. Dropping a regressor, after 49 iterations, i.e. alpha=3.826e-03, with an active set of 39 regressors, and the smallest cholesky pivot element being 1.490e-08. Reduce max_iter or increase eps parameters.\n",
      "  warnings.warn('Regressors in active set degenerate. '\n",
      "C:\\Users\\patri\\anaconda3\\lib\\site-packages\\sklearn\\linear_model\\_least_angle.py:571: ConvergenceWarning: Regressors in active set degenerate. Dropping a regressor, after 93 iterations, i.e. alpha=2.139e-03, with an active set of 69 regressors, and the smallest cholesky pivot element being 2.107e-08. Reduce max_iter or increase eps parameters.\n",
      "  warnings.warn('Regressors in active set degenerate. '\n",
      "C:\\Users\\patri\\anaconda3\\lib\\site-packages\\sklearn\\linear_model\\_least_angle.py:571: ConvergenceWarning: Regressors in active set degenerate. Dropping a regressor, after 94 iterations, i.e. alpha=2.138e-03, with an active set of 70 regressors, and the smallest cholesky pivot element being 2.107e-08. Reduce max_iter or increase eps parameters.\n",
      "  warnings.warn('Regressors in active set degenerate. '\n",
      "C:\\Users\\patri\\anaconda3\\lib\\site-packages\\sklearn\\linear_model\\_least_angle.py:571: ConvergenceWarning: Regressors in active set degenerate. Dropping a regressor, after 60 iterations, i.e. alpha=3.397e-03, with an active set of 48 regressors, and the smallest cholesky pivot element being 2.107e-08. Reduce max_iter or increase eps parameters.\n",
      "  warnings.warn('Regressors in active set degenerate. '\n",
      "C:\\Users\\patri\\anaconda3\\lib\\site-packages\\sklearn\\linear_model\\_least_angle.py:571: ConvergenceWarning: Regressors in active set degenerate. Dropping a regressor, after 94 iterations, i.e. alpha=2.165e-03, with an active set of 70 regressors, and the smallest cholesky pivot element being 2.356e-08. Reduce max_iter or increase eps parameters.\n",
      "  warnings.warn('Regressors in active set degenerate. '\n",
      "C:\\Users\\patri\\anaconda3\\lib\\site-packages\\sklearn\\linear_model\\_least_angle.py:571: ConvergenceWarning: Regressors in active set degenerate. Dropping a regressor, after 143 iterations, i.e. alpha=1.083e-03, with an active set of 97 regressors, and the smallest cholesky pivot element being 2.980e-08. Reduce max_iter or increase eps parameters.\n",
      "  warnings.warn('Regressors in active set degenerate. '\n",
      "C:\\Users\\patri\\anaconda3\\lib\\site-packages\\sklearn\\linear_model\\_least_angle.py:571: ConvergenceWarning: Regressors in active set degenerate. Dropping a regressor, after 143 iterations, i.e. alpha=1.081e-03, with an active set of 97 regressors, and the smallest cholesky pivot element being 2.980e-08. Reduce max_iter or increase eps parameters.\n",
      "  warnings.warn('Regressors in active set degenerate. '\n",
      "C:\\Users\\patri\\anaconda3\\lib\\site-packages\\sklearn\\linear_model\\_least_angle.py:571: ConvergenceWarning: Regressors in active set degenerate. Dropping a regressor, after 47 iterations, i.e. alpha=3.925e-03, with an active set of 39 regressors, and the smallest cholesky pivot element being 2.220e-16. Reduce max_iter or increase eps parameters.\n",
      "  warnings.warn('Regressors in active set degenerate. '\n",
      "C:\\Users\\patri\\anaconda3\\lib\\site-packages\\sklearn\\linear_model\\_least_angle.py:571: ConvergenceWarning: Regressors in active set degenerate. Dropping a regressor, after 81 iterations, i.e. alpha=2.172e-03, with an active set of 69 regressors, and the smallest cholesky pivot element being 1.490e-08. Reduce max_iter or increase eps parameters.\n",
      "  warnings.warn('Regressors in active set degenerate. '\n",
      "C:\\Users\\patri\\anaconda3\\lib\\site-packages\\sklearn\\linear_model\\_least_angle.py:598: ConvergenceWarning: Early stopping the lars path, as the residues are small and the current value of alpha is no longer well controlled. 113 iterations, alpha=1.182e-03, previous alpha=1.179e-03, with an active set of 92 regressors.\n",
      "  warnings.warn('Early stopping the lars path, as the residues '\n"
     ]
    },
    {
     "name": "stdout",
     "output_type": "stream",
     "text": [
      "(146, 2358)\n",
      "(146, 2358)\n"
     ]
    },
    {
     "name": "stderr",
     "output_type": "stream",
     "text": [
      "C:\\Users\\patri\\anaconda3\\lib\\site-packages\\sklearn\\linear_model\\_least_angle.py:571: ConvergenceWarning: Regressors in active set degenerate. Dropping a regressor, after 53 iterations, i.e. alpha=3.626e-03, with an active set of 41 regressors, and the smallest cholesky pivot element being 1.054e-08. Reduce max_iter or increase eps parameters.\n",
      "  warnings.warn('Regressors in active set degenerate. '\n",
      "C:\\Users\\patri\\anaconda3\\lib\\site-packages\\sklearn\\linear_model\\_least_angle.py:571: ConvergenceWarning: Regressors in active set degenerate. Dropping a regressor, after 55 iterations, i.e. alpha=3.624e-03, with an active set of 43 regressors, and the smallest cholesky pivot element being 1.054e-08. Reduce max_iter or increase eps parameters.\n",
      "  warnings.warn('Regressors in active set degenerate. '\n",
      "C:\\Users\\patri\\anaconda3\\lib\\site-packages\\sklearn\\linear_model\\_least_angle.py:571: ConvergenceWarning: Regressors in active set degenerate. Dropping a regressor, after 92 iterations, i.e. alpha=2.206e-03, with an active set of 64 regressors, and the smallest cholesky pivot element being 1.825e-08. Reduce max_iter or increase eps parameters.\n",
      "  warnings.warn('Regressors in active set degenerate. '\n",
      "C:\\Users\\patri\\anaconda3\\lib\\site-packages\\sklearn\\linear_model\\_least_angle.py:598: ConvergenceWarning: Early stopping the lars path, as the residues are small and the current value of alpha is no longer well controlled. 165 iterations, alpha=1.233e-03, previous alpha=1.233e-03, with an active set of 90 regressors.\n",
      "  warnings.warn('Early stopping the lars path, as the residues '\n",
      "C:\\Users\\patri\\anaconda3\\lib\\site-packages\\sklearn\\linear_model\\_least_angle.py:571: ConvergenceWarning: Regressors in active set degenerate. Dropping a regressor, after 50 iterations, i.e. alpha=3.710e-03, with an active set of 40 regressors, and the smallest cholesky pivot element being 1.490e-08. Reduce max_iter or increase eps parameters.\n",
      "  warnings.warn('Regressors in active set degenerate. '\n",
      "C:\\Users\\patri\\anaconda3\\lib\\site-packages\\sklearn\\linear_model\\_least_angle.py:571: ConvergenceWarning: Regressors in active set degenerate. Dropping a regressor, after 89 iterations, i.e. alpha=1.911e-03, with an active set of 71 regressors, and the smallest cholesky pivot element being 1.825e-08. Reduce max_iter or increase eps parameters.\n",
      "  warnings.warn('Regressors in active set degenerate. '\n",
      "C:\\Users\\patri\\anaconda3\\lib\\site-packages\\sklearn\\linear_model\\_least_angle.py:571: ConvergenceWarning: Regressors in active set degenerate. Dropping a regressor, after 105 iterations, i.e. alpha=1.571e-03, with an active set of 77 regressors, and the smallest cholesky pivot element being 2.107e-08. Reduce max_iter or increase eps parameters.\n",
      "  warnings.warn('Regressors in active set degenerate. '\n",
      "C:\\Users\\patri\\anaconda3\\lib\\site-packages\\sklearn\\linear_model\\_least_angle.py:571: ConvergenceWarning: Regressors in active set degenerate. Dropping a regressor, after 105 iterations, i.e. alpha=1.569e-03, with an active set of 77 regressors, and the smallest cholesky pivot element being 2.107e-08. Reduce max_iter or increase eps parameters.\n",
      "  warnings.warn('Regressors in active set degenerate. '\n"
     ]
    },
    {
     "name": "stdout",
     "output_type": "stream",
     "text": [
      "(146, 2358)\n",
      "(146, 2358)\n"
     ]
    },
    {
     "name": "stderr",
     "output_type": "stream",
     "text": [
      "C:\\Users\\patri\\anaconda3\\lib\\site-packages\\sklearn\\linear_model\\_least_angle.py:571: ConvergenceWarning: Regressors in active set degenerate. Dropping a regressor, after 51 iterations, i.e. alpha=3.882e-03, with an active set of 39 regressors, and the smallest cholesky pivot element being 1.490e-08. Reduce max_iter or increase eps parameters.\n",
      "  warnings.warn('Regressors in active set degenerate. '\n",
      "C:\\Users\\patri\\anaconda3\\lib\\site-packages\\sklearn\\linear_model\\_least_angle.py:571: ConvergenceWarning: Regressors in active set degenerate. Dropping a regressor, after 85 iterations, i.e. alpha=2.208e-03, with an active set of 65 regressors, and the smallest cholesky pivot element being 1.490e-08. Reduce max_iter or increase eps parameters.\n",
      "  warnings.warn('Regressors in active set degenerate. '\n",
      "C:\\Users\\patri\\anaconda3\\lib\\site-packages\\sklearn\\linear_model\\_least_angle.py:571: ConvergenceWarning: Regressors in active set degenerate. Dropping a regressor, after 128 iterations, i.e. alpha=1.270e-03, with an active set of 90 regressors, and the smallest cholesky pivot element being 1.490e-08. Reduce max_iter or increase eps parameters.\n",
      "  warnings.warn('Regressors in active set degenerate. '\n",
      "C:\\Users\\patri\\anaconda3\\lib\\site-packages\\sklearn\\linear_model\\_least_angle.py:571: ConvergenceWarning: Regressors in active set degenerate. Dropping a regressor, after 130 iterations, i.e. alpha=1.268e-03, with an active set of 92 regressors, and the smallest cholesky pivot element being 1.490e-08. Reduce max_iter or increase eps parameters.\n",
      "  warnings.warn('Regressors in active set degenerate. '\n"
     ]
    },
    {
     "name": "stdout",
     "output_type": "stream",
     "text": [
      "(146, 2358)\n",
      "(146, 2358)\n"
     ]
    },
    {
     "name": "stderr",
     "output_type": "stream",
     "text": [
      "C:\\Users\\patri\\anaconda3\\lib\\site-packages\\sklearn\\linear_model\\_least_angle.py:571: ConvergenceWarning: Regressors in active set degenerate. Dropping a regressor, after 49 iterations, i.e. alpha=3.852e-03, with an active set of 41 regressors, and the smallest cholesky pivot element being 2.581e-08. Reduce max_iter or increase eps parameters.\n",
      "  warnings.warn('Regressors in active set degenerate. '\n",
      "C:\\Users\\patri\\anaconda3\\lib\\site-packages\\sklearn\\linear_model\\_least_angle.py:571: ConvergenceWarning: Regressors in active set degenerate. Dropping a regressor, after 133 iterations, i.e. alpha=1.152e-03, with an active set of 93 regressors, and the smallest cholesky pivot element being 2.107e-08. Reduce max_iter or increase eps parameters.\n",
      "  warnings.warn('Regressors in active set degenerate. '\n"
     ]
    }
   ],
   "source": [
    "print(ages)\n",
    "\n",
    "# lars_predict = get_predictions(methylation, ages)\n",
    "lars_predict_sqrt = get_predictions(methylation, np.sqrt(ages))"
   ]
  },
  {
   "cell_type": "code",
   "execution_count": 115,
   "metadata": {},
   "outputs": [],
   "source": [
    "def get_median_abs_error(prediction, actual):\n",
    "    errors = []\n",
    "    for i in range(len(prediction)):\n",
    "        difference = np.abs(prediction[i] - actual[i])\n",
    "        errors.append(difference)\n",
    "    return statistics.median(errors)\n",
    "\n",
    "def get_r_value(predicted_ages_list, actual_ages_list):\n",
    "    r_value = np.corrcoef(actual_ages_list, predicted_ages_list)[0,1]\n",
    "    return r_value\n",
    "\n",
    "def get_r_squared(predicted_ages_list, actual_ages_list):\n",
    "    return (get_r_value(predicted_ages_list, actual_ages_list)**2)\n",
    "\n",
    "def plot_predictions(predicted_ages_list, actual_ages_list):\n",
    "    plt.plot(actual_ages_list, predicted_ages_list, 'ko')\n",
    "    plt.ylabel(\"Predicted Age\")\n",
    "    plt.xlabel(\"Actual Age\")\n",
    "    plt.title(\"Lasso LARS Model of Predicted Age (Square Root Transform)\")\n",
    "    plt.text(8, 2, \"Median Absolute Error: 0.6522\")\n",
    "    plt.text(8, 1, \"R squared: 0.8939\")\n",
    "    plt.plot(actual_ages_list, actual_ages_list, 'r--')\n",
    "    plt.savefig('Predicted_vs_actual_lars_sqrt_unduplicated.png', dpi = 300)\n",
    "    plt.show()\n",
    "    print(\"R squared: \", get_r_squared(predicted_ages_list, actual_ages_list))\n",
    "    print(\"R value: \", get_r_value(predicted_ages_list, actual_ages_list))\n",
    "    print(\"Median Absolute Error: \", get_median_abs_error(predicted_ages_list, actual_ages_list))"
   ]
  },
  {
   "cell_type": "code",
   "execution_count": 116,
   "metadata": {},
   "outputs": [
    {
     "data": {
      "image/png": "[encoded data removed]",
      "text/plain": [
       "<Figure size 432x288 with 1 Axes>"
      ]
     },
     "metadata": {
      "needs_background": "light"
     },
     "output_type": "display_data"
    },
    {
     "name": "stdout",
     "output_type": "stream",
     "text": [
      "R squared:  0.8938768363438215\n",
      "R value:  0.9454505996316368\n",
      "Median Absolute Error:  0.6522345393833326\n"
     ]
    }
   ],
   "source": [
    "plot_predictions(np.square(lars_predict_sqrt), ages)\n",
    "# Predict square root of age"
   ]
  },
  {
   "cell_type": "code",
   "execution_count": 117,
   "metadata": {},
   "outputs": [
    {
     "data": {
      "text/plain": [
       "[6.661468857328449,\n",
       " 11.640501420093877,\n",
       " 6.475165477104342,\n",
       " 0.5992670200685852,\n",
       " 1.1252856353186673,\n",
       " 1.3671014309419172,\n",
       " 3.015124393905721,\n",
       " 13.54184743912353,\n",
       " -0.9502415716916977,\n",
       " 1.487191166801498,\n",
       " 3.405093399679993,\n",
       " 12.734632167474002,\n",
       " 11.286649802653496,\n",
       " 8.878291121412706,\n",
       " 1.8645004233438263,\n",
       " 5.254245222329637,\n",
       " 12.001505920106334,\n",
       " 12.338414123509946,\n",
       " 10.262917302622007,\n",
       " 3.929325302956511,\n",
       " 6.220953057114215,\n",
       " 7.9330248456396495,\n",
       " 9.472849518080247,\n",
       " 1.7058987808031905,\n",
       " 5.1530929634640525,\n",
       " 0.2577091961360374,\n",
       " 2.71510674488073,\n",
       " 9.174819434125427,\n",
       " 7.273479688630921,\n",
       " 3.897039646601808,\n",
       " 7.589745205129136,\n",
       " 12.098380468471095,\n",
       " 12.231612419635546,\n",
       " 1.3825609994705825,\n",
       " 2.297899732664286,\n",
       " 2.0058768336142414,\n",
       " 1.8501508961424635,\n",
       " 15.01540193080492,\n",
       " 10.567764267506838,\n",
       " 8.269784686280719,\n",
       " 10.437294771173967,\n",
       " 6.588993510697668,\n",
       " 6.664136059947214,\n",
       " 3.9592992841500103,\n",
       " 5.588461064164253,\n",
       " 3.3133151848822386,\n",
       " 3.0697226435282614,\n",
       " 7.924515254476766,\n",
       " 3.4758404429516023,\n",
       " 2.7677050332332405,\n",
       " -0.43164963148006397,\n",
       " 4.3545540616285265,\n",
       " 0.4462465539528817,\n",
       " 0.0370154862086749,\n",
       " 2.4374619027267745,\n",
       " 9.129542930357523,\n",
       " 8.947798631274683,\n",
       " 11.131693345967907,\n",
       " 1.2885606503459504,\n",
       " 1.4708285471546692,\n",
       " 12.133124917193339,\n",
       " 9.99538180482273,\n",
       " 8.331434273077715,\n",
       " 5.313265095734408,\n",
       " 2.9328070702154694,\n",
       " 6.408010642312663,\n",
       " 1.3643576528976742,\n",
       " 2.503450977890134,\n",
       " 2.401600096380103,\n",
       " 2.6708544053333814,\n",
       " 10.679534833261684,\n",
       " 2.2933806618244166,\n",
       " 2.4179816098531166,\n",
       " 0.7689747114918504,\n",
       " 4.1405489885540065,\n",
       " 6.670752377521914,\n",
       " 2.0804678284591085,\n",
       " 2.8070898044000145,\n",
       " 0.7010676886372353,\n",
       " 5.249165038320334,\n",
       " 12.746349365428074,\n",
       " 7.097780252300836,\n",
       " 4.345966910749503,\n",
       " 1.2258654054320162,\n",
       " 10.960718617853143,\n",
       " 3.444894424452778,\n",
       " 8.040112335541847,\n",
       " 8.3587741436436,\n",
       " 1.2347790311420859,\n",
       " 1.3072262319680914,\n",
       " 8.104499302614972,\n",
       " 6.014356028878817,\n",
       " 0.7569029297505407,\n",
       " 4.011403091367964,\n",
       " 7.639224759898736,\n",
       " 8.812075711319526,\n",
       " 6.815436448014443,\n",
       " 9.45221920975614,\n",
       " 3.2158998864488937,\n",
       " 10.785077205896629,\n",
       " 5.2884685781646805,\n",
       " 0.21598199321067302,\n",
       " 7.441745879734243,\n",
       " 4.801268152652027,\n",
       " 2.870488874309684,\n",
       " 2.390688014803449,\n",
       " 1.067258579078704,\n",
       " 2.461678795617752,\n",
       " 0.6032651687336124,\n",
       " 2.9119792479360846,\n",
       " 6.863815739604223,\n",
       " 6.850503095382461,\n",
       " 4.02738897607011,\n",
       " 7.541640676873847,\n",
       " 1.483110867725955,\n",
       " 7.674839408581037,\n",
       " 1.7895385668925803,\n",
       " 5.994971686032915,\n",
       " 0.7610283348694145,\n",
       " 1.5940179785774005,\n",
       " 4.910053492370264,\n",
       " 6.123291425497398,\n",
       " 9.68483104860242,\n",
       " 8.228078743944998,\n",
       " 5.190587778834143,\n",
       " 3.745116681505431,\n",
       " 5.771056464809777,\n",
       " 4.831379463927206,\n",
       " 1.2879337709778456,\n",
       " 11.97559674047825,\n",
       " 2.9397034331298877,\n",
       " 9.927532890202258,\n",
       " 10.86051157743183,\n",
       " 5.339783323498545,\n",
       " 9.75048783324478,\n",
       " 4.47285773363947,\n",
       " 2.9520297203714927,\n",
       " 4.948784927058229,\n",
       " 5.133812853977097,\n",
       " 9.683180778921988,\n",
       " 2.071372369764572,\n",
       " 9.510742011211626,\n",
       " 1.4499819790192015,\n",
       " 0.45879366487764006,\n",
       " 2.1971112028104898,\n",
       " 2.68646815804835,\n",
       " -0.6436197186566748]"
      ]
     },
     "execution_count": 117,
     "metadata": {},
     "output_type": "execute_result"
    }
   ],
   "source": [
    "list(lars_predict)"
   ]
  },
  {
   "cell_type": "code",
   "execution_count": 20,
   "metadata": {},
   "outputs": [
    {
     "data": {
      "text/plain": [
       "Text(0.5, 0, 'Individual')"
      ]
     },
     "execution_count": 20,
     "metadata": {},
     "output_type": "execute_result"
    },
    {
     "data": {
      "image/png": "[encoded data removed]",
      "text/plain": [
       "<Figure size 432x288 with 1 Axes>"
      ]
     },
     "metadata": {
      "needs_background": "light"
     },
     "output_type": "display_data"
    }
   ],
   "source": [
    "triplicate_ranges = {1:[], 2:[], 3:[], 4:[], 5:[], 6:[], 7:[],\\\n",
    "                     8:[], 9:[], 10:[], 11:[], 12:[], 13:[]}\n",
    "for x in triplicate_ranges:\n",
    "    temp = []\n",
    "    for y in triplicates[x]:\n",
    "        temp.append(np.square(lars_predict_sqrt[y]))\n",
    "    triplicate_ranges[x] = temp\n",
    "    \n",
    "fig, ax = plt.subplots()\n",
    "ax.boxplot(triplicate_ranges.values())\n",
    "ax.set_xticklabels(triplicate_ranges.keys())\n",
    "ax.title.set_text('Prediction Ranges per Individual')\n",
    "ax.set_ylabel('Predicted Age')\n",
    "ax.set_xlabel('Individual')\n",
    "# plt.savefig('Prediction_ranges.png', dpi = 300)"
   ]
  },
  {
   "cell_type": "code",
   "execution_count": 79,
   "metadata": {},
   "outputs": [
    {
     "name": "stdout",
     "output_type": "stream",
     "text": [
      "Median of Standard Deviation for Triplicates: 0.673237622289822\n"
     ]
    }
   ],
   "source": [
    "triplicate_range_for_median = []\n",
    "for x in triplicate_ranges:\n",
    "    triplicate_range_for_median.append(np.std(triplicate_ranges[x]))\n",
    "    \n",
    "triplicate_range_for_median = np.array(triplicate_range_for_median)\n",
    "print(\"Median of Standard Deviation for Triplicates:\", statistics.median(triplicate_range_for_median))"
   ]
  },
  {
   "cell_type": "code",
   "execution_count": 20,
   "metadata": {},
   "outputs": [
    {
     "data": {
      "text/plain": [
       "[6.661468857328449,\n",
       " 11.640501420093877,\n",
       " 6.475165477104342,\n",
       " 0.5992670200685852,\n",
       " 1.1252856353186673,\n",
       " 1.3671014309419172,\n",
       " 3.015124393905721,\n",
       " 13.54184743912353,\n",
       " -0.9502415716916977,\n",
       " 1.487191166801498,\n",
       " 3.405093399679993,\n",
       " 12.734632167474002,\n",
       " 11.286649802653496,\n",
       " 8.878291121412706,\n",
       " 1.8645004233438263,\n",
       " 5.254245222329637,\n",
       " 12.001505920106334,\n",
       " 12.338414123509946,\n",
       " 10.262917302622007,\n",
       " 3.929325302956511,\n",
       " 6.220953057114215,\n",
       " 7.9330248456396495,\n",
       " 9.472849518080247,\n",
       " 1.7058987808031905,\n",
       " 5.1530929634640525,\n",
       " 1.4267039088319535,\n",
       " 2.3949050059478263,\n",
       " 10.332032060558328,\n",
       " 7.71579772906935,\n",
       " 12.022562753745373,\n",
       " 6.689853389091237,\n",
       " 12.028535783852865,\n",
       " 11.80793875275549,\n",
       " 1.1395736366857707,\n",
       " 2.295707729898487,\n",
       " 2.075573346011081,\n",
       " 1.9038342268852366,\n",
       " 14.673966807697187,\n",
       " 10.415102257660998,\n",
       " 8.192966728332028,\n",
       " 10.293511883531718,\n",
       " 6.569300208888478,\n",
       " 6.813362469723304,\n",
       " 4.023948232522712,\n",
       " 6.514442060690573,\n",
       " 2.9188899154948507,\n",
       " 3.124983050354106,\n",
       " 7.144776818433945,\n",
       " 3.8610859248348626,\n",
       " 3.247569190852506,\n",
       " 0.13980353952315294,\n",
       " 4.3545540616285265,\n",
       " 0.26709182829221234,\n",
       " 0.02425305139753542,\n",
       " 2.4374619027267745,\n",
       " 9.129542930357523,\n",
       " 8.947798631274683,\n",
       " 11.131693345967907,\n",
       " 1.2885606503459504,\n",
       " 1.4708285471546692,\n",
       " 12.133124917193339,\n",
       " 9.99538180482273,\n",
       " 8.331434273077715,\n",
       " 5.313265095734408,\n",
       " 2.9328070702154694,\n",
       " 6.408010642312663,\n",
       " 1.3643576528976742,\n",
       " 2.503450977890134,\n",
       " 2.401600096380103,\n",
       " 2.6708544053333814,\n",
       " 10.679534833261684,\n",
       " 2.2933806618244166,\n",
       " 2.4179816098531166,\n",
       " 0.7689747114918504,\n",
       " 4.1405489885540065,\n",
       " 6.670752377521914,\n",
       " 2.0804678284591085,\n",
       " 2.8070898044000145,\n",
       " 0.7010676886372353,\n",
       " 5.249165038320334,\n",
       " 12.746349365428074,\n",
       " 7.097780252300836,\n",
       " 4.345966910749503,\n",
       " 1.2258654054320162,\n",
       " 10.960718617853143,\n",
       " 3.444894424452778,\n",
       " 8.040112335541847,\n",
       " 8.3587741436436,\n",
       " 1.2347790311420859,\n",
       " 1.3072262319680914,\n",
       " 8.104499302614972,\n",
       " 6.014356028878817,\n",
       " 0.7569029297505407,\n",
       " 4.011403091367964,\n",
       " 7.639224759898736,\n",
       " 8.812075711319526,\n",
       " 6.815436448014443,\n",
       " 9.45221920975614,\n",
       " 3.2158998864488937,\n",
       " 10.785077205896629,\n",
       " 5.2884685781646805,\n",
       " 0.21598199321067302,\n",
       " 7.441745879734243,\n",
       " 4.801268152652027,\n",
       " 2.870488874309684,\n",
       " 2.390688014803449,\n",
       " 1.067258579078704,\n",
       " 2.461678795617752,\n",
       " 0.6032651687336124,\n",
       " 2.9119792479360846,\n",
       " 6.863815739604223,\n",
       " 6.850503095382461,\n",
       " 4.02738897607011,\n",
       " 7.541640676873847,\n",
       " 1.483110867725955,\n",
       " 7.674839408581037,\n",
       " 1.7895385668925803,\n",
       " 5.994971686032915,\n",
       " 0.7610283348694145,\n",
       " 1.5940179785774005,\n",
       " 4.910053492370264,\n",
       " 6.123291425497398,\n",
       " 9.68483104860242,\n",
       " 8.228078743944998,\n",
       " 5.190587778834143,\n",
       " 3.745116681505431,\n",
       " 5.771056464809777,\n",
       " 4.831379463927206,\n",
       " 1.2879337709778456,\n",
       " 11.97559674047825,\n",
       " 2.9397034331298877,\n",
       " 9.927532890202258,\n",
       " 10.86051157743183,\n",
       " 5.339783323498545,\n",
       " 9.75048783324478,\n",
       " 4.47285773363947,\n",
       " 2.9520297203714927,\n",
       " 4.948784927058229,\n",
       " 5.133812853977097,\n",
       " 9.683180778921988,\n",
       " 2.071372369764572,\n",
       " 9.510742011211626,\n",
       " 1.4499819790192015,\n",
       " 0.45879366487764006,\n",
       " 2.1971112028104898,\n",
       " 2.68646815804835,\n",
       " -0.6436197186566748]"
      ]
     },
     "execution_count": 20,
     "metadata": {},
     "output_type": "execute_result"
    }
   ],
   "source": [
    "list(lars_predict)"
   ]
  },
  {
   "cell_type": "markdown",
   "metadata": {},
   "source": [
    "## Pacemaker Prediction"
   ]
  },
  {
   "cell_type": "code",
   "execution_count": 21,
   "metadata": {},
   "outputs": [],
   "source": [
    "from EpigeneticPacemaker.EpigeneticPacemaker import EpigeneticPacemaker"
   ]
  },
  {
   "cell_type": "code",
   "execution_count": 22,
   "metadata": {},
   "outputs": [],
   "source": [
    "def pearson_correlation(meth_matrix: np.array, phenotype: np.array) -> np.array:\n",
    "    \"\"\"calculate pearson correlation coefficient between rows of input matrix and phenotype\"\"\"\n",
    "    # calculate mean for each row and phenotype mean\n",
    "    matrix_means = np.mean(meth_matrix, axis=0)\n",
    "    phenotype_mean = np.mean(phenotype)\n",
    "\n",
    "    # subtract means from observed values\n",
    "    transformed_matrix = np.transpose(meth_matrix) - matrix_means.reshape([-1,1])\n",
    "    transformed_phenotype = phenotype - phenotype_mean\n",
    "\n",
    "    # calculate covariance\n",
    "    covariance = np.sum(transformed_matrix * transformed_phenotype, axis=1)\n",
    "#     print(\"Covariance shape: \", covariance.shape, \"\\n\", covariance)\n",
    "    sums = np.sum(transformed_matrix ** 2, axis=1)\n",
    "    variance_meth = []\n",
    "    for i in sums:\n",
    "        variance_meth.append(np.sqrt(i))\n",
    "    variance_meth = np.array(variance_meth)\n",
    "#     variance_meth = np.sqrt(np.sum(transformed_matrix ** 2, axis=1))\n",
    "#     print(\"Variance meth shape: \", variance_meth.shape, \"\\n\", variance_meth)\n",
    "    variance_phenotype = np.sqrt(np.sum(transformed_phenotype ** 2))\n",
    "#     print(\"Variance pheno shape: \", variance_phenotype.shape, \"\\n\", variance_phenotype)\n",
    "\n",
    "    return covariance / (variance_meth * variance_phenotype)"
   ]
  },
  {
   "cell_type": "code",
   "execution_count": 23,
   "metadata": {},
   "outputs": [],
   "source": [
    "# get the absolute value of the correlation coefficient\n",
    "abs_pcc_coefficients = abs(pearson_correlation(methylation, ages))\n",
    "\n",
    "# print(\"Abs Pearson: \", abs_pcc_coefficients)"
   ]
  },
  {
   "cell_type": "code",
   "execution_count": 24,
   "metadata": {},
   "outputs": [
    {
     "name": "stdout",
     "output_type": "stream",
     "text": [
      "[   5   22   53   54   59   60   61   62   64   67   97  114  115  154\n",
      "  183  194  203  204  205  206  211  229  230  234  235  243  247  251\n",
      "  263  265  301  304  305  306  310  319  364  365  366  378  409  410\n",
      "  413  425  465  524  528  529  532  534  553  556  571  572  576  591\n",
      "  593  594  600  601  622  625  626  627  630  631  658  674  681  682\n",
      "  703  704  734  744  745  750  761  762  790  791  792  793  812  830\n",
      "  843  887  905  915  916  964  965  966  967  968  970  971  975  977\n",
      "  978 1014 1015 1060 1080 1352 1656 1665 1693 1695 1810 1811 1935 1936\n",
      " 1937 2000 2001 2002 2008 2009 2031 2112 2113 2126 2259 2325]\n"
     ]
    }
   ],
   "source": [
    "# return list of site indices with a high absolute correlation coefficient\n",
    "training_sites = np.where(abs_pcc_coefficients > .6)[0]\n",
    "\n",
    "print(training_sites)"
   ]
  },
  {
   "cell_type": "code",
   "execution_count": 25,
   "metadata": {},
   "outputs": [],
   "source": [
    "from matplotlib import rc\n",
    "from scipy import optimize\n",
    "import scipy.stats as stats\n",
    "\n",
    "def plot_known_predicted_ages(known_ages, predicted_ages, label=None):\n",
    "    # define optimization function\n",
    "    def func(x, a, b, c):\n",
    "        return a * np.asarray(x)**0.5 + c\n",
    "    def func_2(x, a, b, c):\n",
    "        return a * np.asarray(x) + c\n",
    "    def func_3(x, a, b, c):\n",
    "        return a * np.log(np.asarray(x)) + c\n",
    "    \n",
    "    # fit trend line\n",
    "    popt, pcov = optimize.curve_fit(func, [1 + x for x in known_ages], predicted_ages)\n",
    "    popt_2, pcov_2 = optimize.curve_fit(func_2, [1 + x for x in known_ages], predicted_ages)\n",
    "    popt_3, pcov_3 = optimize.curve_fit(func_3, [1 + x for x in known_ages], predicted_ages)\n",
    "    \n",
    "    # get r squared\n",
    "    rsquared = r2(predicted_ages, func([1 + x for x in known_ages], *popt))\n",
    "    rsquared_2 = r2(predicted_ages, func_2([1 + x for x in known_ages], *popt_2))\n",
    "    rsquared_3 = r2(predicted_ages, func_3([1 + x for x in known_ages], *popt_3))\n",
    "    \n",
    "    # format plot label\n",
    "    plot_label = f'$f(x)={popt[0]:.2f}x^{{1/2}} {popt[2]:.2f}, R^{{2}}={rsquared:.2f}$'\n",
    "    plot_label_2 = f'$f(x)={popt_2[0]:.2f}x {popt_2[2]:.2f}, R^{{2}}={rsquared_2:.2f}$'\n",
    "    plot_label_3 = f'$f(x)={popt_3[0]:.2f}ln(x) {popt_3[2]:.2f}, R^{{2}}={rsquared_3:.2f}$'\n",
    "    \n",
    "    # initialize plt plot\n",
    "    fig, ax = plt.subplots(figsize=(12,12))\n",
    "    # plot trend line\n",
    "    ax.plot(sorted(known_ages), func(sorted([1 + x for x in known_ages]), *popt), 'r--', label=plot_label)\n",
    "    ax.plot(sorted(known_ages), func_2(sorted([1 + x for x in known_ages]), *popt_2), 'b--', label=plot_label_2)\n",
    "    ax.plot(sorted(known_ages), func_3(sorted([1 + x for x in known_ages]), *popt_3), 'g--', label=plot_label_3)\n",
    "    \n",
    "    # scatter plot\n",
    "    ax.scatter(known_ages, predicted_ages, marker='o', alpha=0.8, color='k')\n",
    "    ax.set_title(label, fontsize=18)\n",
    "    ax.set_xlabel('Chronological Age', fontsize=16)\n",
    "    ax.set_ylabel('Epigenetic State', fontsize=16)\n",
    "    ax.tick_params(axis='both', which='major', labelsize=16)\n",
    "    ax.legend(fontsize=16)\n",
    "#     plt.savefig('Epi_pacemaker.png', dpi=300)\n",
    "    plt.show()\n",
    "    \n",
    "# def plot_known_predicted_ages(known_ages, predicted_ages, label=None):\n",
    "#     # define optimization function\n",
    "#     def func_3(x, a, b, c):\n",
    "#         return a * np.log(np.asarray(x)) + c\n",
    "#     # fit trend line\n",
    "#     popt, pcov = optimize.curve_fit(func_3, [1 + x for x in known_ages], predicted_ages)\n",
    "#     # get r squared\n",
    "#     rsquared = r2(predicted_ages, func_3([1 + x for x in known_ages], *popt))\n",
    "#     # format plot label\n",
    "#     plot_label = f'$f(x)={popt[0]:.2f}ln(x) {popt[2]:.2f}, R^{{2}}={rsquared:.2f}$'\n",
    "#     # initialize plt plot\n",
    "#     fig, ax = plt.subplots(figsize=(12,12))\n",
    "#     # plot trend line\n",
    "#     ax.plot(sorted(known_ages), func_3(sorted([1 + x for x in known_ages]), *popt), 'g--', label=plot_label)\n",
    "#     # scatter plot\n",
    "#     ax.scatter(known_ages, predicted_ages, marker='o', alpha=0.8, color='k')\n",
    "#     ax.set_title(label, fontsize=18)\n",
    "#     ax.set_xlabel('Chronological Age', fontsize=16)\n",
    "#     ax.set_ylabel('Epigenetic State', fontsize=16)\n",
    "#     ax.tick_params(axis='both', which='major', labelsize=16)\n",
    "#     ax.legend(fontsize=16)\n",
    "#     plt.savefig('Epi_pacemaker.png')\n",
    "#     plt.show()\n",
    "    \n",
    "# use latex formatting for plots\n",
    "rc('text', usetex=False)\n",
    "\n",
    "def r2(x,y):\n",
    "    # return r squared\n",
    "    return stats.pearsonr(x,y)[0] **2"
   ]
  },
  {
   "cell_type": "code",
   "execution_count": 26,
   "metadata": {},
   "outputs": [
    {
     "name": "stdout",
     "output_type": "stream",
     "text": [
      "Short Table:  (124, 147)\n"
     ]
    }
   ],
   "source": [
    "# initialize the EPM model \n",
    "epm = EpigeneticPacemaker(iter_limit=100, error_tolerance=0.00001)\n",
    "\n",
    "table = methylation\n",
    "short_table = np.transpose(table[:,training_sites])\n",
    "print(\"Short Table: \", short_table.shape)\n",
    "\n",
    "# fit the model using the training data\n",
    "epm.fit(short_table, ages)\n",
    "\n",
    "# generate predicted ages using the test data\n",
    "pacemaker_state_predict = epm.predict(short_table)"
   ]
  },
  {
   "cell_type": "code",
   "execution_count": 27,
   "metadata": {},
   "outputs": [
    {
     "name": "stderr",
     "output_type": "stream",
     "text": [
      "C:\\Users\\patri\\anaconda3\\lib\\site-packages\\scipy\\optimize\\minpack.py:828: OptimizeWarning: Covariance of the parameters could not be estimated\n",
      "  warnings.warn('Covariance of the parameters could not be estimated',\n"
     ]
    },
    {
     "data": {
      "image/png": "[encoded data removed]",
      "text/plain": [
       "<Figure size 864x864 with 1 Axes>"
      ]
     },
     "metadata": {
      "needs_background": "light"
     },
     "output_type": "display_data"
    }
   ],
   "source": [
    "plot_known_predicted_ages(ages, pacemaker_state_predict, 'Epigenetic Pacemaker')\n",
    "# Predict square root of age\n",
    "# Put in table - both predictions + actual"
   ]
  },
  {
   "cell_type": "markdown",
   "metadata": {},
   "source": [
    "## Significance Tests"
   ]
  },
  {
   "cell_type": "code",
   "execution_count": 124,
   "metadata": {},
   "outputs": [],
   "source": [
    "import statsmodels.api as sm"
   ]
  },
  {
   "cell_type": "code",
   "execution_count": 125,
   "metadata": {},
   "outputs": [
    {
     "name": "stdout",
     "output_type": "stream",
     "text": [
      "(147,)\n",
      "Males:  67\n",
      "Females:  80\n",
      "Others:  0\n"
     ]
    }
   ],
   "source": [
    "sexes_int = []\n",
    "weights_int = []\n",
    "\n",
    "male_num = 0\n",
    "female_num = 0\n",
    "other_num = 0\n",
    "\n",
    "for i in range(len(sexes)):\n",
    "    if sexes[i][0] == 'M':\n",
    "        sexes_int.append(0)\n",
    "        male_num += 1\n",
    "    elif sexes[i][0] == 'F':\n",
    "        sexes_int.append(1)\n",
    "        female_num += 1\n",
    "    else:\n",
    "        print(i)\n",
    "        other_num += 1\n",
    "        \n",
    "for weight in weights:\n",
    "    weights_int.append(float(weight))\n",
    "\n",
    "sexes_int = np.array(sexes_int)\n",
    "print(sexes_int.shape)\n",
    "print(\"Males: \", male_num)\n",
    "print(\"Females: \", female_num)\n",
    "print(\"Others: \", other_num)"
   ]
  },
  {
   "cell_type": "code",
   "execution_count": 126,
   "metadata": {},
   "outputs": [],
   "source": [
    "spayeds_int = []\n",
    "\n",
    "for j in range(len(spayeds)):\n",
    "    if spayeds[j] == 'nan':\n",
    "        spayeds_int.append(0)\n",
    "    elif spayeds[j][0] == 'Y' or spayeds[j][0] == 'y':\n",
    "        spayeds_int.append(1)\n",
    "    elif spayeds[j][1] == 'E' or spayeds[j][1] == 'e':\n",
    "        spayeds_int.append(1)\n",
    "    elif spayeds[j][0] == 'S' or spayeds[j][0] == 's':\n",
    "        spayeds_int.append(1)\n",
    "    else:\n",
    "        spayeds_int.append(0)\n",
    "        \n",
    "spayeds_int = np.array(spayeds_int)"
   ]
  },
  {
   "cell_type": "code",
   "execution_count": 127,
   "metadata": {},
   "outputs": [],
   "source": [
    "# age_sexes = ages * sexes_int\n",
    "age_weights = ages * weights_int\n",
    "# age_spayed = ages * spayeds_int\n",
    "# age_hetero = ages * heteros\n",
    "# age_FOH = ages * FOHs"
   ]
  },
  {
   "cell_type": "code",
   "execution_count": 128,
   "metadata": {},
   "outputs": [],
   "source": [
    "stack = np.stack((ages, age_weights), axis = 1)\n",
    "\n",
    "# Instead of age-squared, use square root of age"
   ]
  },
  {
   "cell_type": "code",
   "execution_count": 129,
   "metadata": {},
   "outputs": [
    {
     "name": "stdout",
     "output_type": "stream",
     "text": [
      "      Age  Age*Weight\n",
      "0     6.8       238.0\n",
      "1    12.9       580.5\n",
      "2     5.6       252.0\n",
      "3     1.1        49.5\n",
      "4     1.1        46.2\n",
      "..    ...         ...\n",
      "142   1.0       130.0\n",
      "143   2.3        27.6\n",
      "144   1.7       185.3\n",
      "145   2.0        60.0\n",
      "146   0.4         3.6\n",
      "\n",
      "[147 rows x 2 columns]\n"
     ]
    }
   ],
   "source": [
    "stack_df = pd.DataFrame(stack, columns = ['Age', 'Age*Weight'])\n",
    "\n",
    "print(stack_df)"
   ]
  },
  {
   "cell_type": "markdown",
   "metadata": {},
   "source": [
    "**Lars Predictions**"
   ]
  },
  {
   "cell_type": "code",
   "execution_count": 130,
   "metadata": {},
   "outputs": [
    {
     "data": {
      "image/png": "[encoded data removed]",
      "text/plain": [
       "<Figure size 864x504 with 1 Axes>"
      ]
     },
     "metadata": {
      "needs_background": "light"
     },
     "output_type": "display_data"
    }
   ],
   "source": [
    "lars_sqrt_model = sm.OLS(lars_predict, stack_df)\n",
    "lars_sqrt_fit = lars_sqrt_model.fit()\n",
    "lars_sqrt_fit.summary()\n",
    "\n",
    "plt.rc('figure', figsize=(12, 7))\n",
    "#plt.text(0.01, 0.05, str(model.summary()), {'fontsize': 12}) old approach\n",
    "plt.text(0.01, 0.05, str(lars_sqrt_fit.summary()), {'fontsize': 10}, fontproperties = 'monospace') # approach improved by OP -> monospace!\n",
    "plt.axis('off')\n",
    "plt.tight_layout()\n",
    "# plt.savefig('Lars_Transform_Statsmodels_only.png', dpi=300)\n",
    "\n",
    "# Put this in docs (export figure), and fix the labeling"
   ]
  },
  {
   "cell_type": "code",
   "execution_count": 72,
   "metadata": {},
   "outputs": [
    {
     "data": {
      "image/png": "[encoded data removed]",
      "text/plain": [
       "<Figure size 864x504 with 1 Axes>"
      ]
     },
     "metadata": {
      "needs_background": "light"
     },
     "output_type": "display_data"
    }
   ],
   "source": [
    "lars_model = sm.OLS(lars_predict, stack_df)\n",
    "lars_fit = lars_model.fit()\n",
    "lars_fit.summary()\n",
    "\n",
    "plt.rc('figure', figsize=(12, 7))\n",
    "#plt.text(0.01, 0.05, str(model.summary()), {'fontsize': 12}) old approach\n",
    "plt.text(0.01, 0.05, str(lars_fit.summary()), {'fontsize': 10}, fontproperties = 'monospace') # approach improved by OP -> monospace!\n",
    "plt.axis('off')\n",
    "plt.tight_layout()\n",
    "plt.savefig('Lars_Statsmodels_no_sqrt.png')\n",
    "\n",
    "# Put this in docs (export figure), and fix the labeling"
   ]
  },
  {
   "cell_type": "markdown",
   "metadata": {},
   "source": [
    "**Pacemaker Predictions**"
   ]
  },
  {
   "cell_type": "code",
   "execution_count": 35,
   "metadata": {},
   "outputs": [
    {
     "data": {
      "image/png": "[encoded data removed]",
      "text/plain": [
       "<Figure size 864x504 with 1 Axes>"
      ]
     },
     "metadata": {
      "needs_background": "light"
     },
     "output_type": "display_data"
    }
   ],
   "source": [
    "pacemaker_model = sm.OLS(pacemaker_state_predict, stack_df)\n",
    "pacemaker_fit = pacemaker_model.fit()\n",
    "pacemaker_fit.summary()\n",
    "\n",
    "plt.rc('figure', figsize=(12, 7))\n",
    "#plt.text(0.01, 0.05, str(model.summary()), {'fontsize': 12}) old approach\n",
    "plt.text(0.01, 0.05, str(pacemaker_fit.summary()), {'fontsize': 10}, fontproperties = 'monospace') # approach improved by OP -> monospace!\n",
    "plt.axis('off')\n",
    "plt.tight_layout()\n",
    "plt.savefig('Pacemaker_Statsmodels.png')"
   ]
  },
  {
   "cell_type": "markdown",
   "metadata": {},
   "source": [
    "## Predicting Wolves"
   ]
  },
  {
   "cell_type": "code",
   "execution_count": 78,
   "metadata": {},
   "outputs": [
    {
     "name": "stdout",
     "output_type": "stream",
     "text": [
      "R squared:  0.6836444734239215\n",
      "R value:  0.8268279587821892\n",
      "Median Absolute Error:  1.2380399102925206\n"
     ]
    },
    {
     "data": {
      "image/png": "[encoded data removed]",
      "text/plain": [
       "<Figure size 432x288 with 1 Axes>"
      ]
     },
     "metadata": {
      "needs_background": "light"
     },
     "output_type": "display_data"
    }
   ],
   "source": [
    "wolves_methylation = Wolves_CG_table\n",
    "\n",
    "wolves_predict = LassoLars(alpha = 0.02)\n",
    "wolves_predict.fit(methylation, ages)\n",
    "predictions = wolves_predict.predict(wolves_methylation)\n",
    "\n",
    "plt.plot(wolves_ages, predictions, 'ko')\n",
    "plt.plot(wolves_ages, wolves_ages, 'r--')\n",
    "plt.title('Predicting Wolves Using Lasso LARS Model')\n",
    "plt.xlabel('Actual Age')\n",
    "plt.ylabel('Predicted Age')\n",
    "plt.savefig('Wolves_predictions.png', dpi=300)\n",
    "\n",
    "print(\"R squared: \", get_r_squared(predictions, wolves_ages))\n",
    "print(\"R value: \", get_r_value(predictions, wolves_ages))\n",
    "print(\"Median Absolute Error: \", get_median_abs_error(predictions, wolves_ages))"
   ]
  },
  {
   "cell_type": "code",
   "execution_count": null,
   "metadata": {},
   "outputs": [],
   "source": [
    "# Look for the triplicates. For each one, find the range of age predictions (min to max)"
   ]
  }
 ],
 "metadata": {
  "kernelspec": {
   "display_name": "Python 3",
   "language": "python",
   "name": "python3"
  },
  "language_info": {
   "codemirror_mode": {
    "name": "ipython",
    "version": 3
   },
   "file_extension": ".py",
   "mimetype": "text/x-python",
   "name": "python",
   "nbconvert_exporter": "python",
   "pygments_lexer": "ipython3",
   "version": "3.8.5"
  }
 },
 "nbformat": 4,
 "nbformat_minor": 4
}
