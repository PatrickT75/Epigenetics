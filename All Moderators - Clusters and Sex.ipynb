{
 "cells": [
  {
   "cell_type": "code",
   "execution_count": 2,
   "metadata": {},
   "outputs": [],
   "source": [
    "import numpy as np\n",
    "import matplotlib.pyplot as plt"
   ]
  },
  {
   "cell_type": "code",
   "execution_count": 7,
   "metadata": {},
   "outputs": [],
   "source": [
    "n_groups = 4\n",
    "sex = (8.4531, 13.8322, 6.3079, 4.7798)\n",
    "sexp = (0, 0, 0, 0.001)\n",
    "sexstars = ('***', '***', '***', '***')\n",
    "sexmod = (-0.1355, -0.2231, -0.1041, -0.0802)\n",
    "sexpmod = (0, 0, 0, 0.002)\n",
    "sexmodstars = ('***', '***', '***', '***')"
   ]
  },
  {
   "cell_type": "code",
   "execution_count": 9,
   "metadata": {},
   "outputs": [
    {
     "data": {
      "image/png": "[encoded data removed]",
      "text/plain": [
       "<Figure size 432x288 with 1 Axes>"
      ]
     },
     "metadata": {
      "needs_background": "light"
     },
     "output_type": "display_data"
    }
   ],
   "source": [
    "figsex, axsex = plt.subplots()\n",
    "index = np.arange(n_groups)\n",
    "bar_width = 0.35\n",
    "opacity = 0.8\n",
    "\n",
    "sex1 = plt.bar(index, sex, bar_width,\n",
    "alpha=opacity,\n",
    "color='b',\n",
    "label='Sex')\n",
    "\n",
    "sex2 = plt.bar(index + bar_width, sexmod, bar_width,\n",
    "alpha=opacity,\n",
    "color='g',\n",
    "label='Sex * Age')\n",
    "\n",
    "axsex.set_ylabel('Coefficient')\n",
    "axsex.set_title('Sex Moderation of Age')\n",
    "axsex.set_xticks(index + 0.35/2)\n",
    "axsex.set_xticklabels(('LARS', 'PLS', 'ElasticNet', 'Ridge'))\n",
    "axsex.legend()\n",
    "\n",
    "axsex.bar_label(sex1, labels = sexstars)\n",
    "axsex.bar_label(sex2, labels = sexmodstars)\n",
    "\n",
    "figsex.savefig('Sex Moderators.png', dpi=300)"
   ]
  },
  {
   "cell_type": "code",
   "execution_count": 14,
   "metadata": {},
   "outputs": [],
   "source": [
    "n_groups_cluster = 10\n",
    "bucclust = (8.087e+04, 4.709e+04, 2145.2907, 7585.5049, 1.256e+04, 4640.7020, 1120.4634, 4.079e+04, 5065.1918, 7262.7491)\n",
    "bucclustp = (0.009, 0.139, 0.124, 0.389, 0.041, 0.185, 0.402, 0.072, 0.072, 0.001)\n",
    "buccluststars = ('**',' ', ' ', ' ', '*', ' ', ' ', ' ', ' ', '***')\n",
    "bucclustmod = (-1947.0608, -1247.6499, -43.3302, -174.6552, -178.8112, 4.9554, 24.6803, -801.3961, -122.0535, -135.8191)\n",
    "bucclustpmod = (0.025, 0.274, 0.273, 0.552, 0.113, 0.922, 0.602, 0.079, 0.091, 0.007)\n",
    "bucclustmodstars = ('*', ' ', ' ', ' ', ' ', ' ', ' ', ' ', ' ', '**')"
   ]
  },
  {
   "cell_type": "code",
   "execution_count": 19,
   "metadata": {},
   "outputs": [
    {
     "data": {
      "image/png": "[encoded data removed]",
      "text/plain": [
       "<Figure size 432x288 with 1 Axes>"
      ]
     },
     "metadata": {
      "needs_background": "light"
     },
     "output_type": "display_data"
    }
   ],
   "source": [
    "figbucclust, axbucclust = plt.subplots()\n",
    "index = np.arange(n_groups_cluster)\n",
    "bar_width = 0.35\n",
    "opacity = 0.8\n",
    "\n",
    "bucclust1 = plt.bar(index, bucclust, bar_width,\n",
    "alpha=opacity,\n",
    "color='b',\n",
    "label='Cluster')\n",
    "\n",
    "bucclust2 = plt.bar(index + bar_width, bucclustmod, bar_width,\n",
    "alpha=opacity,\n",
    "color='g',\n",
    "label='Cluster * Age')\n",
    "\n",
    "axbucclust.set_ylabel('Coefficient')\n",
    "axbucclust.set_title('Clusters in Buccal Cohort')\n",
    "axbucclust.set_xticks(index + 0.35/2)\n",
    "axbucclust.set_xticklabels(('0', '1', '2', '3', '4', '5', '6', '7', '8', 'Mito'))\n",
    "axbucclust.legend()\n",
    "\n",
    "axbucclust.bar_label(bucclust1, labels = buccluststars)\n",
    "axbucclust.bar_label(bucclust2, labels = bucclustmodstars)\n",
    "\n",
    "figbucclust.savefig('Buccal Clusters Moderators.png', dpi=300)"
   ]
  },
  {
   "cell_type": "code",
   "execution_count": null,
   "metadata": {},
   "outputs": [],
   "source": []
  }
 ],
 "metadata": {
  "kernelspec": {
   "display_name": "Python 3",
   "language": "python",
   "name": "python3"
  },
  "language_info": {
   "codemirror_mode": {
    "name": "ipython",
    "version": 3
   },
   "file_extension": ".py",
   "mimetype": "text/x-python",
   "name": "python",
   "nbconvert_exporter": "python",
   "pygments_lexer": "ipython3",
   "version": "3.8.5"
  }
 },
 "nbformat": 4,
 "nbformat_minor": 4
}
